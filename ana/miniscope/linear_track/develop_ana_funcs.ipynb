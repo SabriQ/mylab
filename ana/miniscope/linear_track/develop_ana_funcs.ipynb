{
 "cells": [
  {
   "cell_type": "code",
   "execution_count": 4,
   "metadata": {
    "collapsed": true
   },
   "outputs": [
    {
     "name": "stdout",
     "output_type": "stream",
     "text": [
      "loaded info: Z:\\QiuShou\\mouse_info\\191173_info.txt\n",
      "result is loaded\n"
     ]
    },
    {
     "data": {
      "text/plain": [
       "{'idx_ContextCells_allblocks': {'idx_ContextACells_allblocks': [4,\n",
       "   8,\n",
       "   21,\n",
       "   26,\n",
       "   29,\n",
       "   30,\n",
       "   57,\n",
       "   64,\n",
       "   69,\n",
       "   74,\n",
       "   92,\n",
       "   94],\n",
       "  'idx_ContextBCells_allblocks': [6, 14, 15, 17, 25, 34, 42, 49, 60, 68, 87],\n",
       "  'idx_Cells_no_firing': []},\n",
       " 'idx_ContextCells_eachblock': {1: {'idx_ContextACells': [26],\n",
       "   'idx_ContextBCells': [16, 17, 68, 83, 106],\n",
       "   'idx_Cells_disapper': []},\n",
       "  2: {'idx_ContextACells': [4,\n",
       "    11,\n",
       "    16,\n",
       "    19,\n",
       "    21,\n",
       "    23,\n",
       "    26,\n",
       "    29,\n",
       "    48,\n",
       "    54,\n",
       "    56,\n",
       "    71,\n",
       "    86,\n",
       "    92,\n",
       "    93,\n",
       "    94],\n",
       "   'idx_ContextBCells': [7, 17, 34, 42, 61, 68, 91, 98],\n",
       "   'idx_Cells_disapper': [60, 90]},\n",
       "  3: {'idx_ContextACells': [8, 11, 20, 26, 28, 44, 64, 69, 92],\n",
       "   'idx_ContextBCells': [2, 6, 17, 22, 34, 42, 49, 54, 61, 68, 81, 98],\n",
       "   'idx_Cells_disapper': [21, 60, 91]},\n",
       "  4: {'idx_ContextACells': [2, 29, 30, 61, 69, 74],\n",
       "   'idx_ContextBCells': [17, 35, 44, 57, 71, 87],\n",
       "   'idx_Cells_disapper': [21, 60, 64, 105]},\n",
       "  5: {'idx_ContextACells': [22, 29, 31, 36, 52, 61, 69, 87, 91, 98],\n",
       "   'idx_ContextBCells': [2,\n",
       "    6,\n",
       "    7,\n",
       "    14,\n",
       "    19,\n",
       "    25,\n",
       "    26,\n",
       "    27,\n",
       "    30,\n",
       "    44,\n",
       "    45,\n",
       "    49,\n",
       "    51,\n",
       "    62,\n",
       "    68,\n",
       "    71,\n",
       "    106],\n",
       "   'idx_Cells_disapper': [21, 60, 64, 73, 90, 105]},\n",
       "  6: {'idx_ContextACells': [8, 17, 25, 31, 45, 57, 61, 68, 83, 87, 105, 110],\n",
       "   'idx_ContextBCells': [11, 18, 28, 36, 48, 51, 54, 69, 72, 93, 98],\n",
       "   'idx_Cells_disapper': [21, 64, 91]}}}"
      ]
     },
     "execution_count": 4,
     "metadata": {},
     "output_type": "execute_result"
    }
   ],
   "source": [
    "from mylab.ana.linear_track.CminiLWana import MiniLWAna\n",
    "import matplotlib.pyplot as plt\n",
    "import seaborn as sns\n",
    "import scipy.stats as stats\n",
    "import pandas as pd\n",
    "\n",
    "mouse_info_path = r\"Z:\\QiuShou\\mouse_info\\191173_info.txt\"\n",
    "cnmf_result_dir = r\"Z:\\_Lab Data Analysis\\02_Linear_Track\\Miniscope_Linear_Track\\Results_191173\\20191110_160946_20191028-1102all\"\n",
    "lw_ana = MiniLWAna(mouse_info_path,cnmf_result_dir)\n",
    "# lw_ana.select_in_context()\n",
    "lw_ana.Idx_ContextCells"
   ]
  },
  {
   "cell_type": "markdown",
   "metadata": {},
   "source": [
    "## 在所有的session中寻找 context cells（能显著区分两个context的细胞）\n",
    "### 在指定的所有trial中，对每个细胞，进行Wilcoxon_unpaired_ranksumstest,看是否该细胞能够显著区分两个context\n",
    "### 输出的idx_ContextCells [(\"A\",neuron_i`d,p_value,csi)...]\n",
    "\n",
    "### idx_ContextCells_allblocks在第一个block中的变化情况,多个细胞的平均发放率（是否有意义？）\n",
    "#### 在CtxA中，idx_ContextACells 的发放趋势，idx_ContextBCells的发放趋势，其他非idx_ContexACells的发放趋势，发放趋势用线性拟合来说明；在CtxB中同样的操作\n",
    "#### 在CtxA中，idx_ContextACells 对比前后半个session，其发放率是否有变化，idx_ContextBCells呢，其他非idx_ContextACells？；在CtxB中同样的分析"
   ]
  },
  {
   "cell_type": "code",
   "execution_count": 16,
   "metadata": {},
   "outputs": [],
   "source": [
    "idx_ContextCells = lw_ana.Idx_ContextCells"
   ]
  },
  {
   "cell_type": "code",
   "execution_count": 235,
   "metadata": {},
   "outputs": [
    {
     "data": {
      "text/plain": [
       "True"
      ]
     },
     "execution_count": 235,
     "metadata": {},
     "output_type": "execute_result"
    }
   ],
   "source": [
    "stats.kendalltau\n"
   ]
  },
  {
   "cell_type": "code",
   "execution_count": 298,
   "metadata": {},
   "outputs": [
    {
     "name": "stdout",
     "output_type": "stream",
     "text": [
      "[4, 8, 21, 26, 29, 30, 57, 64, 69, 74, 92, 94]\n",
      "[6, 14, 15, 17, 25, 34, 42, 49, 60, 68, 87]\n",
      "{'idx_ContextACells': [8, 17, 25, 31, 45, 57, 61, 68, 83, 87, 105, 110], 'idx_ContextBCells': [11, 18, 28, 36, 48, 51, 54, 69, 72, 93, 98], 'idx_Cells_disapper': [21, 64, 91]}\n"
     ]
    }
   ],
   "source": [
    "a = idx_ContextCells[\"idx_ContextCells_allblocks\"][\"idx_ContextACells_allblocks\"]\n",
    "b = idx_ContextCells[\"idx_ContextCells_allblocks\"][\"idx_ContextBCells_allblocks\"]\n",
    "c = lw_ana.neuron_ids\n",
    "print(a)\n",
    "print(b)\n",
    "print(idx_ContextCells[\"idx_ContextCells_eachblock\"][6])"
   ]
  },
  {
   "cell_type": "code",
   "execution_count": 291,
   "metadata": {},
   "outputs": [
    {
     "name": "stdout",
     "output_type": "stream",
     "text": [
      "43\n"
     ]
    },
    {
     "data": {
      "text/plain": [
       "<BarContainer object of 3 artists>"
      ]
     },
     "execution_count": 291,
     "metadata": {},
     "output_type": "execute_result"
    },
    {
     "data": {
      "image/png": "[encoded data removed]",
      "text/plain": [
       "<Figure size 432x288 with 1 Axes>"
      ]
     },
     "metadata": {
      "needs_background": "light"
     },
     "output_type": "display_data"
    }
   ],
   "source": [
    "in_context_LoRAtrialnum_MeanFr_mssession_NormalizedByBlock = lw_ana.calculate_in_context_LoRAtrialnum_MeanFr_mssession_NormalizedByBlock().set_index([\"block_num\",\"context_order\",\"in_context_trialnum\"])\n",
    "\n",
    "temp= in_context_LoRAtrialnum_MeanFr_mssession_NormalizedByBlock.xs((1,\"A\"),level=(\"block_num\",\"context_order\")).reset_index([\"in_context_trialnum\"])[c]\n",
    "\n",
    "\n",
    "def generate_bin_num(every_N_trials,length):\n",
    "    num = int(np.trunc(length/every_N_trials))\n",
    "    last_bin_num = int(length%every_N_trials)\n",
    "    bin_num = []\n",
    "    for i in range(num):\n",
    "        bin_num = bin_num + [i]*every_N_trials\n",
    "        \n",
    "    if last_bin_num:\n",
    "        bin_num = bin_num + [i+1]*last_bin_num\n",
    "    return bin_num\n",
    "\n",
    "print(temp.shape[0])\n",
    "\n",
    "temp[\"temp_bin_num\"] = generate_bin_num(20,temp.shape[0])\n",
    "temp\n",
    "\n",
    "temp = temp.groupby([\"temp_bin_num\"]).mean()\n",
    "temp\n",
    "\n",
    "x = temp.index\n",
    "y_mean = temp.mean(axis=1)\n",
    "y_std = temp.std(axis=1)\n",
    "list(x)\n",
    "\n",
    "plt.bar(x,y_mean)\n",
    "# sns.regplot(list(x),y_mean.values)"
   ]
  },
  {
   "cell_type": "code",
   "execution_count": 171,
   "metadata": {},
   "outputs": [],
   "source": [
    "plt.errorbar?"
   ]
  },
  {
   "cell_type": "code",
   "execution_count": 134,
   "metadata": {},
   "outputs": [
    {
     "data": {
      "text/html": [
       "<div>\n",
       "<style scoped>\n",
       "    .dataframe tbody tr th:only-of-type {\n",
       "        vertical-align: middle;\n",
       "    }\n",
       "\n",
       "    .dataframe tbody tr th {\n",
       "        vertical-align: top;\n",
       "    }\n",
       "\n",
       "    .dataframe thead th {\n",
       "        text-align: right;\n",
       "    }\n",
       "</style>\n",
       "<table border=\"1\" class=\"dataframe\">\n",
       "  <thead>\n",
       "    <tr style=\"text-align: right;\">\n",
       "      <th></th>\n",
       "      <th>2</th>\n",
       "      <th>4</th>\n",
       "      <th>5</th>\n",
       "    </tr>\n",
       "    <tr>\n",
       "      <th>temp_bin_num</th>\n",
       "      <th></th>\n",
       "      <th></th>\n",
       "      <th></th>\n",
       "    </tr>\n",
       "  </thead>\n",
       "  <tbody>\n",
       "    <tr>\n",
       "      <th>0</th>\n",
       "      <td>0.008833</td>\n",
       "      <td>0.014851</td>\n",
       "      <td>0.009988</td>\n",
       "    </tr>\n",
       "    <tr>\n",
       "      <th>1</th>\n",
       "      <td>0.056974</td>\n",
       "      <td>0.065539</td>\n",
       "      <td>0.008561</td>\n",
       "    </tr>\n",
       "    <tr>\n",
       "      <th>2</th>\n",
       "      <td>0.000000</td>\n",
       "      <td>0.003451</td>\n",
       "      <td>0.000000</td>\n",
       "    </tr>\n",
       "    <tr>\n",
       "      <th>3</th>\n",
       "      <td>0.000000</td>\n",
       "      <td>0.000000</td>\n",
       "      <td>0.000000</td>\n",
       "    </tr>\n",
       "    <tr>\n",
       "      <th>4</th>\n",
       "      <td>0.195176</td>\n",
       "      <td>0.000000</td>\n",
       "      <td>0.000000</td>\n",
       "    </tr>\n",
       "    <tr>\n",
       "      <th>5</th>\n",
       "      <td>0.236695</td>\n",
       "      <td>0.046379</td>\n",
       "      <td>0.058165</td>\n",
       "    </tr>\n",
       "    <tr>\n",
       "      <th>6</th>\n",
       "      <td>0.000000</td>\n",
       "      <td>0.016685</td>\n",
       "      <td>0.216615</td>\n",
       "    </tr>\n",
       "    <tr>\n",
       "      <th>7</th>\n",
       "      <td>0.000000</td>\n",
       "      <td>0.000148</td>\n",
       "      <td>0.000000</td>\n",
       "    </tr>\n",
       "    <tr>\n",
       "      <th>8</th>\n",
       "      <td>0.102026</td>\n",
       "      <td>0.144895</td>\n",
       "      <td>0.000000</td>\n",
       "    </tr>\n",
       "  </tbody>\n",
       "</table>\n",
       "</div>"
      ],
      "text/plain": [
       "                     2         4         5\n",
       "temp_bin_num                              \n",
       "0             0.008833  0.014851  0.009988\n",
       "1             0.056974  0.065539  0.008561\n",
       "2             0.000000  0.003451  0.000000\n",
       "3             0.000000  0.000000  0.000000\n",
       "4             0.195176  0.000000  0.000000\n",
       "5             0.236695  0.046379  0.058165\n",
       "6             0.000000  0.016685  0.216615\n",
       "7             0.000000  0.000148  0.000000\n",
       "8             0.102026  0.144895  0.000000"
      ]
     },
     "execution_count": 134,
     "metadata": {},
     "output_type": "execute_result"
    }
   ],
   "source": [
    "temp"
   ]
  },
  {
   "cell_type": "code",
   "execution_count": 126,
   "metadata": {},
   "outputs": [
    {
     "data": {
      "text/html": [
       "<div>\n",
       "<style scoped>\n",
       "    .dataframe tbody tr th:only-of-type {\n",
       "        vertical-align: middle;\n",
       "    }\n",
       "\n",
       "    .dataframe tbody tr th {\n",
       "        vertical-align: top;\n",
       "    }\n",
       "\n",
       "    .dataframe thead th {\n",
       "        text-align: right;\n",
       "    }\n",
       "</style>\n",
       "<table border=\"1\" class=\"dataframe\">\n",
       "  <thead>\n",
       "    <tr style=\"text-align: right;\">\n",
       "      <th></th>\n",
       "      <th>2</th>\n",
       "      <th>4</th>\n",
       "      <th>5</th>\n",
       "      <th>temp_bin_num</th>\n",
       "    </tr>\n",
       "    <tr>\n",
       "      <th>temp_bin_num</th>\n",
       "      <th></th>\n",
       "      <th></th>\n",
       "      <th></th>\n",
       "      <th></th>\n",
       "    </tr>\n",
       "  </thead>\n",
       "  <tbody>\n",
       "    <tr>\n",
       "      <th>0</th>\n",
       "      <td>0.008833</td>\n",
       "      <td>0.014851</td>\n",
       "      <td>0.009988</td>\n",
       "      <td>0</td>\n",
       "    </tr>\n",
       "    <tr>\n",
       "      <th>1</th>\n",
       "      <td>0.056974</td>\n",
       "      <td>0.065539</td>\n",
       "      <td>0.008561</td>\n",
       "      <td>0</td>\n",
       "    </tr>\n",
       "    <tr>\n",
       "      <th>2</th>\n",
       "      <td>0.000000</td>\n",
       "      <td>0.003451</td>\n",
       "      <td>0.000000</td>\n",
       "      <td>0</td>\n",
       "    </tr>\n",
       "    <tr>\n",
       "      <th>3</th>\n",
       "      <td>0.000000</td>\n",
       "      <td>0.000000</td>\n",
       "      <td>0.000000</td>\n",
       "      <td>0</td>\n",
       "    </tr>\n",
       "    <tr>\n",
       "      <th>4</th>\n",
       "      <td>0.195176</td>\n",
       "      <td>0.000000</td>\n",
       "      <td>0.000000</td>\n",
       "      <td>0</td>\n",
       "    </tr>\n",
       "    <tr>\n",
       "      <th>5</th>\n",
       "      <td>0.236695</td>\n",
       "      <td>0.046379</td>\n",
       "      <td>0.058165</td>\n",
       "      <td>1</td>\n",
       "    </tr>\n",
       "    <tr>\n",
       "      <th>6</th>\n",
       "      <td>0.000000</td>\n",
       "      <td>0.016685</td>\n",
       "      <td>0.216615</td>\n",
       "      <td>1</td>\n",
       "    </tr>\n",
       "    <tr>\n",
       "      <th>7</th>\n",
       "      <td>0.000000</td>\n",
       "      <td>0.000148</td>\n",
       "      <td>0.000000</td>\n",
       "      <td>1</td>\n",
       "    </tr>\n",
       "    <tr>\n",
       "      <th>8</th>\n",
       "      <td>0.102026</td>\n",
       "      <td>0.144895</td>\n",
       "      <td>0.000000</td>\n",
       "      <td>1</td>\n",
       "    </tr>\n",
       "  </tbody>\n",
       "</table>\n",
       "</div>"
      ],
      "text/plain": [
       "                     2         4         5  temp_bin_num\n",
       "temp_bin_num                                            \n",
       "0             0.008833  0.014851  0.009988             0\n",
       "1             0.056974  0.065539  0.008561             0\n",
       "2             0.000000  0.003451  0.000000             0\n",
       "3             0.000000  0.000000  0.000000             0\n",
       "4             0.195176  0.000000  0.000000             0\n",
       "5             0.236695  0.046379  0.058165             1\n",
       "6             0.000000  0.016685  0.216615             1\n",
       "7             0.000000  0.000148  0.000000             1\n",
       "8             0.102026  0.144895  0.000000             1"
      ]
     },
     "execution_count": 126,
     "metadata": {},
     "output_type": "execute_result"
    }
   ],
   "source": [
    "temp"
   ]
  },
  {
   "cell_type": "code",
   "execution_count": 119,
   "metadata": {},
   "outputs": [
    {
     "ename": "AttributeError",
     "evalue": "'set' object has no attribute 'values'",
     "output_type": "error",
     "traceback": [
      "\u001b[1;31m---------------------------------------------------------------------------\u001b[0m",
      "\u001b[1;31mAttributeError\u001b[0m                            Traceback (most recent call last)",
      "\u001b[1;32m<ipython-input-119-8dc664ca7896>\u001b[0m in \u001b[0;36m<module>\u001b[1;34m\u001b[0m\n\u001b[1;32m----> 1\u001b[1;33m \u001b[0mset\u001b[0m\u001b[1;33m(\u001b[0m\u001b[0mtemp\u001b[0m\u001b[1;33m[\u001b[0m\u001b[1;34m\"temp_bin_num\"\u001b[0m\u001b[1;33m]\u001b[0m\u001b[1;33m)\u001b[0m\u001b[1;33m.\u001b[0m\u001b[0mvalues\u001b[0m\u001b[1;33m\u001b[0m\u001b[1;33m\u001b[0m\u001b[0m\n\u001b[0m",
      "\u001b[1;31mAttributeError\u001b[0m: 'set' object has no attribute 'values'"
     ]
    }
   ],
   "source": [
    "set(temp[\"temp_bin_num\"]).values"
   ]
  },
  {
   "cell_type": "code",
   "execution_count": 58,
   "metadata": {},
   "outputs": [],
   "source": [
    "import pandas as pd\n",
    "import numpy as np\n",
    "pd.DataFrame.groupby?"
   ]
  },
  {
   "cell_type": "code",
   "execution_count": 19,
   "metadata": {},
   "outputs": [
    {
     "data": {
      "text/plain": [
       "Text(0.5, 1.0, 'idx_ContextCells @ CtxB in 1st session ')"
      ]
     },
     "execution_count": 19,
     "metadata": {},
     "output_type": "execute_result"
    },
    {
     "data": {
      "image/png": "[encoded data removed]",
      "text/plain": [
       "<Figure size 1008x432 with 2 Axes>"
      ]
     },
     "metadata": {
      "needs_background": "light"
     },
     "output_type": "display_data"
    }
   ],
   "source": [
    "idx_ContextACells= idx_ContextCells[\"idx_ContextCells_allblocks\"][\"idx_ContextACells_allblocks\"]\n",
    "idx_ExcludeContextACells = lw_ana.neuron_ids.difference(idx_ContextACells)\n",
    "idx_ContextBCells= idx_ContextCells[\"idx_ContextCells_allblocks\"][\"idx_ContextBCells_allblocks\"]\n",
    "idx_ExcludeContextBCells = lw_ana.neuron_ids.difference(idx_ContextBCells)\n",
    "\n",
    "temp = in_context_LoRAtrialnum_MeanFr_mssession_NormalizedByBlock.set_index([\"block_num\",\"context_order\"])\n",
    " \n",
    "block_num = 1\n",
    "session_CtxA = temp.xs((block_num,\"A\"),level=(\"block_num\",\"context_order\"))\n",
    "session_CtxB = temp.xs((block_num,\"B\"),level=(\"block_num\",\"context_order\"))\n",
    "\n",
    "# <!-- for row in session_CtxA.iterrows():\n",
    "#     y = row[1].loc[idx_ContextACells]\n",
    "#     x = [row[1][\"in_context_trialnum\"]]*len(y)\n",
    "#     plt.scatter(x,y,c=\"r\",s=1) -->\n",
    "    \n",
    "plt.figure(figsize=(14,6))\n",
    "#@contextA session\n",
    "plt.subplot(121)\n",
    "sns.regplot(session_CtxA[\"in_context_trialnum\"],session_CtxA[idx_ContextACells].mean(axis=1)\n",
    "            ,fit_reg=True,marker=\"+\"\n",
    "            ,color=\"r\"\n",
    "            ,scatter_kws={\"s\": 40,\"color\":\"r\"}\n",
    "           ,truncate=True)\n",
    "sns.regplot(session_CtxA[\"in_context_trialnum\"],session_CtxA[idx_ContextBCells].mean(axis=1)\n",
    "            ,fit_reg=True,marker=\"+\"\n",
    "            ,color=\"g\"\n",
    "            ,scatter_kws={\"s\": 40,\"color\":\"g\"}\n",
    "           ,truncate=True)\n",
    "sns.regplot(session_CtxA[\"in_context_trialnum\"],session_CtxA[idx_ExcludeContextACells].mean(axis=1)\n",
    "            ,fit_reg=True,marker=\"+\"\n",
    "            ,color=\"y\"\n",
    "            ,scatter_kws={\"s\": 40,\"color\":\"y\"}\n",
    "           ,truncate=True)\n",
    "\n",
    "corr_gust_A = session_CtxA[idx_ContextACells].mean(axis=1).corr(session_CtxA[\"in_context_trialnum\"])\n",
    "corr_gust_B = session_CtxA[idx_ContextBCells].mean(axis=1).corr(session_CtxA[\"in_context_trialnum\"])\n",
    "plt.legend([\"idx_ContextAcells\",\"idx_ContextBcells\"])\n",
    "plt.title(\"idx_ContextCells @ CtxA in 1st session \")\n",
    "plt.ylabel(\"Sum of Normalized MeanFr\")\n",
    "#@contextBsession\n",
    "plt.subplot(122)\n",
    "sns.regplot(session_CtxB[\"in_context_trialnum\"],session_CtxB[idx_ContextACells].mean(axis=1)\n",
    "            ,fit_reg=True,marker=\"+\"\n",
    "            ,color=\"r\"\n",
    "            ,scatter_kws={\"s\": 40,\"color\":\"r\"}\n",
    "           ,truncate=True)\n",
    "sns.regplot(session_CtxB[\"in_context_trialnum\"],session_CtxB[idx_ContextBCells].mean(axis=1)\n",
    "            ,fit_reg=True,marker=\"+\"\n",
    "            ,color=\"g\"\n",
    "            ,scatter_kws={\"s\": 40,\"color\":\"g\"}\n",
    "           ,truncate=True)\n",
    "sns.regplot(session_CtxB[\"in_context_trialnum\"],session_CtxB[idx_ExcludeContextBCells].mean(axis=1)\n",
    "            ,fit_reg=True,marker=\"+\"\n",
    "            ,color=\"y\"\n",
    "            ,scatter_kws={\"s\": 40,\"color\":\"y\"}\n",
    "           ,truncate=True)\n",
    "\n",
    "plt.legend([\"idx_ContextAcells\",\"idx_ContextBcells\"])\n",
    "plt.title(\"idx_ContextCells @ CtxB in 1st session \")\n",
    "##emergency and maintaince"
   ]
  },
  {
   "cell_type": "code",
   "execution_count": 291,
   "metadata": {},
   "outputs": [
    {
     "name": "stderr",
     "output_type": "stream",
     "text": [
      "C:\\Users\\Sabri\\Anaconda3\\envs\\mylab\\lib\\site-packages\\ipykernel_launcher.py:1: PerformanceWarning: indexing past lexsort depth may impact performance.\n",
      "  \"\"\"Entry point for launching an IPython kernel.\n",
      "C:\\Users\\Sabri\\Anaconda3\\envs\\mylab\\lib\\site-packages\\ipykernel_launcher.py:2: PerformanceWarning: indexing past lexsort depth may impact performance.\n",
      "  \n",
      "C:\\Users\\Sabri\\Anaconda3\\envs\\mylab\\lib\\site-packages\\ipykernel_launcher.py:3: PerformanceWarning: indexing past lexsort depth may impact performance.\n",
      "  This is separate from the ipykernel package so we can avoid doing imports until\n"
     ]
    }
   ],
   "source": [
    "A_90_1 = temp[];mean_A_90_1 = np.mean(A_90_1);std_A_90_1 = np.std(A_90_1);\n",
    "# A_90_3 = temp.loc[(\"90\",\"A\",\"3\")];mean_A_90_3 = np.mean(A_90_3);std_A_90_3 = np.std(A_90_3);\n",
    "# A_90_5 = temp.loc[(\"90\",\"A\",\"5\")];mean_A_90_5 = np.mean(A_90_5);std_A_90_5 = np.std(A_90_5);\n"
   ]
  },
  {
   "cell_type": "code",
   "execution_count": 292,
   "metadata": {
    "collapsed": true
   },
   "outputs": [
    {
     "ename": "ValueError",
     "evalue": "shape mismatch: objects cannot be broadcast to a single shape",
     "output_type": "error",
     "traceback": [
      "\u001b[1;31m---------------------------------------------------------------------------\u001b[0m",
      "\u001b[1;31mValueError\u001b[0m                                Traceback (most recent call last)",
      "\u001b[1;32m<ipython-input-292-82ef754f4af0>\u001b[0m in \u001b[0;36m<module>\u001b[1;34m\u001b[0m\n\u001b[0;32m      3\u001b[0m \u001b[1;31m# plt.scatter([5]*len(A_90_1),A_90_5,c=\"black\",s=1)\u001b[0m\u001b[1;33m\u001b[0m\u001b[1;33m\u001b[0m\u001b[1;33m\u001b[0m\u001b[0m\n\u001b[0;32m      4\u001b[0m \u001b[0mplt\u001b[0m\u001b[1;33m.\u001b[0m\u001b[0mplot\u001b[0m\u001b[1;33m(\u001b[0m\u001b[1;33m[\u001b[0m\u001b[1;36m1\u001b[0m\u001b[1;33m,\u001b[0m\u001b[1;36m3\u001b[0m\u001b[1;33m,\u001b[0m\u001b[1;36m5\u001b[0m\u001b[1;33m]\u001b[0m\u001b[1;33m,\u001b[0m\u001b[1;33m[\u001b[0m\u001b[0mmean_A_90_1\u001b[0m\u001b[1;33m,\u001b[0m\u001b[0mmean_A_90_3\u001b[0m\u001b[1;33m,\u001b[0m\u001b[0mmean_A_90_5\u001b[0m\u001b[1;33m]\u001b[0m\u001b[1;33m)\u001b[0m\u001b[1;33m\u001b[0m\u001b[1;33m\u001b[0m\u001b[0m\n\u001b[1;32m----> 5\u001b[1;33m \u001b[0mplt\u001b[0m\u001b[1;33m.\u001b[0m\u001b[0merrorbar\u001b[0m\u001b[1;33m(\u001b[0m\u001b[1;33m[\u001b[0m\u001b[1;36m1\u001b[0m\u001b[1;33m,\u001b[0m\u001b[1;36m3\u001b[0m\u001b[1;33m,\u001b[0m\u001b[1;36m5\u001b[0m\u001b[1;33m]\u001b[0m\u001b[1;33m,\u001b[0m\u001b[1;33m[\u001b[0m\u001b[0mmean_A_90_1\u001b[0m\u001b[1;33m,\u001b[0m\u001b[0mmean_A_90_3\u001b[0m\u001b[1;33m,\u001b[0m\u001b[0mmean_A_90_5\u001b[0m\u001b[1;33m]\u001b[0m\u001b[1;33m,\u001b[0m\u001b[0myerr\u001b[0m\u001b[1;33m=\u001b[0m\u001b[1;33m[\u001b[0m\u001b[0mstd_A_90_1\u001b[0m\u001b[1;33m,\u001b[0m\u001b[0mstd_A_90_3\u001b[0m\u001b[1;33m,\u001b[0m\u001b[0mstd_A_90_5\u001b[0m\u001b[1;33m]\u001b[0m\u001b[1;33m)\u001b[0m\u001b[1;33m\u001b[0m\u001b[1;33m\u001b[0m\u001b[0m\n\u001b[0m",
      "\u001b[1;32m~\\Anaconda3\\envs\\mylab\\lib\\site-packages\\matplotlib\\pyplot.py\u001b[0m in \u001b[0;36merrorbar\u001b[1;34m(x, y, yerr, xerr, fmt, ecolor, elinewidth, capsize, barsabove, lolims, uplims, xlolims, xuplims, errorevery, capthick, data, **kwargs)\u001b[0m\n\u001b[0;32m   2527\u001b[0m         \u001b[0mlolims\u001b[0m\u001b[1;33m=\u001b[0m\u001b[0mlolims\u001b[0m\u001b[1;33m,\u001b[0m \u001b[0muplims\u001b[0m\u001b[1;33m=\u001b[0m\u001b[0muplims\u001b[0m\u001b[1;33m,\u001b[0m \u001b[0mxlolims\u001b[0m\u001b[1;33m=\u001b[0m\u001b[0mxlolims\u001b[0m\u001b[1;33m,\u001b[0m\u001b[1;33m\u001b[0m\u001b[1;33m\u001b[0m\u001b[0m\n\u001b[0;32m   2528\u001b[0m         \u001b[0mxuplims\u001b[0m\u001b[1;33m=\u001b[0m\u001b[0mxuplims\u001b[0m\u001b[1;33m,\u001b[0m \u001b[0merrorevery\u001b[0m\u001b[1;33m=\u001b[0m\u001b[0merrorevery\u001b[0m\u001b[1;33m,\u001b[0m \u001b[0mcapthick\u001b[0m\u001b[1;33m=\u001b[0m\u001b[0mcapthick\u001b[0m\u001b[1;33m,\u001b[0m\u001b[1;33m\u001b[0m\u001b[1;33m\u001b[0m\u001b[0m\n\u001b[1;32m-> 2529\u001b[1;33m         **({\"data\": data} if data is not None else {}), **kwargs)\n\u001b[0m\u001b[0;32m   2530\u001b[0m \u001b[1;33m\u001b[0m\u001b[0m\n\u001b[0;32m   2531\u001b[0m \u001b[1;33m\u001b[0m\u001b[0m\n",
      "\u001b[1;32m~\\Anaconda3\\envs\\mylab\\lib\\site-packages\\matplotlib\\__init__.py\u001b[0m in \u001b[0;36minner\u001b[1;34m(ax, data, *args, **kwargs)\u001b[0m\n\u001b[0;32m   1563\u001b[0m     \u001b[1;32mdef\u001b[0m \u001b[0minner\u001b[0m\u001b[1;33m(\u001b[0m\u001b[0max\u001b[0m\u001b[1;33m,\u001b[0m \u001b[1;33m*\u001b[0m\u001b[0margs\u001b[0m\u001b[1;33m,\u001b[0m \u001b[0mdata\u001b[0m\u001b[1;33m=\u001b[0m\u001b[1;32mNone\u001b[0m\u001b[1;33m,\u001b[0m \u001b[1;33m**\u001b[0m\u001b[0mkwargs\u001b[0m\u001b[1;33m)\u001b[0m\u001b[1;33m:\u001b[0m\u001b[1;33m\u001b[0m\u001b[1;33m\u001b[0m\u001b[0m\n\u001b[0;32m   1564\u001b[0m         \u001b[1;32mif\u001b[0m \u001b[0mdata\u001b[0m \u001b[1;32mis\u001b[0m \u001b[1;32mNone\u001b[0m\u001b[1;33m:\u001b[0m\u001b[1;33m\u001b[0m\u001b[1;33m\u001b[0m\u001b[0m\n\u001b[1;32m-> 1565\u001b[1;33m             \u001b[1;32mreturn\u001b[0m \u001b[0mfunc\u001b[0m\u001b[1;33m(\u001b[0m\u001b[0max\u001b[0m\u001b[1;33m,\u001b[0m \u001b[1;33m*\u001b[0m\u001b[0mmap\u001b[0m\u001b[1;33m(\u001b[0m\u001b[0msanitize_sequence\u001b[0m\u001b[1;33m,\u001b[0m \u001b[0margs\u001b[0m\u001b[1;33m)\u001b[0m\u001b[1;33m,\u001b[0m \u001b[1;33m**\u001b[0m\u001b[0mkwargs\u001b[0m\u001b[1;33m)\u001b[0m\u001b[1;33m\u001b[0m\u001b[1;33m\u001b[0m\u001b[0m\n\u001b[0m\u001b[0;32m   1566\u001b[0m \u001b[1;33m\u001b[0m\u001b[0m\n\u001b[0;32m   1567\u001b[0m         \u001b[0mbound\u001b[0m \u001b[1;33m=\u001b[0m \u001b[0mnew_sig\u001b[0m\u001b[1;33m.\u001b[0m\u001b[0mbind\u001b[0m\u001b[1;33m(\u001b[0m\u001b[0max\u001b[0m\u001b[1;33m,\u001b[0m \u001b[1;33m*\u001b[0m\u001b[0margs\u001b[0m\u001b[1;33m,\u001b[0m \u001b[1;33m**\u001b[0m\u001b[0mkwargs\u001b[0m\u001b[1;33m)\u001b[0m\u001b[1;33m\u001b[0m\u001b[1;33m\u001b[0m\u001b[0m\n",
      "\u001b[1;32m~\\Anaconda3\\envs\\mylab\\lib\\site-packages\\matplotlib\\axes\\_axes.py\u001b[0m in \u001b[0;36merrorbar\u001b[1;34m(self, x, y, yerr, xerr, fmt, ecolor, elinewidth, capsize, barsabove, lolims, uplims, xlolims, xuplims, errorevery, capthick, **kwargs)\u001b[0m\n\u001b[0;32m   3263\u001b[0m         \u001b[1;32mif\u001b[0m \u001b[0mplot_line\u001b[0m\u001b[1;33m:\u001b[0m\u001b[1;33m\u001b[0m\u001b[1;33m\u001b[0m\u001b[0m\n\u001b[0;32m   3264\u001b[0m             \u001b[0mdata_line\u001b[0m \u001b[1;33m=\u001b[0m \u001b[0mmlines\u001b[0m\u001b[1;33m.\u001b[0m\u001b[0mLine2D\u001b[0m\u001b[1;33m(\u001b[0m\u001b[0mx\u001b[0m\u001b[1;33m,\u001b[0m \u001b[0my\u001b[0m\u001b[1;33m,\u001b[0m \u001b[1;33m**\u001b[0m\u001b[0mplot_line_style\u001b[0m\u001b[1;33m)\u001b[0m\u001b[1;33m\u001b[0m\u001b[1;33m\u001b[0m\u001b[0m\n\u001b[1;32m-> 3265\u001b[1;33m             \u001b[0mself\u001b[0m\u001b[1;33m.\u001b[0m\u001b[0madd_line\u001b[0m\u001b[1;33m(\u001b[0m\u001b[0mdata_line\u001b[0m\u001b[1;33m)\u001b[0m\u001b[1;33m\u001b[0m\u001b[1;33m\u001b[0m\u001b[0m\n\u001b[0m\u001b[0;32m   3266\u001b[0m \u001b[1;33m\u001b[0m\u001b[0m\n\u001b[0;32m   3267\u001b[0m         \u001b[0mbarcols\u001b[0m \u001b[1;33m=\u001b[0m \u001b[1;33m[\u001b[0m\u001b[1;33m]\u001b[0m\u001b[1;33m\u001b[0m\u001b[1;33m\u001b[0m\u001b[0m\n",
      "\u001b[1;32m~\\Anaconda3\\envs\\mylab\\lib\\site-packages\\matplotlib\\axes\\_base.py\u001b[0m in \u001b[0;36madd_line\u001b[1;34m(self, line)\u001b[0m\n\u001b[0;32m   1848\u001b[0m             \u001b[0mline\u001b[0m\u001b[1;33m.\u001b[0m\u001b[0mset_clip_path\u001b[0m\u001b[1;33m(\u001b[0m\u001b[0mself\u001b[0m\u001b[1;33m.\u001b[0m\u001b[0mpatch\u001b[0m\u001b[1;33m)\u001b[0m\u001b[1;33m\u001b[0m\u001b[1;33m\u001b[0m\u001b[0m\n\u001b[0;32m   1849\u001b[0m \u001b[1;33m\u001b[0m\u001b[0m\n\u001b[1;32m-> 1850\u001b[1;33m         \u001b[0mself\u001b[0m\u001b[1;33m.\u001b[0m\u001b[0m_update_line_limits\u001b[0m\u001b[1;33m(\u001b[0m\u001b[0mline\u001b[0m\u001b[1;33m)\u001b[0m\u001b[1;33m\u001b[0m\u001b[1;33m\u001b[0m\u001b[0m\n\u001b[0m\u001b[0;32m   1851\u001b[0m         \u001b[1;32mif\u001b[0m \u001b[1;32mnot\u001b[0m \u001b[0mline\u001b[0m\u001b[1;33m.\u001b[0m\u001b[0mget_label\u001b[0m\u001b[1;33m(\u001b[0m\u001b[1;33m)\u001b[0m\u001b[1;33m:\u001b[0m\u001b[1;33m\u001b[0m\u001b[1;33m\u001b[0m\u001b[0m\n\u001b[0;32m   1852\u001b[0m             \u001b[0mline\u001b[0m\u001b[1;33m.\u001b[0m\u001b[0mset_label\u001b[0m\u001b[1;33m(\u001b[0m\u001b[1;34m'_line%d'\u001b[0m \u001b[1;33m%\u001b[0m \u001b[0mlen\u001b[0m\u001b[1;33m(\u001b[0m\u001b[0mself\u001b[0m\u001b[1;33m.\u001b[0m\u001b[0mlines\u001b[0m\u001b[1;33m)\u001b[0m\u001b[1;33m)\u001b[0m\u001b[1;33m\u001b[0m\u001b[1;33m\u001b[0m\u001b[0m\n",
      "\u001b[1;32m~\\Anaconda3\\envs\\mylab\\lib\\site-packages\\matplotlib\\axes\\_base.py\u001b[0m in \u001b[0;36m_update_line_limits\u001b[1;34m(self, line)\u001b[0m\n\u001b[0;32m   1870\u001b[0m         \u001b[0mFigures\u001b[0m \u001b[0mout\u001b[0m \u001b[0mthe\u001b[0m \u001b[0mdata\u001b[0m \u001b[0mlimit\u001b[0m \u001b[0mof\u001b[0m \u001b[0mthe\u001b[0m \u001b[0mgiven\u001b[0m \u001b[0mline\u001b[0m\u001b[1;33m,\u001b[0m \u001b[0mupdating\u001b[0m \u001b[0mself\u001b[0m\u001b[1;33m.\u001b[0m\u001b[0mdataLim\u001b[0m\u001b[1;33m.\u001b[0m\u001b[1;33m\u001b[0m\u001b[1;33m\u001b[0m\u001b[0m\n\u001b[0;32m   1871\u001b[0m         \"\"\"\n\u001b[1;32m-> 1872\u001b[1;33m         \u001b[0mpath\u001b[0m \u001b[1;33m=\u001b[0m \u001b[0mline\u001b[0m\u001b[1;33m.\u001b[0m\u001b[0mget_path\u001b[0m\u001b[1;33m(\u001b[0m\u001b[1;33m)\u001b[0m\u001b[1;33m\u001b[0m\u001b[1;33m\u001b[0m\u001b[0m\n\u001b[0m\u001b[0;32m   1873\u001b[0m         \u001b[1;32mif\u001b[0m \u001b[0mpath\u001b[0m\u001b[1;33m.\u001b[0m\u001b[0mvertices\u001b[0m\u001b[1;33m.\u001b[0m\u001b[0msize\u001b[0m \u001b[1;33m==\u001b[0m \u001b[1;36m0\u001b[0m\u001b[1;33m:\u001b[0m\u001b[1;33m\u001b[0m\u001b[1;33m\u001b[0m\u001b[0m\n\u001b[0;32m   1874\u001b[0m             \u001b[1;32mreturn\u001b[0m\u001b[1;33m\u001b[0m\u001b[1;33m\u001b[0m\u001b[0m\n",
      "\u001b[1;32m~\\Anaconda3\\envs\\mylab\\lib\\site-packages\\matplotlib\\lines.py\u001b[0m in \u001b[0;36mget_path\u001b[1;34m(self)\u001b[0m\n\u001b[0;32m   1025\u001b[0m         \"\"\"\n\u001b[0;32m   1026\u001b[0m         \u001b[1;32mif\u001b[0m \u001b[0mself\u001b[0m\u001b[1;33m.\u001b[0m\u001b[0m_invalidy\u001b[0m \u001b[1;32mor\u001b[0m \u001b[0mself\u001b[0m\u001b[1;33m.\u001b[0m\u001b[0m_invalidx\u001b[0m\u001b[1;33m:\u001b[0m\u001b[1;33m\u001b[0m\u001b[1;33m\u001b[0m\u001b[0m\n\u001b[1;32m-> 1027\u001b[1;33m             \u001b[0mself\u001b[0m\u001b[1;33m.\u001b[0m\u001b[0mrecache\u001b[0m\u001b[1;33m(\u001b[0m\u001b[1;33m)\u001b[0m\u001b[1;33m\u001b[0m\u001b[1;33m\u001b[0m\u001b[0m\n\u001b[0m\u001b[0;32m   1028\u001b[0m         \u001b[1;32mreturn\u001b[0m \u001b[0mself\u001b[0m\u001b[1;33m.\u001b[0m\u001b[0m_path\u001b[0m\u001b[1;33m\u001b[0m\u001b[1;33m\u001b[0m\u001b[0m\n\u001b[0;32m   1029\u001b[0m \u001b[1;33m\u001b[0m\u001b[0m\n",
      "\u001b[1;32m~\\Anaconda3\\envs\\mylab\\lib\\site-packages\\matplotlib\\lines.py\u001b[0m in \u001b[0;36mrecache\u001b[1;34m(self, always)\u001b[0m\n\u001b[0;32m    677\u001b[0m             \u001b[0my\u001b[0m \u001b[1;33m=\u001b[0m \u001b[0mself\u001b[0m\u001b[1;33m.\u001b[0m\u001b[0m_y\u001b[0m\u001b[1;33m\u001b[0m\u001b[1;33m\u001b[0m\u001b[0m\n\u001b[0;32m    678\u001b[0m \u001b[1;33m\u001b[0m\u001b[0m\n\u001b[1;32m--> 679\u001b[1;33m         \u001b[0mself\u001b[0m\u001b[1;33m.\u001b[0m\u001b[0m_xy\u001b[0m \u001b[1;33m=\u001b[0m \u001b[0mnp\u001b[0m\u001b[1;33m.\u001b[0m\u001b[0mcolumn_stack\u001b[0m\u001b[1;33m(\u001b[0m\u001b[0mnp\u001b[0m\u001b[1;33m.\u001b[0m\u001b[0mbroadcast_arrays\u001b[0m\u001b[1;33m(\u001b[0m\u001b[0mx\u001b[0m\u001b[1;33m,\u001b[0m \u001b[0my\u001b[0m\u001b[1;33m)\u001b[0m\u001b[1;33m)\u001b[0m\u001b[1;33m.\u001b[0m\u001b[0mastype\u001b[0m\u001b[1;33m(\u001b[0m\u001b[0mfloat\u001b[0m\u001b[1;33m)\u001b[0m\u001b[1;33m\u001b[0m\u001b[1;33m\u001b[0m\u001b[0m\n\u001b[0m\u001b[0;32m    680\u001b[0m         \u001b[0mself\u001b[0m\u001b[1;33m.\u001b[0m\u001b[0m_x\u001b[0m\u001b[1;33m,\u001b[0m \u001b[0mself\u001b[0m\u001b[1;33m.\u001b[0m\u001b[0m_y\u001b[0m \u001b[1;33m=\u001b[0m \u001b[0mself\u001b[0m\u001b[1;33m.\u001b[0m\u001b[0m_xy\u001b[0m\u001b[1;33m.\u001b[0m\u001b[0mT\u001b[0m  \u001b[1;31m# views\u001b[0m\u001b[1;33m\u001b[0m\u001b[1;33m\u001b[0m\u001b[0m\n\u001b[0;32m    681\u001b[0m \u001b[1;33m\u001b[0m\u001b[0m\n",
      "\u001b[1;32m<__array_function__ internals>\u001b[0m in \u001b[0;36mbroadcast_arrays\u001b[1;34m(*args, **kwargs)\u001b[0m\n",
      "\u001b[1;32m~\\Anaconda3\\envs\\mylab\\lib\\site-packages\\numpy\\lib\\stride_tricks.py\u001b[0m in \u001b[0;36mbroadcast_arrays\u001b[1;34m(*args, **kwargs)\u001b[0m\n\u001b[0;32m    262\u001b[0m     \u001b[0margs\u001b[0m \u001b[1;33m=\u001b[0m \u001b[1;33m[\u001b[0m\u001b[0mnp\u001b[0m\u001b[1;33m.\u001b[0m\u001b[0marray\u001b[0m\u001b[1;33m(\u001b[0m\u001b[0m_m\u001b[0m\u001b[1;33m,\u001b[0m \u001b[0mcopy\u001b[0m\u001b[1;33m=\u001b[0m\u001b[1;32mFalse\u001b[0m\u001b[1;33m,\u001b[0m \u001b[0msubok\u001b[0m\u001b[1;33m=\u001b[0m\u001b[0msubok\u001b[0m\u001b[1;33m)\u001b[0m \u001b[1;32mfor\u001b[0m \u001b[0m_m\u001b[0m \u001b[1;32min\u001b[0m \u001b[0margs\u001b[0m\u001b[1;33m]\u001b[0m\u001b[1;33m\u001b[0m\u001b[1;33m\u001b[0m\u001b[0m\n\u001b[0;32m    263\u001b[0m \u001b[1;33m\u001b[0m\u001b[0m\n\u001b[1;32m--> 264\u001b[1;33m     \u001b[0mshape\u001b[0m \u001b[1;33m=\u001b[0m \u001b[0m_broadcast_shape\u001b[0m\u001b[1;33m(\u001b[0m\u001b[1;33m*\u001b[0m\u001b[0margs\u001b[0m\u001b[1;33m)\u001b[0m\u001b[1;33m\u001b[0m\u001b[1;33m\u001b[0m\u001b[0m\n\u001b[0m\u001b[0;32m    265\u001b[0m \u001b[1;33m\u001b[0m\u001b[0m\n\u001b[0;32m    266\u001b[0m     \u001b[1;32mif\u001b[0m \u001b[0mall\u001b[0m\u001b[1;33m(\u001b[0m\u001b[0marray\u001b[0m\u001b[1;33m.\u001b[0m\u001b[0mshape\u001b[0m \u001b[1;33m==\u001b[0m \u001b[0mshape\u001b[0m \u001b[1;32mfor\u001b[0m \u001b[0marray\u001b[0m \u001b[1;32min\u001b[0m \u001b[0margs\u001b[0m\u001b[1;33m)\u001b[0m\u001b[1;33m:\u001b[0m\u001b[1;33m\u001b[0m\u001b[1;33m\u001b[0m\u001b[0m\n",
      "\u001b[1;32m~\\Anaconda3\\envs\\mylab\\lib\\site-packages\\numpy\\lib\\stride_tricks.py\u001b[0m in \u001b[0;36m_broadcast_shape\u001b[1;34m(*args)\u001b[0m\n\u001b[0;32m    189\u001b[0m     \u001b[1;31m# use the old-iterator because np.nditer does not handle size 0 arrays\u001b[0m\u001b[1;33m\u001b[0m\u001b[1;33m\u001b[0m\u001b[1;33m\u001b[0m\u001b[0m\n\u001b[0;32m    190\u001b[0m     \u001b[1;31m# consistently\u001b[0m\u001b[1;33m\u001b[0m\u001b[1;33m\u001b[0m\u001b[1;33m\u001b[0m\u001b[0m\n\u001b[1;32m--> 191\u001b[1;33m     \u001b[0mb\u001b[0m \u001b[1;33m=\u001b[0m \u001b[0mnp\u001b[0m\u001b[1;33m.\u001b[0m\u001b[0mbroadcast\u001b[0m\u001b[1;33m(\u001b[0m\u001b[1;33m*\u001b[0m\u001b[0margs\u001b[0m\u001b[1;33m[\u001b[0m\u001b[1;33m:\u001b[0m\u001b[1;36m32\u001b[0m\u001b[1;33m]\u001b[0m\u001b[1;33m)\u001b[0m\u001b[1;33m\u001b[0m\u001b[1;33m\u001b[0m\u001b[0m\n\u001b[0m\u001b[0;32m    192\u001b[0m     \u001b[1;31m# unfortunately, it cannot handle 32 or more arguments directly\u001b[0m\u001b[1;33m\u001b[0m\u001b[1;33m\u001b[0m\u001b[1;33m\u001b[0m\u001b[0m\n\u001b[0;32m    193\u001b[0m     \u001b[1;32mfor\u001b[0m \u001b[0mpos\u001b[0m \u001b[1;32min\u001b[0m \u001b[0mrange\u001b[0m\u001b[1;33m(\u001b[0m\u001b[1;36m32\u001b[0m\u001b[1;33m,\u001b[0m \u001b[0mlen\u001b[0m\u001b[1;33m(\u001b[0m\u001b[0margs\u001b[0m\u001b[1;33m)\u001b[0m\u001b[1;33m,\u001b[0m \u001b[1;36m31\u001b[0m\u001b[1;33m)\u001b[0m\u001b[1;33m:\u001b[0m\u001b[1;33m\u001b[0m\u001b[1;33m\u001b[0m\u001b[0m\n",
      "\u001b[1;31mValueError\u001b[0m: shape mismatch: objects cannot be broadcast to a single shape"
     ]
    },
    {
     "data": {
      "image/png": "[encoded data removed]",
      "text/plain": [
       "<Figure size 432x288 with 1 Axes>"
      ]
     },
     "metadata": {
      "needs_background": "light"
     },
     "output_type": "display_data"
    }
   ],
   "source": [
    "\n",
    "plt.scatter([1]*len(A_90_1),A_90_1,c=\"black\",s=1)\n",
    "plt.scatter([3]*len(A_90_1),A_90_3,c=\"black\",s=1)\n",
    "plt.scatter([5]*len(A_90_1),A_90_5,c=\"black\",s=1)\n",
    "plt.plot([1,3,5],[mean_A_90_1,mean_A_90_3,mean_A_90_5])\n",
    "plt.errorbar([1,3,5],[mean_A_90_1,mean_A_90_3,mean_A_90_5],yerr=[std_A_90_1,std_A_90_3,std_A_90_5])"
   ]
  },
  {
   "cell_type": "code",
   "execution_count": 133,
   "metadata": {},
   "outputs": [
    {
     "data": {
      "text/plain": [
       "RanksumsResult(statistic=1.4565070557783129, pvalue=0.14525250054794853)"
      ]
     },
     "execution_count": 133,
     "metadata": {},
     "output_type": "execute_result"
    }
   ],
   "source": [
    "Wilcoxon_unpaired_ranksumstest(A_90_3,A_90_5)"
   ]
  },
  {
   "cell_type": "code",
   "execution_count": 22,
   "metadata": {},
   "outputs": [
    {
     "data": {
      "text/plain": [
       "[<matplotlib.lines.Line2D at 0x1b8028edac8>]"
      ]
     },
     "execution_count": 22,
     "metadata": {},
     "output_type": "execute_result"
    },
    {
     "data": {
      "image/png": "[encoded data removed]",
      "text/plain": [
       "<Figure size 432x288 with 1 Axes>"
      ]
     },
     "metadata": {
      "needs_background": "light"
     },
     "output_type": "display_data"
    }
   ],
   "source": [
    "y_A1 = temp.loc[(90,\"A\"，1)]\n",
    "y_A3 = temp_normalized.loc[(3,\"A\")]\n",
    "y_A5 = temp_normalized.loc[(5,\"A\")]\n",
    "y_B1 = temp_normalized.loc[(1,\"B\")]\n",
    "y_B3 = temp_normalized.loc[(3,\"B\")]\n",
    "y_B5 = temp_normalized.loc[(5,\"B\")]\n",
    "plt.scatter([1]*len(y_A1),y_A1,c=\"red\")\n",
    "plt.scatter([3]*len(y_A3),y_A3,c=\"red\")\n",
    "plt.scatter([5]*len(y_A5),y_A5,c=\"red\")\n",
    "plt.scatter([1]*len(y_B1),y_B1,c=\"green\")\n",
    "plt.scatter([3]*len(y_B3),y_B3,c=\"green\")\n",
    "plt.scatter([5]*len(y_B5),y_B5,c=\"green\")\n",
    "plt.plot([1,3,5],[y_A1.mean(),y_A3.mean(),y_A5.mean()],\"r-\")\n",
    "plt.plot([1,3,5],[y_B1.mean(),y_B3.mean(),y_B5.mean()],\"g-\")"
   ]
  },
  {
   "cell_type": "code",
   "execution_count": 23,
   "metadata": {},
   "outputs": [
    {
     "data": {
      "text/html": [
       "<div>\n",
       "<style scoped>\n",
       "    .dataframe tbody tr th:only-of-type {\n",
       "        vertical-align: middle;\n",
       "    }\n",
       "\n",
       "    .dataframe tbody tr th {\n",
       "        vertical-align: top;\n",
       "    }\n",
       "\n",
       "    .dataframe thead th {\n",
       "        text-align: right;\n",
       "    }\n",
       "</style>\n",
       "<table border=\"1\" class=\"dataframe\">\n",
       "  <thead>\n",
       "    <tr style=\"text-align: right;\">\n",
       "      <th></th>\n",
       "      <th>in_context_trialnum</th>\n",
       "      <th>2</th>\n",
       "      <th>4</th>\n",
       "      <th>5</th>\n",
       "      <th>6</th>\n",
       "      <th>7</th>\n",
       "      <th>8</th>\n",
       "      <th>11</th>\n",
       "      <th>14</th>\n",
       "      <th>15</th>\n",
       "      <th>...</th>\n",
       "      <th>93</th>\n",
       "      <th>94</th>\n",
       "      <th>96</th>\n",
       "      <th>97</th>\n",
       "      <th>98</th>\n",
       "      <th>105</th>\n",
       "      <th>106</th>\n",
       "      <th>107</th>\n",
       "      <th>110</th>\n",
       "      <th>in_context_LoRs</th>\n",
       "    </tr>\n",
       "  </thead>\n",
       "  <tbody>\n",
       "    <tr>\n",
       "      <th>0</th>\n",
       "      <td>1</td>\n",
       "      <td>0.000000</td>\n",
       "      <td>28.889632</td>\n",
       "      <td>0.0</td>\n",
       "      <td>3.405269</td>\n",
       "      <td>0.000000</td>\n",
       "      <td>3.729616</td>\n",
       "      <td>0.0</td>\n",
       "      <td>0.028345</td>\n",
       "      <td>0.949241</td>\n",
       "      <td>...</td>\n",
       "      <td>1.225087</td>\n",
       "      <td>26.861597</td>\n",
       "      <td>1.876675</td>\n",
       "      <td>0.000000</td>\n",
       "      <td>0.000000</td>\n",
       "      <td>26.147386</td>\n",
       "      <td>0.124886</td>\n",
       "      <td>0.000000</td>\n",
       "      <td>0.000000</td>\n",
       "      <td>right</td>\n",
       "    </tr>\n",
       "    <tr>\n",
       "      <th>1</th>\n",
       "      <td>2</td>\n",
       "      <td>0.000000</td>\n",
       "      <td>2.664138</td>\n",
       "      <td>0.0</td>\n",
       "      <td>1.489960</td>\n",
       "      <td>1.018018</td>\n",
       "      <td>2.267486</td>\n",
       "      <td>0.0</td>\n",
       "      <td>0.000000</td>\n",
       "      <td>0.000000</td>\n",
       "      <td>...</td>\n",
       "      <td>2.847957</td>\n",
       "      <td>0.006049</td>\n",
       "      <td>0.000000</td>\n",
       "      <td>0.000000</td>\n",
       "      <td>0.000000</td>\n",
       "      <td>2.055300</td>\n",
       "      <td>5.756104</td>\n",
       "      <td>28.484312</td>\n",
       "      <td>0.000000</td>\n",
       "      <td>left</td>\n",
       "    </tr>\n",
       "    <tr>\n",
       "      <th>2</th>\n",
       "      <td>3</td>\n",
       "      <td>3.143592</td>\n",
       "      <td>0.000000</td>\n",
       "      <td>0.0</td>\n",
       "      <td>0.000000</td>\n",
       "      <td>0.000000</td>\n",
       "      <td>0.000000</td>\n",
       "      <td>0.0</td>\n",
       "      <td>0.568864</td>\n",
       "      <td>0.000000</td>\n",
       "      <td>...</td>\n",
       "      <td>0.000000</td>\n",
       "      <td>0.000000</td>\n",
       "      <td>0.000000</td>\n",
       "      <td>0.000000</td>\n",
       "      <td>0.000000</td>\n",
       "      <td>0.988501</td>\n",
       "      <td>0.000000</td>\n",
       "      <td>0.000000</td>\n",
       "      <td>0.000000</td>\n",
       "      <td>right</td>\n",
       "    </tr>\n",
       "    <tr>\n",
       "      <th>3</th>\n",
       "      <td>4</td>\n",
       "      <td>0.000000</td>\n",
       "      <td>6.172493</td>\n",
       "      <td>0.0</td>\n",
       "      <td>10.623332</td>\n",
       "      <td>0.000000</td>\n",
       "      <td>0.000000</td>\n",
       "      <td>0.0</td>\n",
       "      <td>0.544789</td>\n",
       "      <td>0.000000</td>\n",
       "      <td>...</td>\n",
       "      <td>0.000000</td>\n",
       "      <td>0.000000</td>\n",
       "      <td>0.555909</td>\n",
       "      <td>0.000000</td>\n",
       "      <td>0.000000</td>\n",
       "      <td>0.204973</td>\n",
       "      <td>0.000000</td>\n",
       "      <td>0.000000</td>\n",
       "      <td>6.893395</td>\n",
       "      <td>left</td>\n",
       "    </tr>\n",
       "    <tr>\n",
       "      <th>4</th>\n",
       "      <td>5</td>\n",
       "      <td>10.332478</td>\n",
       "      <td>0.092506</td>\n",
       "      <td>0.0</td>\n",
       "      <td>1.018697</td>\n",
       "      <td>0.215561</td>\n",
       "      <td>0.000000</td>\n",
       "      <td>0.0</td>\n",
       "      <td>0.176876</td>\n",
       "      <td>0.000000</td>\n",
       "      <td>...</td>\n",
       "      <td>28.980779</td>\n",
       "      <td>0.000000</td>\n",
       "      <td>0.000000</td>\n",
       "      <td>0.368898</td>\n",
       "      <td>2.010062</td>\n",
       "      <td>0.705830</td>\n",
       "      <td>0.000000</td>\n",
       "      <td>0.000000</td>\n",
       "      <td>1.136379</td>\n",
       "      <td>right</td>\n",
       "    </tr>\n",
       "    <tr>\n",
       "      <th>...</th>\n",
       "      <td>...</td>\n",
       "      <td>...</td>\n",
       "      <td>...</td>\n",
       "      <td>...</td>\n",
       "      <td>...</td>\n",
       "      <td>...</td>\n",
       "      <td>...</td>\n",
       "      <td>...</td>\n",
       "      <td>...</td>\n",
       "      <td>...</td>\n",
       "      <td>...</td>\n",
       "      <td>...</td>\n",
       "      <td>...</td>\n",
       "      <td>...</td>\n",
       "      <td>...</td>\n",
       "      <td>...</td>\n",
       "      <td>...</td>\n",
       "      <td>...</td>\n",
       "      <td>...</td>\n",
       "      <td>...</td>\n",
       "      <td>...</td>\n",
       "    </tr>\n",
       "    <tr>\n",
       "      <th>57</th>\n",
       "      <td>58</td>\n",
       "      <td>6.710472</td>\n",
       "      <td>1.827541</td>\n",
       "      <td>0.0</td>\n",
       "      <td>2.035182</td>\n",
       "      <td>0.000000</td>\n",
       "      <td>0.000000</td>\n",
       "      <td>0.0</td>\n",
       "      <td>0.000000</td>\n",
       "      <td>0.000000</td>\n",
       "      <td>...</td>\n",
       "      <td>0.000000</td>\n",
       "      <td>0.000000</td>\n",
       "      <td>0.082181</td>\n",
       "      <td>0.000000</td>\n",
       "      <td>0.000000</td>\n",
       "      <td>0.000000</td>\n",
       "      <td>0.000000</td>\n",
       "      <td>0.000000</td>\n",
       "      <td>0.000000</td>\n",
       "      <td>left</td>\n",
       "    </tr>\n",
       "    <tr>\n",
       "      <th>58</th>\n",
       "      <td>59</td>\n",
       "      <td>0.006077</td>\n",
       "      <td>0.121611</td>\n",
       "      <td>0.0</td>\n",
       "      <td>2.146274</td>\n",
       "      <td>0.000000</td>\n",
       "      <td>0.000000</td>\n",
       "      <td>0.0</td>\n",
       "      <td>0.000000</td>\n",
       "      <td>0.000000</td>\n",
       "      <td>...</td>\n",
       "      <td>0.000000</td>\n",
       "      <td>0.000000</td>\n",
       "      <td>0.006862</td>\n",
       "      <td>0.000000</td>\n",
       "      <td>0.000000</td>\n",
       "      <td>0.000000</td>\n",
       "      <td>0.081009</td>\n",
       "      <td>0.000000</td>\n",
       "      <td>0.000000</td>\n",
       "      <td>right</td>\n",
       "    </tr>\n",
       "    <tr>\n",
       "      <th>59</th>\n",
       "      <td>60</td>\n",
       "      <td>3.159442</td>\n",
       "      <td>0.009100</td>\n",
       "      <td>0.0</td>\n",
       "      <td>11.316043</td>\n",
       "      <td>0.000000</td>\n",
       "      <td>0.000000</td>\n",
       "      <td>0.0</td>\n",
       "      <td>0.000000</td>\n",
       "      <td>0.000000</td>\n",
       "      <td>...</td>\n",
       "      <td>0.000000</td>\n",
       "      <td>0.000000</td>\n",
       "      <td>0.003634</td>\n",
       "      <td>0.000000</td>\n",
       "      <td>0.000000</td>\n",
       "      <td>0.000000</td>\n",
       "      <td>1.207437</td>\n",
       "      <td>0.000000</td>\n",
       "      <td>0.000000</td>\n",
       "      <td>left</td>\n",
       "    </tr>\n",
       "    <tr>\n",
       "      <th>60</th>\n",
       "      <td>61</td>\n",
       "      <td>2.552797</td>\n",
       "      <td>0.530036</td>\n",
       "      <td>0.0</td>\n",
       "      <td>3.291699</td>\n",
       "      <td>0.000000</td>\n",
       "      <td>0.000000</td>\n",
       "      <td>0.0</td>\n",
       "      <td>0.000000</td>\n",
       "      <td>0.000000</td>\n",
       "      <td>...</td>\n",
       "      <td>0.000000</td>\n",
       "      <td>0.000000</td>\n",
       "      <td>7.369043</td>\n",
       "      <td>0.000000</td>\n",
       "      <td>0.000000</td>\n",
       "      <td>0.000000</td>\n",
       "      <td>25.216020</td>\n",
       "      <td>9.546198</td>\n",
       "      <td>0.000000</td>\n",
       "      <td>right</td>\n",
       "    </tr>\n",
       "    <tr>\n",
       "      <th>61</th>\n",
       "      <td>62</td>\n",
       "      <td>0.000000</td>\n",
       "      <td>0.066794</td>\n",
       "      <td>0.0</td>\n",
       "      <td>0.000000</td>\n",
       "      <td>0.000000</td>\n",
       "      <td>0.000000</td>\n",
       "      <td>0.0</td>\n",
       "      <td>0.000000</td>\n",
       "      <td>0.000000</td>\n",
       "      <td>...</td>\n",
       "      <td>0.000000</td>\n",
       "      <td>0.000000</td>\n",
       "      <td>0.000000</td>\n",
       "      <td>0.000000</td>\n",
       "      <td>0.000000</td>\n",
       "      <td>0.000000</td>\n",
       "      <td>3.127640</td>\n",
       "      <td>16.147494</td>\n",
       "      <td>0.000000</td>\n",
       "      <td>left</td>\n",
       "    </tr>\n",
       "  </tbody>\n",
       "</table>\n",
       "<p>62 rows × 77 columns</p>\n",
       "</div>"
      ],
      "text/plain": [
       "    in_context_trialnum          2          4    5          6         7  \\\n",
       "0                     1   0.000000  28.889632  0.0   3.405269  0.000000   \n",
       "1                     2   0.000000   2.664138  0.0   1.489960  1.018018   \n",
       "2                     3   3.143592   0.000000  0.0   0.000000  0.000000   \n",
       "3                     4   0.000000   6.172493  0.0  10.623332  0.000000   \n",
       "4                     5  10.332478   0.092506  0.0   1.018697  0.215561   \n",
       "..                  ...        ...        ...  ...        ...       ...   \n",
       "57                   58   6.710472   1.827541  0.0   2.035182  0.000000   \n",
       "58                   59   0.006077   0.121611  0.0   2.146274  0.000000   \n",
       "59                   60   3.159442   0.009100  0.0  11.316043  0.000000   \n",
       "60                   61   2.552797   0.530036  0.0   3.291699  0.000000   \n",
       "61                   62   0.000000   0.066794  0.0   0.000000  0.000000   \n",
       "\n",
       "           8   11        14        15  ...         93         94        96  \\\n",
       "0   3.729616  0.0  0.028345  0.949241  ...   1.225087  26.861597  1.876675   \n",
       "1   2.267486  0.0  0.000000  0.000000  ...   2.847957   0.006049  0.000000   \n",
       "2   0.000000  0.0  0.568864  0.000000  ...   0.000000   0.000000  0.000000   \n",
       "3   0.000000  0.0  0.544789  0.000000  ...   0.000000   0.000000  0.555909   \n",
       "4   0.000000  0.0  0.176876  0.000000  ...  28.980779   0.000000  0.000000   \n",
       "..       ...  ...       ...       ...  ...        ...        ...       ...   \n",
       "57  0.000000  0.0  0.000000  0.000000  ...   0.000000   0.000000  0.082181   \n",
       "58  0.000000  0.0  0.000000  0.000000  ...   0.000000   0.000000  0.006862   \n",
       "59  0.000000  0.0  0.000000  0.000000  ...   0.000000   0.000000  0.003634   \n",
       "60  0.000000  0.0  0.000000  0.000000  ...   0.000000   0.000000  7.369043   \n",
       "61  0.000000  0.0  0.000000  0.000000  ...   0.000000   0.000000  0.000000   \n",
       "\n",
       "          97        98        105        106        107       110  \\\n",
       "0   0.000000  0.000000  26.147386   0.124886   0.000000  0.000000   \n",
       "1   0.000000  0.000000   2.055300   5.756104  28.484312  0.000000   \n",
       "2   0.000000  0.000000   0.988501   0.000000   0.000000  0.000000   \n",
       "3   0.000000  0.000000   0.204973   0.000000   0.000000  6.893395   \n",
       "4   0.368898  2.010062   0.705830   0.000000   0.000000  1.136379   \n",
       "..       ...       ...        ...        ...        ...       ...   \n",
       "57  0.000000  0.000000   0.000000   0.000000   0.000000  0.000000   \n",
       "58  0.000000  0.000000   0.000000   0.081009   0.000000  0.000000   \n",
       "59  0.000000  0.000000   0.000000   1.207437   0.000000  0.000000   \n",
       "60  0.000000  0.000000   0.000000  25.216020   9.546198  0.000000   \n",
       "61  0.000000  0.000000   0.000000   3.127640  16.147494  0.000000   \n",
       "\n",
       "    in_context_LoRs  \n",
       "0             right  \n",
       "1              left  \n",
       "2             right  \n",
       "3              left  \n",
       "4             right  \n",
       "..              ...  \n",
       "57             left  \n",
       "58            right  \n",
       "59             left  \n",
       "60            right  \n",
       "61             left  \n",
       "\n",
       "[62 rows x 77 columns]"
      ]
     },
     "execution_count": 23,
     "metadata": {},
     "output_type": "execute_result"
    }
   ],
   "source": [
    "in_context_LoRAtrialnum_MeanFr_msblock"
   ]
  },
  {
   "cell_type": "code",
   "execution_count": null,
   "metadata": {},
   "outputs": [],
   "source": [
    "ctxA_trials = in_context_LoRAtrialnum_MeanFr_msblock_concat[\"context_order\"].isin([\"A\"])\n",
    "ctxB_trials = in_context_LoRAtrialnum_MeanFr_msblock_concat[\"context_order\"].isin([\"B\"])\n",
    "\\\n",
    "Wilcoxon_test(in_context_LoRAtrialnum_MeanFr_msblock_concat[2].loc[ctxA_trials],in_context_LoRAtrialnum_MeanFr_msblock_concat[2].loc[ctxA_trials])"
   ]
  },
  {
   "cell_type": "code",
   "execution_count": null,
   "metadata": {},
   "outputs": [],
   "source": []
  },
  {
   "cell_type": "code",
   "execution_count": null,
   "metadata": {},
   "outputs": [],
   "source": [
    "in_context_LoRAtrialnum_MeanFr_msblock_concat[2].loc[ctxB_trials]"
   ]
  },
  {
   "cell_type": "code",
   "execution_count": null,
   "metadata": {},
   "outputs": [],
   "source": [
    "in_context_LoRAtrialnum_MeanFr_msblock_concat[2].loc[ctxA_trials]"
   ]
  }
 ],
 "metadata": {
  "kernelspec": {
   "display_name": "Python 3",
   "language": "python",
   "name": "python3"
  },
  "language_info": {
   "codemirror_mode": {
    "name": "ipython",
    "version": 3
   },
   "file_extension": ".py",
   "mimetype": "text/x-python",
   "name": "python",
   "nbconvert_exporter": "python",
   "pygments_lexer": "ipython3",
   "version": "3.7.5"
  }
 },
 "nbformat": 4,
 "nbformat_minor": 4
}
