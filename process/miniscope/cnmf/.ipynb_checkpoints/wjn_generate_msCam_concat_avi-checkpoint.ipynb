{
 "cells": [
  {
   "cell_type": "code",
   "execution_count": 2,
   "metadata": {},
   "outputs": [],
   "source": [
    "import cv2\n",
    "import os,sys,glob\n",
    "import re\n",
    "import pickle\n",
    "import pandas as pd\n",
    "import numpy as np\n",
    "from fun_1_glob_crop_downsample_concatenate import index_videos,crop_downsample_concatenate"
   ]
  },
  {
   "cell_type": "code",
   "execution_count": 7,
   "metadata": {},
   "outputs": [],
   "source": [
    "from ms_pkl2mat import ms_tses2ms_ts as m2m"
   ]
  },
  {
   "cell_type": "code",
   "execution_count": 9,
   "metadata": {},
   "outputs": [
    {
     "data": {
      "text/plain": [
       "['\\\\\\\\10.10.46.135\\\\share\\\\zhangna\\\\miniscope_result\\\\Results_192543',\n",
       " '\\\\\\\\10.10.46.135\\\\share\\\\zhangna\\\\miniscope_result\\\\Results_192547',\n",
       " '\\\\\\\\10.10.46.135\\\\share\\\\zhangna\\\\miniscope_result\\\\Results_192555',\n",
       " '\\\\\\\\10.10.46.135\\\\share\\\\zhangna\\\\miniscope_result\\\\Results_192564',\n",
       " '\\\\\\\\10.10.46.135\\\\share\\\\zhangna\\\\miniscope_result\\\\Results_192575',\n",
       " '\\\\\\\\10.10.46.135\\\\share\\\\zhangna\\\\miniscope_result\\\\Results_192598',\n",
       " '\\\\\\\\10.10.46.135\\\\share\\\\zhangna\\\\miniscope_result\\\\Results_206534',\n",
       " '\\\\\\\\10.10.46.135\\\\share\\\\zhangna\\\\miniscope_result\\\\Results_206548',\n",
       " '\\\\\\\\10.10.46.135\\\\share\\\\zhangna\\\\miniscope_result\\\\Results_206550',\n",
       " '\\\\\\\\10.10.46.135\\\\share\\\\zhangna\\\\miniscope_result\\\\Results_206551',\n",
       " '\\\\\\\\10.10.46.135\\\\share\\\\zhangna\\\\miniscope_result\\\\Results_206552',\n",
       " '\\\\\\\\10.10.46.135\\\\share\\\\zhangna\\\\miniscope_result\\\\Results_206553',\n",
       " '\\\\\\\\10.10.46.135\\\\share\\\\zhangna\\\\miniscope_result\\\\Results_206554',\n",
       " '\\\\\\\\10.10.46.135\\\\share\\\\zhangna\\\\miniscope_result\\\\Results_206555',\n",
       " '\\\\\\\\10.10.46.135\\\\share\\\\zhangna\\\\miniscope_result\\\\Results_206556']"
      ]
     },
     "execution_count": 9,
     "metadata": {},
     "output_type": "execute_result"
    }
   ],
   "source": [
    "dirs = glob.glob(r\"\\\\10.10.46.135\\share\\zhangna\\miniscope_result\\*\")\n",
    "for dir in dirs:\n",
    "    m2m(dir)"
   ]
  },
  {
   "cell_type": "code",
   "execution_count": 3,
   "metadata": {},
   "outputs": [
    {
     "data": {
      "text/plain": [
       "['\\\\\\\\10.10.46.135\\\\share\\\\zhangna\\\\CFC\\\\20200525\\\\206548',\n",
       " '\\\\\\\\10.10.46.135\\\\share\\\\zhangna\\\\CFC\\\\20200526\\\\206548',\n",
       " '\\\\\\\\10.10.46.135\\\\share\\\\zhangna\\\\CFC\\\\20200527\\\\206548',\n",
       " '\\\\\\\\10.10.46.135\\\\share\\\\zhangna\\\\CFC\\\\20200528\\\\206548',\n",
       " '\\\\\\\\10.10.46.135\\\\share\\\\zhangna\\\\CFC\\\\20200601\\\\206548',\n",
       " '\\\\\\\\10.10.46.135\\\\share\\\\zhangna\\\\CFC\\\\20200606\\\\206548']"
      ]
     },
     "execution_count": 3,
     "metadata": {},
     "output_type": "execute_result"
    }
   ],
   "source": [
    "concatenate_files = glob.glob(r\"\\\\10.10.46.135\\share\\zhangna\\CFC\\*\\206548\")\n",
    "# concatenate_files = concatenate_files[9:15]\n",
    "concatenate_files"
   ]
  },
  {
   "cell_type": "code",
   "execution_count": 13,
   "metadata": {},
   "outputs": [
    {
     "ename": "FileNotFoundError",
     "evalue": "[Errno 2] No such file or directory: '\\\\\\\\10.10.46.135\\\\share\\\\zhangna\\\\miniscope_result\\\\Results_206556\\\\20200826_124038_30fps_20200711/ms_ts.pkl'",
     "output_type": "error",
     "traceback": [
      "\u001b[1;31m---------------------------------------------------------------------------\u001b[0m",
      "\u001b[1;31mFileNotFoundError\u001b[0m                         Traceback (most recent call last)",
      "\u001b[1;32m<ipython-input-13-49d194f1024e>\u001b[0m in \u001b[0;36m<module>\u001b[1;34m\u001b[0m\n\u001b[1;32m----> 1\u001b[1;33m \u001b[1;32mwith\u001b[0m \u001b[0mopen\u001b[0m\u001b[1;33m(\u001b[0m\u001b[1;34mr\"\\\\10.10.46.135\\share\\zhangna\\miniscope_result\\Results_206556\\20200826_124038_30fps_20200711/ms_ts.pkl\"\u001b[0m\u001b[1;33m,\u001b[0m\u001b[1;34m\"rb\"\u001b[0m \u001b[1;33m)\u001b[0m \u001b[1;32mas\u001b[0m \u001b[0mf\u001b[0m\u001b[1;33m:\u001b[0m\u001b[1;33m\u001b[0m\u001b[1;33m\u001b[0m\u001b[0m\n\u001b[0m\u001b[0;32m      2\u001b[0m     \u001b[0mts\u001b[0m \u001b[1;33m=\u001b[0m \u001b[0mpickle\u001b[0m\u001b[1;33m.\u001b[0m\u001b[0mload\u001b[0m\u001b[1;33m(\u001b[0m\u001b[0mf\u001b[0m\u001b[1;33m)\u001b[0m\u001b[1;33m\u001b[0m\u001b[1;33m\u001b[0m\u001b[0m\n\u001b[0;32m      3\u001b[0m \u001b[0msum\u001b[0m\u001b[1;33m(\u001b[0m\u001b[1;33m[\u001b[0m\u001b[0mlen\u001b[0m\u001b[1;33m(\u001b[0m\u001b[0mi\u001b[0m\u001b[1;33m)\u001b[0m \u001b[1;32mfor\u001b[0m \u001b[0mi\u001b[0m \u001b[1;32min\u001b[0m \u001b[0mts\u001b[0m\u001b[1;33m]\u001b[0m\u001b[1;33m)\u001b[0m\u001b[1;33m\u001b[0m\u001b[1;33m\u001b[0m\u001b[0m\n",
      "\u001b[1;31mFileNotFoundError\u001b[0m: [Errno 2] No such file or directory: '\\\\\\\\10.10.46.135\\\\share\\\\zhangna\\\\miniscope_result\\\\Results_206556\\\\20200826_124038_30fps_20200711/ms_ts.pkl'"
     ]
    }
   ],
   "source": [
    "with open(r\"\\\\10.10.46.135\\share\\zhangna\\miniscope_result\\Results_206556\\20200826_123528_30fps_20200706/ms_ts.pkl\",\"rb\" ) as f:\n",
    "    ts = pickle.load(f)\n",
    "sum([len(i) for i in ts])"
   ]
  },
  {
   "cell_type": "code",
   "execution_count": 11,
   "metadata": {},
   "outputs": [
    {
     "data": {
      "text/plain": [
       "6899.0"
      ]
     },
     "execution_count": 11,
     "metadata": {},
     "output_type": "execute_result"
    }
   ],
   "source": [
    "cv2.VideoCapture(r\"\\\\10.10.46.135\\share\\zhangna\\miniscope_result\\Results_206556\\20200826_123528_30fps_20200706/msCam_concat.avi\").get(7)"
   ]
  },
  {
   "cell_type": "code",
   "execution_count": 5,
   "metadata": {
    "code_folding": [],
    "scrolled": true
   },
   "outputs": [
    {
     "name": "stdout",
     "output_type": "stream",
     "text": [
      "20200525 206548\n",
      "\\\\10.10.46.135\\share\\zhangna\\miniscope_result\\Results_206548\\crop_param.pkl\n",
      "Concatenating \\\\10.10.46.135\\share\\zhangna\\CFC\\20200525\\206548\\H9_M40_S45\\msCam1.avi\n",
      "Concatenating \\\\10.10.46.135\\share\\zhangna\\CFC\\20200525\\206548\\H9_M40_S45\\msCam2.avi\n",
      "Concatenating \\\\10.10.46.135\\share\\zhangna\\CFC\\20200525\\206548\\H9_M40_S45\\msCam3.avi\n",
      "Concatenating \\\\10.10.46.135\\share\\zhangna\\CFC\\20200525\\206548\\H9_M40_S45\\msCam4.avi\n",
      "Concatenating \\\\10.10.46.135\\share\\zhangna\\CFC\\20200525\\206548\\H9_M40_S45\\msCam5.avi\n",
      "Concatenating \\\\10.10.46.135\\share\\zhangna\\CFC\\20200525\\206548\\H9_M40_S45\\msCam6.avi\n",
      "Concatenating \\\\10.10.46.135\\share\\zhangna\\CFC\\20200525\\206548\\H9_M40_S45\\msCam7.avi\n",
      "Concatenating \\\\10.10.46.135\\share\\zhangna\\CFC\\20200525\\206548\\H9_M46_S30\\msCam1.avi\n",
      "Concatenating \\\\10.10.46.135\\share\\zhangna\\CFC\\20200525\\206548\\H9_M46_S30\\msCam2.avi\n",
      "Concatenating \\\\10.10.46.135\\share\\zhangna\\CFC\\20200525\\206548\\H9_M46_S30\\msCam3.avi\n",
      "Concatenating \\\\10.10.46.135\\share\\zhangna\\CFC\\20200525\\206548\\H9_M46_S30\\msCam4.avi\n",
      "Concatenating \\\\10.10.46.135\\share\\zhangna\\CFC\\20200525\\206548\\H9_M46_S30\\msCam5.avi\n",
      "Concatenating \\\\10.10.46.135\\share\\zhangna\\CFC\\20200525\\206548\\H9_M46_S30\\msCam6.avi\n",
      "Concatenating \\\\10.10.46.135\\share\\zhangna\\CFC\\20200525\\206548\\H9_M46_S30\\msCam7.avi\n",
      "Concatenating \\\\10.10.46.135\\share\\zhangna\\CFC\\20200525\\206548\\H10_M0_S38\\msCam1.avi\n",
      "Concatenating \\\\10.10.46.135\\share\\zhangna\\CFC\\20200525\\206548\\H10_M0_S38\\msCam2.avi\n",
      "Concatenating \\\\10.10.46.135\\share\\zhangna\\CFC\\20200525\\206548\\H10_M0_S38\\msCam3.avi\n",
      "Concatenating \\\\10.10.46.135\\share\\zhangna\\CFC\\20200525\\206548\\H10_M0_S38\\msCam4.avi\n",
      "Concatenating \\\\10.10.46.135\\share\\zhangna\\CFC\\20200525\\206548\\H10_M0_S38\\msCam5.avi\n",
      "Concatenating \\\\10.10.46.135\\share\\zhangna\\CFC\\20200525\\206548\\H10_M0_S38\\msCam6.avi\n",
      "Concatenating \\\\10.10.46.135\\share\\zhangna\\CFC\\20200525\\206548\\H10_M0_S38\\msCam7.avi\n"
     ]
    },
    {
     "name": "stderr",
     "output_type": "stream",
     "text": [
      "t:   0%|                                                              | 13/6900 [00:00<00:54, 127.32it/s, now=None]"
     ]
    },
    {
     "name": "stdout",
     "output_type": "stream",
     "text": [
      "Moviepy - Building video \\\\10.10.46.135\\share\\zhangna\\miniscope_result\\Results_206548\\20200826_195408_10fps_20200525\\msCam_concat.avi.\n",
      "Moviepy - Writing video \\\\10.10.46.135\\share\\zhangna\\miniscope_result\\Results_206548\\20200826_195408_10fps_20200525\\msCam_concat.avi\n",
      "\n"
     ]
    },
    {
     "name": "stderr",
     "output_type": "stream",
     "text": [
      "                                                                                                                   \r"
     ]
    },
    {
     "name": "stdout",
     "output_type": "stream",
     "text": [
      "Moviepy - Done !\n",
      "Moviepy - video ready \\\\10.10.46.135\\share\\zhangna\\miniscope_result\\Results_206548\\20200826_195408_10fps_20200525\\msCam_concat.avi\n",
      "\\\\10.10.46.135\\share\\zhangna\\miniscope_result\\Results_206548\\20200826_195408_10fps_20200525\\ms_ts.pkl\n",
      "concatenated video and timestamps have the same frames\n",
      "concatenated timestamp of miniscope_video is located at \\\\10.10.46.135\\share\\zhangna\\miniscope_result\\Results_206548\\20200826_195408_10fps_20200525\\ms_ts.pkl\n",
      "done\n",
      "20200526 206548\n",
      "\\\\10.10.46.135\\share\\zhangna\\miniscope_result\\Results_206548\\crop_param.pkl\n",
      "Concatenating \\\\10.10.46.135\\share\\zhangna\\CFC\\20200526\\206548\\H10_M8_S18\\msCam1.avi\n",
      "Concatenating \\\\10.10.46.135\\share\\zhangna\\CFC\\20200526\\206548\\H10_M8_S18\\msCam2.avi\n",
      "Concatenating \\\\10.10.46.135\\share\\zhangna\\CFC\\20200526\\206548\\H10_M8_S18\\msCam3.avi\n",
      "Concatenating \\\\10.10.46.135\\share\\zhangna\\CFC\\20200526\\206548\\H10_M8_S18\\msCam4.avi\n",
      "Concatenating \\\\10.10.46.135\\share\\zhangna\\CFC\\20200526\\206548\\H10_M8_S18\\msCam5.avi\n",
      "Concatenating \\\\10.10.46.135\\share\\zhangna\\CFC\\20200526\\206548\\H10_M8_S18\\msCam6.avi\n",
      "Concatenating \\\\10.10.46.135\\share\\zhangna\\CFC\\20200526\\206548\\H10_M8_S18\\msCam7.avi\n",
      "Concatenating \\\\10.10.46.135\\share\\zhangna\\CFC\\20200526\\206548\\H10_M13_S24\\msCam1.avi\n",
      "Concatenating \\\\10.10.46.135\\share\\zhangna\\CFC\\20200526\\206548\\H10_M13_S24\\msCam2.avi\n",
      "Concatenating \\\\10.10.46.135\\share\\zhangna\\CFC\\20200526\\206548\\H10_M13_S24\\msCam3.avi\n",
      "Concatenating \\\\10.10.46.135\\share\\zhangna\\CFC\\20200526\\206548\\H10_M13_S24\\msCam4.avi\n",
      "Concatenating \\\\10.10.46.135\\share\\zhangna\\CFC\\20200526\\206548\\H10_M13_S24\\msCam5.avi\n",
      "Concatenating \\\\10.10.46.135\\share\\zhangna\\CFC\\20200526\\206548\\H10_M13_S24\\msCam6.avi\n",
      "Concatenating \\\\10.10.46.135\\share\\zhangna\\CFC\\20200526\\206548\\H10_M13_S24\\msCam7.avi\n",
      "Concatenating \\\\10.10.46.135\\share\\zhangna\\CFC\\20200526\\206548\\H10_M18_S36\\msCam1.avi\n",
      "Concatenating \\\\10.10.46.135\\share\\zhangna\\CFC\\20200526\\206548\\H10_M18_S36\\msCam2.avi\n",
      "Concatenating \\\\10.10.46.135\\share\\zhangna\\CFC\\20200526\\206548\\H10_M18_S36\\msCam3.avi\n",
      "Concatenating \\\\10.10.46.135\\share\\zhangna\\CFC\\20200526\\206548\\H10_M18_S36\\msCam4.avi\n",
      "Concatenating \\\\10.10.46.135\\share\\zhangna\\CFC\\20200526\\206548\\H10_M18_S36\\msCam5.avi\n",
      "Concatenating \\\\10.10.46.135\\share\\zhangna\\CFC\\20200526\\206548\\H10_M18_S36\\msCam6.avi\n",
      "Concatenating \\\\10.10.46.135\\share\\zhangna\\CFC\\20200526\\206548\\H10_M18_S36\\msCam7.avi\n"
     ]
    },
    {
     "name": "stderr",
     "output_type": "stream",
     "text": [
      "t:   0%|                                                              | 12/6900 [00:00<01:07, 102.57it/s, now=None]"
     ]
    },
    {
     "name": "stdout",
     "output_type": "stream",
     "text": [
      "Moviepy - Building video \\\\10.10.46.135\\share\\zhangna\\miniscope_result\\Results_206548\\20200826_195544_10fps_20200526\\msCam_concat.avi.\n",
      "Moviepy - Writing video \\\\10.10.46.135\\share\\zhangna\\miniscope_result\\Results_206548\\20200826_195544_10fps_20200526\\msCam_concat.avi\n",
      "\n"
     ]
    },
    {
     "name": "stderr",
     "output_type": "stream",
     "text": [
      "                                                                                                                   \r"
     ]
    },
    {
     "name": "stdout",
     "output_type": "stream",
     "text": [
      "Moviepy - Done !\n",
      "Moviepy - video ready \\\\10.10.46.135\\share\\zhangna\\miniscope_result\\Results_206548\\20200826_195544_10fps_20200526\\msCam_concat.avi\n",
      "\\\\10.10.46.135\\share\\zhangna\\miniscope_result\\Results_206548\\20200826_195544_10fps_20200526\\ms_ts.pkl\n",
      "concatenated video and timestamps have the same frames\n",
      "concatenated timestamp of miniscope_video is located at \\\\10.10.46.135\\share\\zhangna\\miniscope_result\\Results_206548\\20200826_195544_10fps_20200526\\ms_ts.pkl\n",
      "done\n",
      "20200527 206548\n",
      "\\\\10.10.46.135\\share\\zhangna\\miniscope_result\\Results_206548\\crop_param.pkl\n",
      "Concatenating \\\\10.10.46.135\\share\\zhangna\\CFC\\20200527\\206548\\H9_M54_S43\\msCam1.avi\n",
      "Concatenating \\\\10.10.46.135\\share\\zhangna\\CFC\\20200527\\206548\\H9_M54_S43\\msCam2.avi\n",
      "Concatenating \\\\10.10.46.135\\share\\zhangna\\CFC\\20200527\\206548\\H9_M54_S43\\msCam3.avi\n",
      "Concatenating \\\\10.10.46.135\\share\\zhangna\\CFC\\20200527\\206548\\H9_M54_S43\\msCam4.avi\n",
      "Concatenating \\\\10.10.46.135\\share\\zhangna\\CFC\\20200527\\206548\\H9_M54_S43\\msCam5.avi\n",
      "Concatenating \\\\10.10.46.135\\share\\zhangna\\CFC\\20200527\\206548\\H9_M54_S43\\msCam6.avi\n",
      "Concatenating \\\\10.10.46.135\\share\\zhangna\\CFC\\20200527\\206548\\H9_M54_S43\\msCam7.avi\n",
      "Concatenating \\\\10.10.46.135\\share\\zhangna\\CFC\\20200527\\206548\\H9_M54_S43\\msCam8.avi\n",
      "Concatenating \\\\10.10.46.135\\share\\zhangna\\CFC\\20200527\\206548\\H9_M54_S43\\msCam9.avi\n",
      "Concatenating \\\\10.10.46.135\\share\\zhangna\\CFC\\20200527\\206548\\H9_M54_S43\\msCam10.avi\n",
      "Concatenating \\\\10.10.46.135\\share\\zhangna\\CFC\\20200527\\206548\\H9_M54_S43\\msCam11.avi\n",
      "Concatenating \\\\10.10.46.135\\share\\zhangna\\CFC\\20200527\\206548\\H9_M54_S43\\msCam12.avi\n"
     ]
    },
    {
     "name": "stderr",
     "output_type": "stream",
     "text": [
      "\r",
      "t:   0%|                                                                        | 0/4123 [00:00<?, ?it/s, now=None]"
     ]
    },
    {
     "name": "stdout",
     "output_type": "stream",
     "text": [
      "Concatenating \\\\10.10.46.135\\share\\zhangna\\CFC\\20200527\\206548\\H9_M54_S43\\msCam13.avi\n",
      "Moviepy - Building video \\\\10.10.46.135\\share\\zhangna\\miniscope_result\\Results_206548\\20200826_195719_10fps_20200527\\msCam_concat.avi.\n",
      "Moviepy - Writing video \\\\10.10.46.135\\share\\zhangna\\miniscope_result\\Results_206548\\20200826_195719_10fps_20200527\\msCam_concat.avi\n",
      "\n"
     ]
    },
    {
     "name": "stderr",
     "output_type": "stream",
     "text": [
      "                                                                                                                   \r"
     ]
    },
    {
     "name": "stdout",
     "output_type": "stream",
     "text": [
      "Moviepy - Done !\n",
      "Moviepy - video ready \\\\10.10.46.135\\share\\zhangna\\miniscope_result\\Results_206548\\20200826_195719_10fps_20200527\\msCam_concat.avi\n",
      "\\\\10.10.46.135\\share\\zhangna\\miniscope_result\\Results_206548\\20200826_195719_10fps_20200527\\ms_ts.pkl\n",
      "concatenated video and timestamps have the same frames\n",
      "concatenated timestamp of miniscope_video is located at \\\\10.10.46.135\\share\\zhangna\\miniscope_result\\Results_206548\\20200826_195719_10fps_20200527\\ms_ts.pkl\n",
      "done\n",
      "20200528 206548\n",
      "\\\\10.10.46.135\\share\\zhangna\\miniscope_result\\Results_206548\\crop_param.pkl\n",
      "Concatenating \\\\10.10.46.135\\share\\zhangna\\CFC\\20200528\\206548\\H9_M57_S18\\msCam1.avi\n",
      "Concatenating \\\\10.10.46.135\\share\\zhangna\\CFC\\20200528\\206548\\H9_M57_S18\\msCam2.avi\n",
      "Concatenating \\\\10.10.46.135\\share\\zhangna\\CFC\\20200528\\206548\\H9_M57_S18\\msCam3.avi\n",
      "Concatenating \\\\10.10.46.135\\share\\zhangna\\CFC\\20200528\\206548\\H9_M57_S18\\msCam4.avi\n",
      "Concatenating \\\\10.10.46.135\\share\\zhangna\\CFC\\20200528\\206548\\H9_M57_S18\\msCam5.avi\n",
      "Concatenating \\\\10.10.46.135\\share\\zhangna\\CFC\\20200528\\206548\\H9_M57_S18\\msCam6.avi\n",
      "Concatenating \\\\10.10.46.135\\share\\zhangna\\CFC\\20200528\\206548\\H9_M57_S18\\msCam7.avi\n",
      "Concatenating \\\\10.10.46.135\\share\\zhangna\\CFC\\20200528\\206548\\H10_M2_S31\\msCam1.avi\n",
      "Concatenating \\\\10.10.46.135\\share\\zhangna\\CFC\\20200528\\206548\\H10_M2_S31\\msCam2.avi\n",
      "Concatenating \\\\10.10.46.135\\share\\zhangna\\CFC\\20200528\\206548\\H10_M2_S31\\msCam3.avi\n",
      "Concatenating \\\\10.10.46.135\\share\\zhangna\\CFC\\20200528\\206548\\H10_M2_S31\\msCam4.avi\n",
      "Concatenating \\\\10.10.46.135\\share\\zhangna\\CFC\\20200528\\206548\\H10_M2_S31\\msCam5.avi\n",
      "Concatenating \\\\10.10.46.135\\share\\zhangna\\CFC\\20200528\\206548\\H10_M2_S31\\msCam6.avi\n",
      "Concatenating \\\\10.10.46.135\\share\\zhangna\\CFC\\20200528\\206548\\H10_M2_S31\\msCam7.avi\n",
      "Concatenating \\\\10.10.46.135\\share\\zhangna\\CFC\\20200528\\206548\\H10_M7_S13\\msCam1.avi\n",
      "Concatenating \\\\10.10.46.135\\share\\zhangna\\CFC\\20200528\\206548\\H10_M7_S13\\msCam2.avi\n",
      "Concatenating \\\\10.10.46.135\\share\\zhangna\\CFC\\20200528\\206548\\H10_M7_S13\\msCam3.avi\n",
      "Concatenating \\\\10.10.46.135\\share\\zhangna\\CFC\\20200528\\206548\\H10_M7_S13\\msCam4.avi\n",
      "Concatenating \\\\10.10.46.135\\share\\zhangna\\CFC\\20200528\\206548\\H10_M7_S13\\msCam5.avi\n",
      "Concatenating \\\\10.10.46.135\\share\\zhangna\\CFC\\20200528\\206548\\H10_M7_S13\\msCam6.avi\n",
      "Concatenating \\\\10.10.46.135\\share\\zhangna\\CFC\\20200528\\206548\\H10_M7_S13\\msCam7.avi\n"
     ]
    },
    {
     "name": "stderr",
     "output_type": "stream",
     "text": [
      "t:   0%|                                                              | 12/6896 [00:00<00:57, 119.96it/s, now=None]"
     ]
    },
    {
     "name": "stdout",
     "output_type": "stream",
     "text": [
      "Moviepy - Building video \\\\10.10.46.135\\share\\zhangna\\miniscope_result\\Results_206548\\20200826_195816_10fps_20200528\\msCam_concat.avi.\n",
      "Moviepy - Writing video \\\\10.10.46.135\\share\\zhangna\\miniscope_result\\Results_206548\\20200826_195816_10fps_20200528\\msCam_concat.avi\n",
      "\n"
     ]
    },
    {
     "name": "stderr",
     "output_type": "stream",
     "text": [
      "                                                                                                                   \r"
     ]
    },
    {
     "name": "stdout",
     "output_type": "stream",
     "text": [
      "Moviepy - Done !\n",
      "Moviepy - video ready \\\\10.10.46.135\\share\\zhangna\\miniscope_result\\Results_206548\\20200826_195816_10fps_20200528\\msCam_concat.avi\n",
      "\\\\10.10.46.135\\share\\zhangna\\miniscope_result\\Results_206548\\20200826_195816_10fps_20200528\\ms_ts.pkl\n",
      "concatenated video and timestamps have the same frames\n",
      "concatenated timestamp of miniscope_video is located at \\\\10.10.46.135\\share\\zhangna\\miniscope_result\\Results_206548\\20200826_195816_10fps_20200528\\ms_ts.pkl\n",
      "done\n",
      "20200601 206548\n",
      "\\\\10.10.46.135\\share\\zhangna\\miniscope_result\\Results_206548\\crop_param.pkl\n",
      "Concatenating \\\\10.10.46.135\\share\\zhangna\\CFC\\20200601\\206548\\H13_M43_S45\\msCam1.avi\n",
      "Concatenating \\\\10.10.46.135\\share\\zhangna\\CFC\\20200601\\206548\\H13_M43_S45\\msCam2.avi\n",
      "Concatenating \\\\10.10.46.135\\share\\zhangna\\CFC\\20200601\\206548\\H13_M43_S45\\msCam3.avi\n",
      "Concatenating \\\\10.10.46.135\\share\\zhangna\\CFC\\20200601\\206548\\H13_M43_S45\\msCam4.avi\n",
      "Concatenating \\\\10.10.46.135\\share\\zhangna\\CFC\\20200601\\206548\\H13_M43_S45\\msCam5.avi\n",
      "Concatenating \\\\10.10.46.135\\share\\zhangna\\CFC\\20200601\\206548\\H13_M43_S45\\msCam6.avi\n",
      "Concatenating \\\\10.10.46.135\\share\\zhangna\\CFC\\20200601\\206548\\H13_M43_S45\\msCam7.avi\n",
      "Concatenating \\\\10.10.46.135\\share\\zhangna\\CFC\\20200601\\206548\\H13_M48_S31\\msCam1.avi\n",
      "Concatenating \\\\10.10.46.135\\share\\zhangna\\CFC\\20200601\\206548\\H13_M48_S31\\msCam2.avi\n",
      "Concatenating \\\\10.10.46.135\\share\\zhangna\\CFC\\20200601\\206548\\H13_M48_S31\\msCam3.avi\n",
      "Concatenating \\\\10.10.46.135\\share\\zhangna\\CFC\\20200601\\206548\\H13_M48_S31\\msCam4.avi\n",
      "Concatenating \\\\10.10.46.135\\share\\zhangna\\CFC\\20200601\\206548\\H13_M48_S31\\msCam5.avi\n",
      "Concatenating \\\\10.10.46.135\\share\\zhangna\\CFC\\20200601\\206548\\H13_M48_S31\\msCam6.avi\n",
      "Concatenating \\\\10.10.46.135\\share\\zhangna\\CFC\\20200601\\206548\\H13_M48_S31\\msCam7.avi\n",
      "Concatenating \\\\10.10.46.135\\share\\zhangna\\CFC\\20200601\\206548\\H13_M53_S14\\msCam1.avi\n",
      "Concatenating \\\\10.10.46.135\\share\\zhangna\\CFC\\20200601\\206548\\H13_M53_S14\\msCam2.avi\n",
      "Concatenating \\\\10.10.46.135\\share\\zhangna\\CFC\\20200601\\206548\\H13_M53_S14\\msCam3.avi\n",
      "Concatenating \\\\10.10.46.135\\share\\zhangna\\CFC\\20200601\\206548\\H13_M53_S14\\msCam4.avi\n",
      "Concatenating \\\\10.10.46.135\\share\\zhangna\\CFC\\20200601\\206548\\H13_M53_S14\\msCam5.avi\n",
      "Concatenating \\\\10.10.46.135\\share\\zhangna\\CFC\\20200601\\206548\\H13_M53_S14\\msCam6.avi\n",
      "Concatenating \\\\10.10.46.135\\share\\zhangna\\CFC\\20200601\\206548\\H13_M53_S14\\msCam7.avi\n"
     ]
    },
    {
     "name": "stderr",
     "output_type": "stream",
     "text": [
      "t:   0%|                                                              | 12/6898 [00:00<01:05, 105.80it/s, now=None]"
     ]
    },
    {
     "name": "stdout",
     "output_type": "stream",
     "text": [
      "Moviepy - Building video \\\\10.10.46.135\\share\\zhangna\\miniscope_result\\Results_206548\\20200826_195951_10fps_20200601\\msCam_concat.avi.\n",
      "Moviepy - Writing video \\\\10.10.46.135\\share\\zhangna\\miniscope_result\\Results_206548\\20200826_195951_10fps_20200601\\msCam_concat.avi\n",
      "\n"
     ]
    },
    {
     "name": "stderr",
     "output_type": "stream",
     "text": [
      "                                                                                                                   \r"
     ]
    },
    {
     "name": "stdout",
     "output_type": "stream",
     "text": [
      "Moviepy - Done !\n",
      "Moviepy - video ready \\\\10.10.46.135\\share\\zhangna\\miniscope_result\\Results_206548\\20200826_195951_10fps_20200601\\msCam_concat.avi\n",
      "\\\\10.10.46.135\\share\\zhangna\\miniscope_result\\Results_206548\\20200826_195951_10fps_20200601\\ms_ts.pkl\n",
      "concatenated video and timestamps have the same frames\n",
      "concatenated timestamp of miniscope_video is located at \\\\10.10.46.135\\share\\zhangna\\miniscope_result\\Results_206548\\20200826_195951_10fps_20200601\\ms_ts.pkl\n",
      "done\n",
      "20200606 206548\n",
      "\\\\10.10.46.135\\share\\zhangna\\miniscope_result\\Results_206548\\crop_param.pkl\n",
      "Concatenating \\\\10.10.46.135\\share\\zhangna\\CFC\\20200606\\206548\\H15_M14_S36\\msCam1.avi\n",
      "Concatenating \\\\10.10.46.135\\share\\zhangna\\CFC\\20200606\\206548\\H15_M14_S36\\msCam2.avi\n",
      "Concatenating \\\\10.10.46.135\\share\\zhangna\\CFC\\20200606\\206548\\H15_M14_S36\\msCam3.avi\n",
      "Concatenating \\\\10.10.46.135\\share\\zhangna\\CFC\\20200606\\206548\\H15_M14_S36\\msCam4.avi\n",
      "Concatenating \\\\10.10.46.135\\share\\zhangna\\CFC\\20200606\\206548\\H15_M14_S36\\msCam5.avi\n",
      "Concatenating \\\\10.10.46.135\\share\\zhangna\\CFC\\20200606\\206548\\H15_M14_S36\\msCam6.avi\n",
      "Concatenating \\\\10.10.46.135\\share\\zhangna\\CFC\\20200606\\206548\\H15_M14_S36\\msCam7.avi\n",
      "Concatenating \\\\10.10.46.135\\share\\zhangna\\CFC\\20200606\\206548\\H15_M19_S18\\msCam1.avi\n",
      "Concatenating \\\\10.10.46.135\\share\\zhangna\\CFC\\20200606\\206548\\H15_M19_S18\\msCam2.avi\n",
      "Concatenating \\\\10.10.46.135\\share\\zhangna\\CFC\\20200606\\206548\\H15_M19_S18\\msCam3.avi\n",
      "Concatenating \\\\10.10.46.135\\share\\zhangna\\CFC\\20200606\\206548\\H15_M19_S18\\msCam4.avi\n",
      "Concatenating \\\\10.10.46.135\\share\\zhangna\\CFC\\20200606\\206548\\H15_M19_S18\\msCam5.avi\n",
      "Concatenating \\\\10.10.46.135\\share\\zhangna\\CFC\\20200606\\206548\\H15_M19_S18\\msCam6.avi\n",
      "Concatenating \\\\10.10.46.135\\share\\zhangna\\CFC\\20200606\\206548\\H15_M19_S18\\msCam7.avi\n",
      "Concatenating \\\\10.10.46.135\\share\\zhangna\\CFC\\20200606\\206548\\H15_M24_S33\\msCam1.avi\n",
      "Concatenating \\\\10.10.46.135\\share\\zhangna\\CFC\\20200606\\206548\\H15_M24_S33\\msCam2.avi\n",
      "Concatenating \\\\10.10.46.135\\share\\zhangna\\CFC\\20200606\\206548\\H15_M24_S33\\msCam3.avi\n",
      "Concatenating \\\\10.10.46.135\\share\\zhangna\\CFC\\20200606\\206548\\H15_M24_S33\\msCam4.avi\n",
      "Concatenating \\\\10.10.46.135\\share\\zhangna\\CFC\\20200606\\206548\\H15_M24_S33\\msCam5.avi\n",
      "Concatenating \\\\10.10.46.135\\share\\zhangna\\CFC\\20200606\\206548\\H15_M24_S33\\msCam6.avi\n"
     ]
    },
    {
     "name": "stderr",
     "output_type": "stream",
     "text": [
      "\r",
      "t:   0%|                                                                        | 0/6897 [00:00<?, ?it/s, now=None]"
     ]
    },
    {
     "name": "stdout",
     "output_type": "stream",
     "text": [
      "Concatenating \\\\10.10.46.135\\share\\zhangna\\CFC\\20200606\\206548\\H15_M24_S33\\msCam7.avi\n",
      "Moviepy - Building video \\\\10.10.46.135\\share\\zhangna\\miniscope_result\\Results_206548\\20200826_200127_10fps_20200606\\msCam_concat.avi.\n",
      "Moviepy - Writing video \\\\10.10.46.135\\share\\zhangna\\miniscope_result\\Results_206548\\20200826_200127_10fps_20200606\\msCam_concat.avi\n",
      "\n"
     ]
    },
    {
     "name": "stderr",
     "output_type": "stream",
     "text": [
      "                                                                                                                   \r"
     ]
    },
    {
     "name": "stdout",
     "output_type": "stream",
     "text": [
      "Moviepy - Done !\n",
      "Moviepy - video ready \\\\10.10.46.135\\share\\zhangna\\miniscope_result\\Results_206548\\20200826_200127_10fps_20200606\\msCam_concat.avi\n",
      "\\\\10.10.46.135\\share\\zhangna\\miniscope_result\\Results_206548\\20200826_200127_10fps_20200606\\ms_ts.pkl\n",
      "concatenated video and timestamps have the same frames\n",
      "concatenated timestamp of miniscope_video is located at \\\\10.10.46.135\\share\\zhangna\\miniscope_result\\Results_206548\\20200826_200127_10fps_20200606\\ms_ts.pkl\n",
      "done\n"
     ]
    }
   ],
   "source": [
    "bug_msFileList = batch_concatenate(concatenate_files=concatenate_files\n",
    "                  ,rawdataDir=r\"\\\\10.10.46.135\\share\\zhangna\\CFC\"\n",
    "                  ,resultDir=r\"\\\\10.10.46.135\\share\\zhangna\\miniscope_result\"\n",
    "                  ,spatial_downsampling=2\n",
    "                  ,temporal_downsampling=3\n",
    "                  ,video_process=True)"
   ]
  },
  {
   "cell_type": "code",
   "execution_count": 6,
   "metadata": {},
   "outputs": [
    {
     "data": {
      "text/plain": [
       "[]"
      ]
     },
     "execution_count": 6,
     "metadata": {},
     "output_type": "execute_result"
    }
   ],
   "source": [
    "bug_msFileList"
   ]
  },
  {
   "cell_type": "code",
   "execution_count": 4,
   "metadata": {
    "code_folding": []
   },
   "outputs": [],
   "source": [
    "def batch_concatenate(concatenate_files\n",
    "                      ,rawdataDir\n",
    "                      ,resultDir\n",
    "                      ,spatial_downsampling=2\n",
    "                      ,temporal_downsampling=3\n",
    "                     ,video_process=True):\n",
    "    bug_msFileList=[]\n",
    "    for file in concatenate_files:\n",
    "        date = re.findall('\\d{8}',file)[0]\n",
    "        mouse_id = re.findall('\\d{8}\\\\\\\\(\\d+)',file)[0]\n",
    "        print(date,mouse_id)\n",
    "        msFileList,tsFileList = index_videos(animal_id=mouse_id\n",
    "                                             ,date=date\n",
    "                                             ,recorded_method=\"miniscope\"\n",
    "                                             ,rawdataDir=rawdataDir)\n",
    "#         print(tsFileList)\n",
    "        try:\n",
    "            crop_downsample_concatenate(animal_id=mouse_id\n",
    "                                        ,msFileList=msFileList\n",
    "                                        ,tsFileList=tsFileList\n",
    "                                        ,note=\"_10fps_\"+date\n",
    "                                        ,spatial_downsampling=spatial_downsampling\n",
    "                                        ,temporal_downsampling=temporal_downsampling\n",
    "                                        ,resultDir=resultDir\n",
    "                                        ,video_process=video_process)\n",
    "            print(\"done\")\n",
    "        except Exception as e:\n",
    "            print(e)\n",
    "            bug_msFileList.append((mouse_id,date))\n",
    "            continue\n",
    "    return bug_msFileList"
   ]
  },
  {
   "cell_type": "code",
   "execution_count": null,
   "metadata": {},
   "outputs": [],
   "source": [
    "def pkl2mat2(ms_mat_path):\n",
    "    \"\"\"\n",
    "    将多个ms_ts.pkl写入到一个ms.mat中\n",
    "    考虑多天合并跑的情况\n",
    "    \"\"\"\n",
    "\n",
    "    result = load_mat(ms_mat_path)\n",
    "\n",
    "    pkl_pathes = glob.glob(os.path.join(os.path.dirname(ms_mat_path),\"*\\ms_ts.pkl\"))\n",
    "\n",
    "    mat_path = os.path.join(os.path.dirname(ms_mat_path),\"ms2.mat\")\n",
    "    ms_ts_all=[]\n",
    "    for pkl_path in pkl_pathes:\n",
    "        with open(pkl_path,\"rb\") as f:\n",
    "            ms_ts = pickle.load(f)\n",
    "        for temp in ms_ts:\n",
    "            ms_ts_all.append(np.array(temp))\n",
    "    result[\"ms\"][\"ms_ts\"]=np.array(ms_ts_all)\n",
    "    savemat(mat_path,result)\n",
    "    print(\"save mat %s\"%mat_path)"
   ]
  }
 ],
 "metadata": {
  "kernelspec": {
   "display_name": "Python 3",
   "language": "python",
   "name": "python3"
  },
  "language_info": {
   "codemirror_mode": {
    "name": "ipython",
    "version": 3
   },
   "file_extension": ".py",
   "mimetype": "text/x-python",
   "name": "python",
   "nbconvert_exporter": "python",
   "pygments_lexer": "ipython3",
   "version": "3.8.3"
  },
  "toc": {
   "base_numbering": 1,
   "nav_menu": {},
   "number_sections": true,
   "sideBar": true,
   "skip_h1_title": false,
   "title_cell": "Table of Contents",
   "title_sidebar": "Contents",
   "toc_cell": false,
   "toc_position": {},
   "toc_section_display": true,
   "toc_window_display": false
  }
 },
 "nbformat": 4,
 "nbformat_minor": 4
}
