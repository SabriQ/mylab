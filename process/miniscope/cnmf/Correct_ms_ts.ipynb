{
 "cells": [
  {
   "cell_type": "markdown",
   "metadata": {},
   "source": [
    "<h1 style=\"text-align:center\">Correct ms_ts.pkl pipeline</h1>\n",
    "\n",
    "1. load ms.mat, load ms_ts, 对比ms.mat 和 ms_ts的帧数是否一致\n"
   ]
  },
  {
   "cell_type": "code",
   "execution_count": 5,
   "metadata": {},
   "outputs": [],
   "source": [
    "from mylab.process.miniscope.Mfunctions import load_mat,load_pkl\n",
    "from mylab.process.miniscope.cnmf.fun_1_glob_crop_downsample_concatenate import sort_key,crop_downsample_concatenate\n",
    "import os,sys,glob"
   ]
  },
  {
   "cell_type": "code",
   "execution_count": 59,
   "metadata": {
    "collapsed": true
   },
   "outputs": [
    {
     "name": "stdout",
     "output_type": "stream",
     "text": [
      "result is loaded\n",
      "\\\\10.10.46.135\\Lab_Members\\XuChun\\Lab Projects\\01_Intra Hippocampus\\Miniscope_CFC\\Results_191213\\20200212_165400_10fps\n",
      "corrected ms_ts.pkl\n",
      "result is loaded\n",
      "\\\\10.10.46.135\\Lab_Members\\XuChun\\Lab Projects\\01_Intra Hippocampus\\Miniscope_CFC\\Results_191215\\20200212_172456_10fps\n",
      "corrected ms_ts.pkl\n",
      "[Errno 2] No such file or directory: '\\\\\\\\10.10.46.135\\\\Lab_Members\\\\XuChun\\\\Lab Projects\\\\01_Intra Hippocampus\\\\Miniscope_CFC\\\\Results_191216\\\\20200114_222744_10fps\\\\ms.mat'\n",
      "result is loaded\n",
      "\\\\10.10.46.135\\Lab_Members\\XuChun\\Lab Projects\\01_Intra Hippocampus\\Miniscope_CFC\\Results_191216\\20200212_172520_10fps\n",
      "corrected ms_ts.pkl\n",
      "result is loaded\n",
      "\\\\10.10.46.135\\Lab_Members\\XuChun\\Lab Projects\\01_Intra Hippocampus\\Miniscope_CFC\\Results_192545\\20200212_172540_10fps\n",
      "corrected ms_ts.pkl\n",
      "result is loaded\n",
      "\\\\10.10.46.135\\Lab_Members\\XuChun\\Lab Projects\\01_Intra Hippocampus\\Miniscope_CFC\\Results_192546\\20200212_172553_10fps\n",
      "corrected ms_ts.pkl\n",
      "result is loaded\n",
      "\\\\10.10.46.135\\Lab_Members\\XuChun\\Lab Projects\\01_Intra Hippocampus\\Miniscope_CFC\\Results_201016\\20200422_144314_10fps\n",
      "corrected ms_ts.pkl\n",
      "result is loaded\n",
      "\\\\10.10.46.135\\Lab_Members\\XuChun\\Lab Projects\\01_Intra Hippocampus\\Miniscope_CFC\\Results_201017\\20200422_144525_10fps\n",
      "corrected ms_ts.pkl\n",
      "result is loaded\n",
      "\\\\10.10.46.135\\Lab_Members\\XuChun\\Lab Projects\\01_Intra Hippocampus\\Miniscope_CFC\\Results_201018\\20200422_155451_10fps\n",
      "corrected ms_ts.pkl\n",
      "result is loaded\n",
      "\\\\10.10.46.135\\Lab_Members\\XuChun\\Lab Projects\\01_Intra Hippocampus\\Miniscope_CFC\\Results_201019\\20200422_155524_10fps\n",
      "corrected ms_ts.pkl\n"
     ]
    }
   ],
   "source": [
    "wds = glob.glob(r\"\\\\10.10.46.135\\Lab_Members\\XuChun\\Lab Projects\\01_Intra Hippocampus\\Miniscope_CFC\\Results_*\\*10fps\")\n",
    "for wd in wds:\n",
    "    ms_mat_path = os.path.join(wd,\"ms.mat\")\n",
    "    ms_ts_path = os.path.join(wd,\"ms_ts.pkl\")\n",
    "    try:\n",
    "        result = load_mat(ms_mat_path)\n",
    "        ms_ts = load_pkl(ms_ts_path)\n",
    "    except Exception as e:\n",
    "        print(e)\n",
    "        continue\n",
    "    sigraw_length = result[\"ms\"][\"sigraw\"].shape[0]\n",
    "    ms_ts_length = sum([len(i) for i in ms_ts])\n",
    "    if  sigraw_length!= ms_ts_length:\n",
    "        print(\"===================\")\n",
    "        print(wd)\n",
    "        print(\"sigraw_length, ms_ts_length:%s, %s\"%(sigraw_length,ms_ts_length))\n",
    "        print(\"===================\")\n",
    "    else:\n",
    "        print(wd)\n",
    "        print(\"corrected ms_ts.pkl\")"
   ]
  },
  {
   "cell_type": "markdown",
   "metadata": {},
   "source": [
    "2. index raw_videos\n",
    "3. re-concatenate timestamps"
   ]
  },
  {
   "cell_type": "code",
   "execution_count": 53,
   "metadata": {},
   "outputs": [
    {
     "data": {
      "text/plain": [
       "['V:\\\\miniscope\\\\7_Miniscope_CHS\\\\raw_data\\\\2019\\\\201910\\\\20191016\\\\191174\\\\H16_M58_S12\\\\timestamp.dat',\n",
       " 'V:\\\\miniscope\\\\7_Miniscope_CHS\\\\raw_data\\\\2019\\\\201910\\\\20191016\\\\191174\\\\H17_M5_S1\\\\timestamp.dat',\n",
       " 'V:\\\\miniscope\\\\7_Miniscope_CHS\\\\raw_data\\\\2019\\\\201910\\\\20191016\\\\191174\\\\H17_M12_S28\\\\timestamp.dat',\n",
       " 'V:\\\\miniscope\\\\7_Miniscope_CHS\\\\raw_data\\\\2019\\\\201910\\\\20191017\\\\191174\\\\H13_M54_S48\\\\timestamp.dat',\n",
       " 'V:\\\\miniscope\\\\7_Miniscope_CHS\\\\raw_data\\\\2019\\\\201910\\\\20191017\\\\191174\\\\H14_M1_S59\\\\timestamp.dat',\n",
       " 'V:\\\\miniscope\\\\7_Miniscope_CHS\\\\raw_data\\\\2019\\\\201910\\\\20191018\\\\191174\\\\H10_M0_S38\\\\timestamp.dat',\n",
       " 'V:\\\\miniscope\\\\7_Miniscope_CHS\\\\raw_data\\\\2019\\\\201910\\\\20191019\\\\191174\\\\H13_M56_S31\\\\timestamp.dat',\n",
       " 'V:\\\\miniscope\\\\7_Miniscope_CHS\\\\raw_data\\\\2019\\\\201910\\\\20191019\\\\191174\\\\H14_M3_S38\\\\timestamp.dat',\n",
       " 'V:\\\\miniscope\\\\7_Miniscope_CHS\\\\raw_data\\\\2019\\\\201910\\\\20191020\\\\191174\\\\H13_M51_S35\\\\timestamp.dat',\n",
       " 'V:\\\\miniscope\\\\7_Miniscope_CHS\\\\raw_data\\\\2019\\\\201910\\\\20191021\\\\191174\\\\H10_M54_S16\\\\timestamp.dat']"
      ]
     },
     "execution_count": 53,
     "metadata": {},
     "output_type": "execute_result"
    }
   ],
   "source": [
    "raw_ms_data = r\"V:\\miniscope\\7_Miniscope_CHS\\raw_data\\*\\*\\*\\191174\\H*\\timestamp.dat\"\n",
    "ms_timestamps = glob.glob(raw_ms_data)\n",
    "ms_timestamps.sort(key=sort_key)\n",
    "print(ms_timestamps)\n",
    "\n",
    "crop_downsample_concatenate(\n",
    "    animal_id=\"191174\"\n",
    "    ,msFileList=[]\n",
    "    ,tsFileList=ms_timestamps\n",
    "    ,note=\"correct_ts\"\n",
    "    ,resultDir = r'\\\\10.10.46.135\\Lab_Members\\XuChun\\Lab Projects\\01_Intra Hippocampus\\Miniscope_CFC\\Results_191174'\n",
    "   ,spatial_downsampling=2\n",
    "   ,temporal_downsampling=3\n",
    "   ,video_process = False)"
   ]
  },
  {
   "cell_type": "code",
   "execution_count": null,
   "metadata": {},
   "outputs": [],
   "source": [
    "wd = r\"\\\\10.10.46.135\\Lab_Members\\XuChun\\Lab Projects\\01_Intra Hippocampus\\Miniscope_CFC\\Results_191174\\20191022_180507_all\"\n",
    "ms_mat_path = os.path.join(wd,\"ms.mat\")\n",
    "ms_ts_path = os.path.join(wd,\"ms_ts.pkl\")\n",
    "\n",
    "result = load_mat(ms_mat_path)\n",
    "ms_ts = load_pkl(ms_ts_path)\n",
    "sigraw_length = result[\"ms\"][\"sigraw\"].shape[0]\n",
    "ms_ts_length = sum([len(i) for i in ms_ts])\n",
    "if  sigraw_length!= ms_ts_length:\n",
    "    print(\"sigraw_length, ms_ts_length:%s, %s\"%(sigraw_length,ms_ts_length))\n",
    "else:\n",
    "    print(\"corrected ms_ts.pkl\")"
   ]
  }
 ],
 "metadata": {
  "kernelspec": {
   "display_name": "Python 3",
   "language": "python",
   "name": "python3"
  },
  "language_info": {
   "codemirror_mode": {
    "name": "ipython",
    "version": 3
   },
   "file_extension": ".py",
   "mimetype": "text/x-python",
   "name": "python",
   "nbconvert_exporter": "python",
   "pygments_lexer": "ipython3",
   "version": "3.8.3"
  },
  "toc": {
   "base_numbering": 1,
   "nav_menu": {},
   "number_sections": true,
   "sideBar": true,
   "skip_h1_title": false,
   "title_cell": "Table of Contents",
   "title_sidebar": "Contents",
   "toc_cell": false,
   "toc_position": {},
   "toc_section_display": true,
   "toc_window_display": false
  }
 },
 "nbformat": 4,
 "nbformat_minor": 4
}
