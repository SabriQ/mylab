{
 "cells": [
  {
   "cell_type": "code",
   "execution_count": 4,
   "metadata": {},
   "outputs": [],
   "source": [
    "from caiman.source_extraction.cnmf.cnmf import load_CNMF,load_dict_from_hdf5\n"
   ]
  },
  {
   "cell_type": "code",
   "execution_count": 28,
   "metadata": {},
   "outputs": [
    {
     "name": "stderr",
     "output_type": "stream",
     "text": [
      "/home/qiushou/.conda/envs/caiman/lib/python3.7/site-packages/h5py/_hl/dataset.py:313: H5pyDeprecationWarning: dataset.value has been deprecated. Use dataset[()] instead.\n",
      "  \"Use dataset[()] instead.\", H5pyDeprecationWarning)\n"
     ]
    }
   ],
   "source": [
    "cnm2 = load_CNMF(r\"/home/qiushou/Documents/WJN_data/miniscope/miniscope_result/Results_192603/20200706_205939_30fps_0624_nobug_qs/result.hdf5\")"
   ]
  },
  {
   "cell_type": "code",
   "execution_count": 29,
   "metadata": {},
   "outputs": [],
   "source": [
    "RawTraces = cnm2.estimates.C\n",
    "idx_accepeted = cnm2.estimates.idx_components\n",
    "# height,width, sigraw,SFP,numNeurons,dff,idx_accepted,idx_deleted,\n",
    "from scipy.io import savemat\n",
    "result_dict ={\n",
    "    \"height\":\n",
    "    \"width\":    \n",
    "    \"sigraw\" :RawTraces.conj().transpose(),\n",
    "    \"SFP\":\n",
    "    \"numNeurons\":\n",
    "    \"dff\":    \n",
    "    \"idx_accepted\":idx_accepeted\n",
    "    \"idx_deleted\":\n",
    "    \n",
    "}\n",
    "savemat(r\"/home/qiushou/Documents/WJN_data/miniscope/miniscope_result/Results_192603/20200706_205939_30fps_0624_nobug_qs/ms2.mat\"\n",
    "        ,{'ms':result_dict})"
   ]
  },
  {
   "cell_type": "code",
   "execution_count": 8,
   "metadata": {},
   "outputs": [
    {
     "name": "stderr",
     "output_type": "stream",
     "text": [
      "/home/qiushou/.conda/envs/caiman/lib/python3.7/site-packages/h5py/_hl/dataset.py:313: H5pyDeprecationWarning: dataset.value has been deprecated. Use dataset[()] instead.\n",
      "  \"Use dataset[()] instead.\", H5pyDeprecationWarning)\n"
     ]
    }
   ],
   "source": [
    "cnm = load_dict_from_hdf5(r\"result.hdf5\")"
   ]
  },
  {
   "cell_type": "code",
   "execution_count": 11,
   "metadata": {},
   "outputs": [
    {
     "data": {
      "text/plain": [
       "dict_keys(['dims', 'dview', 'empty_merged', 'estimates', 'mmap_file', 'params', 'remove_very_bad_comps', 'skip_refinement'])"
      ]
     },
     "execution_count": 11,
     "metadata": {},
     "output_type": "execute_result"
    }
   ],
   "source": [
    "cnm.keys()"
   ]
  },
  {
   "cell_type": "code",
   "execution_count": 13,
   "metadata": {},
   "outputs": [
    {
     "data": {
      "text/plain": [
       "dict_keys(['A', 'A_thr', 'Ab', 'Ab_dense', 'AtA', 'AtY_buf', 'C', 'CC', 'CY', 'C_on', 'Cf', 'F_dff', 'F_dff_dec', 'OASISinstances', 'R', 'S', 'SNR_comp', 'S_dff', 'W', 'YrA', 'Yr_buf', 'b', 'b0', 'bl', 'c1', 'center', 'cnn_preds', 'dims', 'discarded_components', 'f', 'g', 'idx_components', 'idx_components_bad', 'ind_new', 'lam', 'mn', 'neurons_sn', 'noisyC', 'nr', 'r_values', 'rho_buf', 'shifts', 'sn', 'sv', 'vr'])"
      ]
     },
     "execution_count": 13,
     "metadata": {},
     "output_type": "execute_result"
    }
   ],
   "source": [
    "cnm[\"estimates\"].keys()"
   ]
  }
 ],
 "metadata": {
  "kernelspec": {
   "display_name": "Python 3",
   "language": "python",
   "name": "python3"
  },
  "language_info": {
   "codemirror_mode": {
    "name": "ipython",
    "version": 3
   },
   "file_extension": ".py",
   "mimetype": "text/x-python",
   "name": "python",
   "nbconvert_exporter": "python",
   "pygments_lexer": "ipython3",
   "version": "3.8.3"
  },
  "toc": {
   "base_numbering": 1,
   "nav_menu": {},
   "number_sections": true,
   "sideBar": true,
   "skip_h1_title": false,
   "title_cell": "Table of Contents",
   "title_sidebar": "Contents",
   "toc_cell": false,
   "toc_position": {},
   "toc_section_display": true,
   "toc_window_display": false
  }
 },
 "nbformat": 4,
 "nbformat_minor": 2
}
