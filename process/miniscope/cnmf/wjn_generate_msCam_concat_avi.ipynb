{
 "cells": [
  {
   "cell_type": "code",
   "execution_count": 6,
   "metadata": {
    "scrolled": true
   },
   "outputs": [],
   "source": [
    "import cv2\n",
    "import os,sys,glob\n",
    "import re\n",
    "import pickle\n",
    "import pandas as pd\n",
    "import numpy as np\n",
    "from fun_1_glob_crop_downsample_concatenate import index_videos_wjn,crop_downsample_concatenate"
   ]
  },
  {
   "cell_type": "code",
   "execution_count": 7,
   "metadata": {},
   "outputs": [],
   "source": [
    "from ms_pkl2mat import ms_tses2ms_ts as m2m"
   ]
  },
  {
   "cell_type": "code",
   "execution_count": 9,
   "metadata": {},
   "outputs": [
    {
     "data": {
      "text/plain": [
       "['\\\\\\\\10.10.46.135\\\\share\\\\zhangna\\\\miniscope_result\\\\Results_192543',\n",
       " '\\\\\\\\10.10.46.135\\\\share\\\\zhangna\\\\miniscope_result\\\\Results_192547',\n",
       " '\\\\\\\\10.10.46.135\\\\share\\\\zhangna\\\\miniscope_result\\\\Results_192555',\n",
       " '\\\\\\\\10.10.46.135\\\\share\\\\zhangna\\\\miniscope_result\\\\Results_192564',\n",
       " '\\\\\\\\10.10.46.135\\\\share\\\\zhangna\\\\miniscope_result\\\\Results_192575',\n",
       " '\\\\\\\\10.10.46.135\\\\share\\\\zhangna\\\\miniscope_result\\\\Results_192598',\n",
       " '\\\\\\\\10.10.46.135\\\\share\\\\zhangna\\\\miniscope_result\\\\Results_206534',\n",
       " '\\\\\\\\10.10.46.135\\\\share\\\\zhangna\\\\miniscope_result\\\\Results_206548',\n",
       " '\\\\\\\\10.10.46.135\\\\share\\\\zhangna\\\\miniscope_result\\\\Results_206550',\n",
       " '\\\\\\\\10.10.46.135\\\\share\\\\zhangna\\\\miniscope_result\\\\Results_206551',\n",
       " '\\\\\\\\10.10.46.135\\\\share\\\\zhangna\\\\miniscope_result\\\\Results_206552',\n",
       " '\\\\\\\\10.10.46.135\\\\share\\\\zhangna\\\\miniscope_result\\\\Results_206553',\n",
       " '\\\\\\\\10.10.46.135\\\\share\\\\zhangna\\\\miniscope_result\\\\Results_206554',\n",
       " '\\\\\\\\10.10.46.135\\\\share\\\\zhangna\\\\miniscope_result\\\\Results_206555',\n",
       " '\\\\\\\\10.10.46.135\\\\share\\\\zhangna\\\\miniscope_result\\\\Results_206556']"
      ]
     },
     "execution_count": 9,
     "metadata": {},
     "output_type": "execute_result"
    }
   ],
   "source": [
    "dirs = glob.glob(r\"\\\\10.10.46.135\\share\\zhangna\\miniscope_result\\*\")\n",
    "for dir in dirs:\n",
    "    m2m(dir)"
   ]
  },
  {
   "cell_type": "code",
   "execution_count": 6,
   "metadata": {},
   "outputs": [
    {
     "data": {
      "text/plain": [
       "['\\\\\\\\10.10.46.135\\\\data_archive\\\\wujinni\\\\3_MINIscope\\\\RAW_DATA\\\\5_sequence\\\\WJN_SCOPE_B2\\\\192596\\\\20200823',\n",
       " '\\\\\\\\10.10.46.135\\\\data_archive\\\\wujinni\\\\3_MINIscope\\\\RAW_DATA\\\\5_sequence\\\\WJN_SCOPE_B2\\\\192596\\\\20200824',\n",
       " '\\\\\\\\10.10.46.135\\\\data_archive\\\\wujinni\\\\3_MINIscope\\\\RAW_DATA\\\\5_sequence\\\\WJN_SCOPE_B2\\\\192596\\\\20200825',\n",
       " '\\\\\\\\10.10.46.135\\\\data_archive\\\\wujinni\\\\3_MINIscope\\\\RAW_DATA\\\\5_sequence\\\\WJN_SCOPE_B2\\\\192596\\\\20200826',\n",
       " '\\\\\\\\10.10.46.135\\\\data_archive\\\\wujinni\\\\3_MINIscope\\\\RAW_DATA\\\\5_sequence\\\\WJN_SCOPE_B2\\\\192596\\\\20200827']"
      ]
     },
     "execution_count": 6,
     "metadata": {},
     "output_type": "execute_result"
    }
   ],
   "source": [
    "concatenate_files = glob.glob(r\"\\\\10.10.46.135\\data_archive\\wujinni\\3_MINIscope\\RAW_DATA\\5_sequence\\WJN_SCOPE_B2\\192596\\2020082*\")\n",
    "concatenate_files = concatenate_files[1:]\n",
    "concatenate_files"
   ]
  },
  {
   "cell_type": "code",
   "execution_count": 13,
   "metadata": {},
   "outputs": [
    {
     "ename": "FileNotFoundError",
     "evalue": "[Errno 2] No such file or directory: '\\\\\\\\10.10.46.135\\\\share\\\\zhangna\\\\miniscope_result\\\\Results_206556\\\\20200826_124038_30fps_20200711/ms_ts.pkl'",
     "output_type": "error",
     "traceback": [
      "\u001b[1;31m---------------------------------------------------------------------------\u001b[0m",
      "\u001b[1;31mFileNotFoundError\u001b[0m                         Traceback (most recent call last)",
      "\u001b[1;32m<ipython-input-13-49d194f1024e>\u001b[0m in \u001b[0;36m<module>\u001b[1;34m\u001b[0m\n\u001b[1;32m----> 1\u001b[1;33m \u001b[1;32mwith\u001b[0m \u001b[0mopen\u001b[0m\u001b[1;33m(\u001b[0m\u001b[1;34mr\"\\\\10.10.46.135\\share\\zhangna\\miniscope_result\\Results_206556\\20200826_124038_30fps_20200711/ms_ts.pkl\"\u001b[0m\u001b[1;33m,\u001b[0m\u001b[1;34m\"rb\"\u001b[0m \u001b[1;33m)\u001b[0m \u001b[1;32mas\u001b[0m \u001b[0mf\u001b[0m\u001b[1;33m:\u001b[0m\u001b[1;33m\u001b[0m\u001b[1;33m\u001b[0m\u001b[0m\n\u001b[0m\u001b[0;32m      2\u001b[0m     \u001b[0mts\u001b[0m \u001b[1;33m=\u001b[0m \u001b[0mpickle\u001b[0m\u001b[1;33m.\u001b[0m\u001b[0mload\u001b[0m\u001b[1;33m(\u001b[0m\u001b[0mf\u001b[0m\u001b[1;33m)\u001b[0m\u001b[1;33m\u001b[0m\u001b[1;33m\u001b[0m\u001b[0m\n\u001b[0;32m      3\u001b[0m \u001b[0msum\u001b[0m\u001b[1;33m(\u001b[0m\u001b[1;33m[\u001b[0m\u001b[0mlen\u001b[0m\u001b[1;33m(\u001b[0m\u001b[0mi\u001b[0m\u001b[1;33m)\u001b[0m \u001b[1;32mfor\u001b[0m \u001b[0mi\u001b[0m \u001b[1;32min\u001b[0m \u001b[0mts\u001b[0m\u001b[1;33m]\u001b[0m\u001b[1;33m)\u001b[0m\u001b[1;33m\u001b[0m\u001b[1;33m\u001b[0m\u001b[0m\n",
      "\u001b[1;31mFileNotFoundError\u001b[0m: [Errno 2] No such file or directory: '\\\\\\\\10.10.46.135\\\\share\\\\zhangna\\\\miniscope_result\\\\Results_206556\\\\20200826_124038_30fps_20200711/ms_ts.pkl'"
     ]
    }
   ],
   "source": [
    "with open(r\"\\\\10.10.46.135\\share\\zhangna\\miniscope_result\\Results_206556\\20200826_123528_30fps_20200706/ms_ts.pkl\",\"rb\" ) as f:\n",
    "    ts = pickle.load(f)\n",
    "sum([len(i) for i in ts])\n",
    "\n",
    "cv2.VideoCapture(r\"\\\\10.10.46.135\\share\\zhangna\\miniscope_result\\Results_206556\\20200826_123528_30fps_20200706/msCam_concat.avi\").get(7)"
   ]
  },
  {
   "cell_type": "code",
   "execution_count": 10,
   "metadata": {
    "code_folding": [],
    "collapsed": true
   },
   "outputs": [
    {
     "name": "stdout",
     "output_type": "stream",
     "text": [
      "20200823 192596\n",
      "\\\\10.10.47.163\\Disk2\\wujinni\\miniscope_results\\Results_192596\\crop_param.pkl\n",
      "Concatenating \\\\10.10.46.135\\data_archive\\wujinni\\3_MINIscope\\RAW_DATA\\5_sequence\\WJN_SCOPE_B2\\192596\\20200823\\H16_M57_S36\\msCam1.avi\n",
      "Concatenating \\\\10.10.46.135\\data_archive\\wujinni\\3_MINIscope\\RAW_DATA\\5_sequence\\WJN_SCOPE_B2\\192596\\20200823\\H16_M57_S36\\msCam2.avi\n",
      "Concatenating \\\\10.10.46.135\\data_archive\\wujinni\\3_MINIscope\\RAW_DATA\\5_sequence\\WJN_SCOPE_B2\\192596\\20200823\\H16_M57_S36\\msCam3.avi\n",
      "Concatenating \\\\10.10.46.135\\data_archive\\wujinni\\3_MINIscope\\RAW_DATA\\5_sequence\\WJN_SCOPE_B2\\192596\\20200823\\H16_M57_S36\\msCam4.avi\n",
      "Concatenating \\\\10.10.46.135\\data_archive\\wujinni\\3_MINIscope\\RAW_DATA\\5_sequence\\WJN_SCOPE_B2\\192596\\20200823\\H16_M57_S36\\msCam5.avi\n",
      "Concatenating \\\\10.10.46.135\\data_archive\\wujinni\\3_MINIscope\\RAW_DATA\\5_sequence\\WJN_SCOPE_B2\\192596\\20200823\\H16_M57_S36\\msCam6.avi\n",
      "Concatenating \\\\10.10.46.135\\data_archive\\wujinni\\3_MINIscope\\RAW_DATA\\5_sequence\\WJN_SCOPE_B2\\192596\\20200823\\H16_M57_S36\\msCam7.avi\n",
      "Concatenating \\\\10.10.46.135\\data_archive\\wujinni\\3_MINIscope\\RAW_DATA\\5_sequence\\WJN_SCOPE_B2\\192596\\20200823\\H16_M57_S36\\msCam8.avi\n",
      "Concatenating \\\\10.10.46.135\\data_archive\\wujinni\\3_MINIscope\\RAW_DATA\\5_sequence\\WJN_SCOPE_B2\\192596\\20200823\\H16_M57_S36\\msCam9.avi\n",
      "Concatenating \\\\10.10.46.135\\data_archive\\wujinni\\3_MINIscope\\RAW_DATA\\5_sequence\\WJN_SCOPE_B2\\192596\\20200823\\H16_M57_S36\\msCam10.avi\n",
      "Concatenating \\\\10.10.46.135\\data_archive\\wujinni\\3_MINIscope\\RAW_DATA\\5_sequence\\WJN_SCOPE_B2\\192596\\20200823\\H16_M57_S36\\msCam11.avi\n",
      "Concatenating \\\\10.10.46.135\\data_archive\\wujinni\\3_MINIscope\\RAW_DATA\\5_sequence\\WJN_SCOPE_B2\\192596\\20200823\\H16_M57_S36\\msCam12.avi\n",
      "Concatenating \\\\10.10.46.135\\data_archive\\wujinni\\3_MINIscope\\RAW_DATA\\5_sequence\\WJN_SCOPE_B2\\192596\\20200823\\H16_M57_S36\\msCam13.avi\n",
      "Concatenating \\\\10.10.46.135\\data_archive\\wujinni\\3_MINIscope\\RAW_DATA\\5_sequence\\WJN_SCOPE_B2\\192596\\20200823\\H16_M57_S36\\msCam14.avi\n",
      "Concatenating \\\\10.10.46.135\\data_archive\\wujinni\\3_MINIscope\\RAW_DATA\\5_sequence\\WJN_SCOPE_B2\\192596\\20200823\\H16_M57_S36\\msCam15.avi\n",
      "Concatenating \\\\10.10.46.135\\data_archive\\wujinni\\3_MINIscope\\RAW_DATA\\5_sequence\\WJN_SCOPE_B2\\192596\\20200823\\H16_M57_S36\\msCam16.avi\n",
      "Concatenating \\\\10.10.46.135\\data_archive\\wujinni\\3_MINIscope\\RAW_DATA\\5_sequence\\WJN_SCOPE_B2\\192596\\20200823\\H16_M57_S36\\msCam17.avi\n",
      "Concatenating \\\\10.10.46.135\\data_archive\\wujinni\\3_MINIscope\\RAW_DATA\\5_sequence\\WJN_SCOPE_B2\\192596\\20200823\\H16_M57_S36\\msCam18.avi\n",
      "Concatenating \\\\10.10.46.135\\data_archive\\wujinni\\3_MINIscope\\RAW_DATA\\5_sequence\\WJN_SCOPE_B2\\192596\\20200823\\H16_M57_S36\\msCam19.avi\n",
      "Concatenating \\\\10.10.46.135\\data_archive\\wujinni\\3_MINIscope\\RAW_DATA\\5_sequence\\WJN_SCOPE_B2\\192596\\20200823\\H16_M57_S36\\msCam20.avi\n",
      "Concatenating \\\\10.10.46.135\\data_archive\\wujinni\\3_MINIscope\\RAW_DATA\\5_sequence\\WJN_SCOPE_B2\\192596\\20200823\\H16_M57_S36\\msCam21.avi\n",
      "Concatenating \\\\10.10.46.135\\data_archive\\wujinni\\3_MINIscope\\RAW_DATA\\5_sequence\\WJN_SCOPE_B2\\192596\\20200823\\H16_M57_S36\\msCam22.avi\n",
      "Concatenating \\\\10.10.46.135\\data_archive\\wujinni\\3_MINIscope\\RAW_DATA\\5_sequence\\WJN_SCOPE_B2\\192596\\20200823\\H16_M57_S36\\msCam23.avi\n",
      "Concatenating \\\\10.10.46.135\\data_archive\\wujinni\\3_MINIscope\\RAW_DATA\\5_sequence\\WJN_SCOPE_B2\\192596\\20200823\\H16_M57_S36\\msCam24.avi\n",
      "Concatenating \\\\10.10.46.135\\data_archive\\wujinni\\3_MINIscope\\RAW_DATA\\5_sequence\\WJN_SCOPE_B2\\192596\\20200823\\H16_M57_S36\\msCam25.avi\n",
      "Concatenating \\\\10.10.46.135\\data_archive\\wujinni\\3_MINIscope\\RAW_DATA\\5_sequence\\WJN_SCOPE_B2\\192596\\20200823\\H16_M57_S36\\msCam26.avi\n",
      "Concatenating \\\\10.10.46.135\\data_archive\\wujinni\\3_MINIscope\\RAW_DATA\\5_sequence\\WJN_SCOPE_B2\\192596\\20200823\\H16_M57_S36\\msCam27.avi\n",
      "Concatenating \\\\10.10.46.135\\data_archive\\wujinni\\3_MINIscope\\RAW_DATA\\5_sequence\\WJN_SCOPE_B2\\192596\\20200823\\H16_M57_S36\\msCam28.avi\n",
      "Concatenating \\\\10.10.46.135\\data_archive\\wujinni\\3_MINIscope\\RAW_DATA\\5_sequence\\WJN_SCOPE_B2\\192596\\20200823\\H16_M57_S36\\msCam29.avi\n",
      "Concatenating \\\\10.10.46.135\\data_archive\\wujinni\\3_MINIscope\\RAW_DATA\\5_sequence\\WJN_SCOPE_B2\\192596\\20200823\\H16_M57_S36\\msCam30.avi\n",
      "Concatenating \\\\10.10.46.135\\data_archive\\wujinni\\3_MINIscope\\RAW_DATA\\5_sequence\\WJN_SCOPE_B2\\192596\\20200823\\H16_M57_S36\\msCam31.avi\n",
      "Concatenating \\\\10.10.46.135\\data_archive\\wujinni\\3_MINIscope\\RAW_DATA\\5_sequence\\WJN_SCOPE_B2\\192596\\20200823\\H16_M57_S36\\msCam32.avi\n",
      "Concatenating \\\\10.10.46.135\\data_archive\\wujinni\\3_MINIscope\\RAW_DATA\\5_sequence\\WJN_SCOPE_B2\\192596\\20200823\\H16_M57_S36\\msCam33.avi\n",
      "Concatenating \\\\10.10.46.135\\data_archive\\wujinni\\3_MINIscope\\RAW_DATA\\5_sequence\\WJN_SCOPE_B2\\192596\\20200823\\H16_M57_S36\\msCam34.avi\n",
      "Concatenating \\\\10.10.46.135\\data_archive\\wujinni\\3_MINIscope\\RAW_DATA\\5_sequence\\WJN_SCOPE_B2\\192596\\20200823\\H16_M57_S36\\msCam35.avi\n",
      "Concatenating \\\\10.10.46.135\\data_archive\\wujinni\\3_MINIscope\\RAW_DATA\\5_sequence\\WJN_SCOPE_B2\\192596\\20200823\\H16_M57_S36\\msCam36.avi\n",
      "Concatenating \\\\10.10.46.135\\data_archive\\wujinni\\3_MINIscope\\RAW_DATA\\5_sequence\\WJN_SCOPE_B2\\192596\\20200823\\H16_M57_S36\\msCam37.avi\n",
      "Concatenating \\\\10.10.46.135\\data_archive\\wujinni\\3_MINIscope\\RAW_DATA\\5_sequence\\WJN_SCOPE_B2\\192596\\20200823\\H16_M57_S36\\msCam38.avi\n",
      "Concatenating \\\\10.10.46.135\\data_archive\\wujinni\\3_MINIscope\\RAW_DATA\\5_sequence\\WJN_SCOPE_B2\\192596\\20200823\\H16_M57_S36\\msCam39.avi\n",
      "Concatenating \\\\10.10.46.135\\data_archive\\wujinni\\3_MINIscope\\RAW_DATA\\5_sequence\\WJN_SCOPE_B2\\192596\\20200823\\H16_M57_S36\\msCam40.avi\n",
      "Concatenating \\\\10.10.46.135\\data_archive\\wujinni\\3_MINIscope\\RAW_DATA\\5_sequence\\WJN_SCOPE_B2\\192596\\20200823\\H16_M57_S36\\msCam41.avi\n",
      "Concatenating \\\\10.10.46.135\\data_archive\\wujinni\\3_MINIscope\\RAW_DATA\\5_sequence\\WJN_SCOPE_B2\\192596\\20200823\\H16_M57_S36\\msCam42.avi\n",
      "Concatenating \\\\10.10.46.135\\data_archive\\wujinni\\3_MINIscope\\RAW_DATA\\5_sequence\\WJN_SCOPE_B2\\192596\\20200823\\H16_M57_S36\\msCam43.avi\n",
      "Concatenating \\\\10.10.46.135\\data_archive\\wujinni\\3_MINIscope\\RAW_DATA\\5_sequence\\WJN_SCOPE_B2\\192596\\20200823\\H16_M57_S36\\msCam44.avi\n",
      "Concatenating \\\\10.10.46.135\\data_archive\\wujinni\\3_MINIscope\\RAW_DATA\\5_sequence\\WJN_SCOPE_B2\\192596\\20200823\\H16_M57_S36\\msCam45.avi\n",
      "Concatenating \\\\10.10.46.135\\data_archive\\wujinni\\3_MINIscope\\RAW_DATA\\5_sequence\\WJN_SCOPE_B2\\192596\\20200823\\H16_M57_S36\\msCam46.avi\n",
      "Concatenating \\\\10.10.46.135\\data_archive\\wujinni\\3_MINIscope\\RAW_DATA\\5_sequence\\WJN_SCOPE_B2\\192596\\20200823\\H16_M57_S36\\msCam47.avi\n",
      "Concatenating \\\\10.10.46.135\\data_archive\\wujinni\\3_MINIscope\\RAW_DATA\\5_sequence\\WJN_SCOPE_B2\\192596\\20200823\\H16_M57_S36\\msCam48.avi\n",
      "Concatenating \\\\10.10.46.135\\data_archive\\wujinni\\3_MINIscope\\RAW_DATA\\5_sequence\\WJN_SCOPE_B2\\192596\\20200823\\H16_M57_S36\\msCam49.avi\n",
      "Concatenating \\\\10.10.46.135\\data_archive\\wujinni\\3_MINIscope\\RAW_DATA\\5_sequence\\WJN_SCOPE_B2\\192596\\20200823\\H16_M57_S36\\msCam50.avi\n",
      "Concatenating \\\\10.10.46.135\\data_archive\\wujinni\\3_MINIscope\\RAW_DATA\\5_sequence\\WJN_SCOPE_B2\\192596\\20200823\\H16_M57_S36\\msCam51.avi\n",
      "Concatenating \\\\10.10.46.135\\data_archive\\wujinni\\3_MINIscope\\RAW_DATA\\5_sequence\\WJN_SCOPE_B2\\192596\\20200823\\H16_M57_S36\\msCam52.avi\n",
      "Concatenating \\\\10.10.46.135\\data_archive\\wujinni\\3_MINIscope\\RAW_DATA\\5_sequence\\WJN_SCOPE_B2\\192596\\20200823\\H16_M57_S36\\msCam53.avi\n",
      "Concatenating \\\\10.10.46.135\\data_archive\\wujinni\\3_MINIscope\\RAW_DATA\\5_sequence\\WJN_SCOPE_B2\\192596\\20200823\\H16_M57_S36\\msCam54.avi\n",
      "Concatenating \\\\10.10.46.135\\data_archive\\wujinni\\3_MINIscope\\RAW_DATA\\5_sequence\\WJN_SCOPE_B2\\192596\\20200823\\H16_M57_S36\\msCam55.avi\n",
      "Concatenating \\\\10.10.46.135\\data_archive\\wujinni\\3_MINIscope\\RAW_DATA\\5_sequence\\WJN_SCOPE_B2\\192596\\20200823\\H16_M57_S36\\msCam56.avi\n",
      "Concatenating \\\\10.10.46.135\\data_archive\\wujinni\\3_MINIscope\\RAW_DATA\\5_sequence\\WJN_SCOPE_B2\\192596\\20200823\\H16_M57_S36\\msCam57.avi\n",
      "Concatenating \\\\10.10.46.135\\data_archive\\wujinni\\3_MINIscope\\RAW_DATA\\5_sequence\\WJN_SCOPE_B2\\192596\\20200823\\H16_M57_S36\\msCam58.avi\n",
      "Concatenating \\\\10.10.46.135\\data_archive\\wujinni\\3_MINIscope\\RAW_DATA\\5_sequence\\WJN_SCOPE_B2\\192596\\20200823\\H16_M57_S36\\msCam59.avi\n",
      "Concatenating \\\\10.10.46.135\\data_archive\\wujinni\\3_MINIscope\\RAW_DATA\\5_sequence\\WJN_SCOPE_B2\\192596\\20200823\\H16_M57_S36\\msCam60.avi\n",
      "Concatenating \\\\10.10.46.135\\data_archive\\wujinni\\3_MINIscope\\RAW_DATA\\5_sequence\\WJN_SCOPE_B2\\192596\\20200823\\H16_M57_S36\\msCam61.avi\n",
      "Concatenating \\\\10.10.46.135\\data_archive\\wujinni\\3_MINIscope\\RAW_DATA\\5_sequence\\WJN_SCOPE_B2\\192596\\20200823\\H16_M57_S36\\msCam62.avi\n"
     ]
    },
    {
     "name": "stdout",
     "output_type": "stream",
     "text": [
      "Concatenating \\\\10.10.46.135\\data_archive\\wujinni\\3_MINIscope\\RAW_DATA\\5_sequence\\WJN_SCOPE_B2\\192596\\20200823\\H16_M57_S36\\msCam63.avi\n",
      "Concatenating \\\\10.10.46.135\\data_archive\\wujinni\\3_MINIscope\\RAW_DATA\\5_sequence\\WJN_SCOPE_B2\\192596\\20200823\\H16_M57_S36\\msCam64.avi\n",
      "Concatenating \\\\10.10.46.135\\data_archive\\wujinni\\3_MINIscope\\RAW_DATA\\5_sequence\\WJN_SCOPE_B2\\192596\\20200823\\H16_M57_S36\\msCam65.avi\n",
      "Concatenating \\\\10.10.46.135\\data_archive\\wujinni\\3_MINIscope\\RAW_DATA\\5_sequence\\WJN_SCOPE_B2\\192596\\20200823\\H16_M57_S36\\msCam66.avi\n",
      "Concatenating \\\\10.10.46.135\\data_archive\\wujinni\\3_MINIscope\\RAW_DATA\\5_sequence\\WJN_SCOPE_B2\\192596\\20200823\\H16_M57_S36\\msCam67.avi\n",
      "Concatenating \\\\10.10.46.135\\data_archive\\wujinni\\3_MINIscope\\RAW_DATA\\5_sequence\\WJN_SCOPE_B2\\192596\\20200823\\H16_M57_S36\\msCam68.avi\n",
      "Concatenating \\\\10.10.46.135\\data_archive\\wujinni\\3_MINIscope\\RAW_DATA\\5_sequence\\WJN_SCOPE_B2\\192596\\20200823\\H16_M57_S36\\msCam69.avi\n",
      "Concatenating \\\\10.10.46.135\\data_archive\\wujinni\\3_MINIscope\\RAW_DATA\\5_sequence\\WJN_SCOPE_B2\\192596\\20200823\\H16_M57_S36\\msCam70.avi\n",
      "Concatenating \\\\10.10.46.135\\data_archive\\wujinni\\3_MINIscope\\RAW_DATA\\5_sequence\\WJN_SCOPE_B2\\192596\\20200823\\H16_M57_S36\\msCam71.avi\n",
      "Concatenating \\\\10.10.46.135\\data_archive\\wujinni\\3_MINIscope\\RAW_DATA\\5_sequence\\WJN_SCOPE_B2\\192596\\20200823\\H16_M57_S36\\msCam72.avi\n",
      "Concatenating \\\\10.10.46.135\\data_archive\\wujinni\\3_MINIscope\\RAW_DATA\\5_sequence\\WJN_SCOPE_B2\\192596\\20200823\\H16_M57_S36\\msCam73.avi\n",
      "Concatenating \\\\10.10.46.135\\data_archive\\wujinni\\3_MINIscope\\RAW_DATA\\5_sequence\\WJN_SCOPE_B2\\192596\\20200823\\H16_M57_S36\\msCam74.avi\n",
      "Concatenating \\\\10.10.46.135\\data_archive\\wujinni\\3_MINIscope\\RAW_DATA\\5_sequence\\WJN_SCOPE_B2\\192596\\20200823\\H16_M57_S36\\msCam75.avi\n",
      "Concatenating \\\\10.10.46.135\\data_archive\\wujinni\\3_MINIscope\\RAW_DATA\\5_sequence\\WJN_SCOPE_B2\\192596\\20200823\\H16_M57_S36\\msCam76.avi\n",
      "Concatenating \\\\10.10.46.135\\data_archive\\wujinni\\3_MINIscope\\RAW_DATA\\5_sequence\\WJN_SCOPE_B2\\192596\\20200823\\H16_M57_S36\\msCam77.avi\n",
      "Concatenating \\\\10.10.46.135\\data_archive\\wujinni\\3_MINIscope\\RAW_DATA\\5_sequence\\WJN_SCOPE_B2\\192596\\20200823\\H16_M57_S36\\msCam78.avi\n",
      "Concatenating \\\\10.10.46.135\\data_archive\\wujinni\\3_MINIscope\\RAW_DATA\\5_sequence\\WJN_SCOPE_B2\\192596\\20200823\\H16_M57_S36\\msCam79.avi\n",
      "Concatenating \\\\10.10.46.135\\data_archive\\wujinni\\3_MINIscope\\RAW_DATA\\5_sequence\\WJN_SCOPE_B2\\192596\\20200823\\H16_M57_S36\\msCam80.avi\n",
      "Concatenating \\\\10.10.46.135\\data_archive\\wujinni\\3_MINIscope\\RAW_DATA\\5_sequence\\WJN_SCOPE_B2\\192596\\20200823\\H16_M57_S36\\msCam81.avi\n",
      "Concatenating \\\\10.10.46.135\\data_archive\\wujinni\\3_MINIscope\\RAW_DATA\\5_sequence\\WJN_SCOPE_B2\\192596\\20200823\\H16_M57_S36\\msCam82.avi\n",
      "Concatenating \\\\10.10.46.135\\data_archive\\wujinni\\3_MINIscope\\RAW_DATA\\5_sequence\\WJN_SCOPE_B2\\192596\\20200823\\H16_M57_S36\\msCam83.avi\n",
      "Concatenating \\\\10.10.46.135\\data_archive\\wujinni\\3_MINIscope\\RAW_DATA\\5_sequence\\WJN_SCOPE_B2\\192596\\20200823\\H16_M57_S36\\msCam84.avi\n",
      "Concatenating \\\\10.10.46.135\\data_archive\\wujinni\\3_MINIscope\\RAW_DATA\\5_sequence\\WJN_SCOPE_B2\\192596\\20200823\\H16_M57_S36\\msCam85.avi\n",
      "Concatenating \\\\10.10.46.135\\data_archive\\wujinni\\3_MINIscope\\RAW_DATA\\5_sequence\\WJN_SCOPE_B2\\192596\\20200823\\H16_M57_S36\\msCam86.avi\n",
      "Concatenating \\\\10.10.46.135\\data_archive\\wujinni\\3_MINIscope\\RAW_DATA\\5_sequence\\WJN_SCOPE_B2\\192596\\20200823\\H16_M57_S36\\msCam87.avi\n",
      "Concatenating \\\\10.10.46.135\\data_archive\\wujinni\\3_MINIscope\\RAW_DATA\\5_sequence\\WJN_SCOPE_B2\\192596\\20200823\\H16_M57_S36\\msCam88.avi\n",
      "Concatenating \\\\10.10.46.135\\data_archive\\wujinni\\3_MINIscope\\RAW_DATA\\5_sequence\\WJN_SCOPE_B2\\192596\\20200823\\H16_M57_S36\\msCam89.avi\n",
      "Concatenating \\\\10.10.46.135\\data_archive\\wujinni\\3_MINIscope\\RAW_DATA\\5_sequence\\WJN_SCOPE_B2\\192596\\20200823\\H16_M57_S36\\msCam90.avi\n",
      "Concatenating \\\\10.10.46.135\\data_archive\\wujinni\\3_MINIscope\\RAW_DATA\\5_sequence\\WJN_SCOPE_B2\\192596\\20200823\\H16_M57_S36\\msCam91.avi\n",
      "Concatenating \\\\10.10.46.135\\data_archive\\wujinni\\3_MINIscope\\RAW_DATA\\5_sequence\\WJN_SCOPE_B2\\192596\\20200823\\H16_M57_S36\\msCam92.avi\n",
      "Concatenating \\\\10.10.46.135\\data_archive\\wujinni\\3_MINIscope\\RAW_DATA\\5_sequence\\WJN_SCOPE_B2\\192596\\20200823\\H16_M57_S36\\msCam93.avi\n",
      "Concatenating \\\\10.10.46.135\\data_archive\\wujinni\\3_MINIscope\\RAW_DATA\\5_sequence\\WJN_SCOPE_B2\\192596\\20200823\\H16_M57_S36\\msCam94.avi\n",
      "Concatenating \\\\10.10.46.135\\data_archive\\wujinni\\3_MINIscope\\RAW_DATA\\5_sequence\\WJN_SCOPE_B2\\192596\\20200823\\H16_M57_S36\\msCam95.avi\n",
      "Concatenating \\\\10.10.46.135\\data_archive\\wujinni\\3_MINIscope\\RAW_DATA\\5_sequence\\WJN_SCOPE_B2\\192596\\20200823\\H16_M57_S36\\msCam96.avi\n",
      "Concatenating \\\\10.10.46.135\\data_archive\\wujinni\\3_MINIscope\\RAW_DATA\\5_sequence\\WJN_SCOPE_B2\\192596\\20200823\\H16_M57_S36\\msCam97.avi\n"
     ]
    },
    {
     "name": "stderr",
     "output_type": "stream",
     "text": [
      "\r",
      "t:   0%|                                                                           | 0/97570 [00:00<?, ?it/s, now=None]"
     ]
    },
    {
     "name": "stdout",
     "output_type": "stream",
     "text": [
      "Concatenating \\\\10.10.46.135\\data_archive\\wujinni\\3_MINIscope\\RAW_DATA\\5_sequence\\WJN_SCOPE_B2\\192596\\20200823\\H16_M57_S36\\msCam98.avi\n",
      "Moviepy - Building video \\\\10.10.47.163\\Disk2\\wujinni\\miniscope_results\\Results_192596\\20200828_221034_30fps_20200823raw\\msCam_concat.avi.\n",
      "Moviepy - Writing video \\\\10.10.47.163\\Disk2\\wujinni\\miniscope_results\\Results_192596\\20200828_221034_30fps_20200823raw\\msCam_concat.avi\n",
      "\n"
     ]
    },
    {
     "name": "stderr",
     "output_type": "stream",
     "text": [
      "t:  10%|██████▏                                                         | 9453/97570 [01:43<18:38, 78.79it/s, now=None]"
     ]
    },
    {
     "ename": "KeyboardInterrupt",
     "evalue": "",
     "output_type": "error",
     "traceback": [
      "\u001b[1;31m---------------------------------------------------------------------------\u001b[0m",
      "\u001b[1;31mKeyboardInterrupt\u001b[0m                         Traceback (most recent call last)",
      "\u001b[1;32m<ipython-input-10-92fbd87bd335>\u001b[0m in \u001b[0;36m<module>\u001b[1;34m\u001b[0m\n\u001b[1;32m----> 1\u001b[1;33m bug_msFileList = batch_concatenate(concatenate_files=concatenate_files\n\u001b[0m\u001b[0;32m      2\u001b[0m                   \u001b[1;33m,\u001b[0m\u001b[0mrawdataDir\u001b[0m\u001b[1;33m=\u001b[0m\u001b[1;34mr\"\\\\10.10.46.135\\data_archive\\wujinni\\3_MINIscope\\RAW_DATA\\5_sequence\\WJN_SCOPE_B2\"\u001b[0m\u001b[1;33m\u001b[0m\u001b[1;33m\u001b[0m\u001b[0m\n\u001b[0;32m      3\u001b[0m                   \u001b[1;33m,\u001b[0m\u001b[0mresultDir\u001b[0m\u001b[1;33m=\u001b[0m\u001b[1;34mr\"\\\\10.10.47.163\\Disk2\\wujinni\\miniscope_results\"\u001b[0m\u001b[1;33m\u001b[0m\u001b[1;33m\u001b[0m\u001b[0m\n\u001b[0;32m      4\u001b[0m                   \u001b[1;33m,\u001b[0m\u001b[0mspatial_downsampling\u001b[0m\u001b[1;33m=\u001b[0m\u001b[1;36m2\u001b[0m\u001b[1;33m\u001b[0m\u001b[1;33m\u001b[0m\u001b[0m\n\u001b[0;32m      5\u001b[0m                   \u001b[1;33m,\u001b[0m\u001b[0mtemporal_downsampling\u001b[0m\u001b[1;33m=\u001b[0m\u001b[1;36m1\u001b[0m\u001b[1;33m\u001b[0m\u001b[1;33m\u001b[0m\u001b[0m\n",
      "\u001b[1;32m<ipython-input-9-232f8a2dfcc4>\u001b[0m in \u001b[0;36mbatch_concatenate\u001b[1;34m(concatenate_files, rawdataDir, resultDir, spatial_downsampling, temporal_downsampling, video_process)\u001b[0m\n\u001b[0;32m     17\u001b[0m \u001b[1;31m#         print(tsFileList)\u001b[0m\u001b[1;33m\u001b[0m\u001b[1;33m\u001b[0m\u001b[1;33m\u001b[0m\u001b[0m\n\u001b[0;32m     18\u001b[0m         \u001b[1;32mtry\u001b[0m\u001b[1;33m:\u001b[0m\u001b[1;33m\u001b[0m\u001b[1;33m\u001b[0m\u001b[0m\n\u001b[1;32m---> 19\u001b[1;33m             crop_downsample_concatenate(animal_id=mouse_id\n\u001b[0m\u001b[0;32m     20\u001b[0m                                         \u001b[1;33m,\u001b[0m\u001b[0mmsFileList\u001b[0m\u001b[1;33m=\u001b[0m\u001b[0mmsFileList\u001b[0m\u001b[1;33m\u001b[0m\u001b[1;33m\u001b[0m\u001b[0m\n\u001b[0;32m     21\u001b[0m                                         \u001b[1;33m,\u001b[0m\u001b[0mtsFileList\u001b[0m\u001b[1;33m=\u001b[0m\u001b[0mtsFileList\u001b[0m\u001b[1;33m\u001b[0m\u001b[1;33m\u001b[0m\u001b[0m\n",
      "\u001b[1;32m~\\.conda\\envs\\mylab\\Lib\\site-packages\\mylab\\process\\miniscope\\cnmf\\fun_1_glob_crop_downsample_concatenate.py\u001b[0m in \u001b[0;36mcrop_downsample_concatenate\u001b[1;34m(animal_id, msFileList, tsFileList, note, resultDir, spatial_downsampling, temporal_downsampling, video_process)\u001b[0m\n\u001b[0;32m    197\u001b[0m \u001b[1;33m\u001b[0m\u001b[0m\n\u001b[0;32m    198\u001b[0m \u001b[1;33m\u001b[0m\u001b[0m\n\u001b[1;32m--> 199\u001b[1;33m         \u001b[0mfinal_clip\u001b[0m\u001b[1;33m.\u001b[0m\u001b[0mwrite_videofile\u001b[0m\u001b[1;33m(\u001b[0m\u001b[0mvideoconcat\u001b[0m\u001b[1;33m,\u001b[0m\u001b[0mcodec\u001b[0m\u001b[1;33m=\u001b[0m\u001b[1;34m'rawvideo'\u001b[0m\u001b[1;33m,\u001b[0m\u001b[0maudio\u001b[0m\u001b[1;33m=\u001b[0m\u001b[1;32mFalse\u001b[0m\u001b[1;33m,\u001b[0m\u001b[0mthreads\u001b[0m\u001b[1;33m=\u001b[0m\u001b[1;36m8\u001b[0m\u001b[1;33m)\u001b[0m\u001b[1;33m\u001b[0m\u001b[1;33m\u001b[0m\u001b[0m\n\u001b[0m\u001b[0;32m    200\u001b[0m     \u001b[1;31m##    final_clip.write_videofile(videoconcat,codec='png',audio=False,threads=8)\u001b[0m\u001b[1;33m\u001b[0m\u001b[1;33m\u001b[0m\u001b[1;33m\u001b[0m\u001b[0m\n\u001b[0;32m    201\u001b[0m     \u001b[1;31m#     final_clip.write_videofile(videoconcat,codec='mpeg4',audio=False,threads=8)\u001b[0m\u001b[1;33m\u001b[0m\u001b[1;33m\u001b[0m\u001b[1;33m\u001b[0m\u001b[0m\n",
      "\u001b[1;32m<decorator-gen-181>\u001b[0m in \u001b[0;36mwrite_videofile\u001b[1;34m(self, filename, fps, codec, bitrate, audio, audio_fps, preset, audio_nbytes, audio_codec, audio_bitrate, audio_bufsize, temp_audiofile, rewrite_audio, remove_temp, write_logfile, verbose, threads, ffmpeg_params, logger)\u001b[0m\n",
      "\u001b[1;32m~\\.conda\\envs\\mylab\\lib\\site-packages\\moviepy\\decorators.py\u001b[0m in \u001b[0;36mrequires_duration\u001b[1;34m(f, clip, *a, **k)\u001b[0m\n\u001b[0;32m     52\u001b[0m         \u001b[1;32mraise\u001b[0m \u001b[0mValueError\u001b[0m\u001b[1;33m(\u001b[0m\u001b[1;34m\"Attribute 'duration' not set\"\u001b[0m\u001b[1;33m)\u001b[0m\u001b[1;33m\u001b[0m\u001b[1;33m\u001b[0m\u001b[0m\n\u001b[0;32m     53\u001b[0m     \u001b[1;32melse\u001b[0m\u001b[1;33m:\u001b[0m\u001b[1;33m\u001b[0m\u001b[1;33m\u001b[0m\u001b[0m\n\u001b[1;32m---> 54\u001b[1;33m         \u001b[1;32mreturn\u001b[0m \u001b[0mf\u001b[0m\u001b[1;33m(\u001b[0m\u001b[0mclip\u001b[0m\u001b[1;33m,\u001b[0m \u001b[1;33m*\u001b[0m\u001b[0ma\u001b[0m\u001b[1;33m,\u001b[0m \u001b[1;33m**\u001b[0m\u001b[0mk\u001b[0m\u001b[1;33m)\u001b[0m\u001b[1;33m\u001b[0m\u001b[1;33m\u001b[0m\u001b[0m\n\u001b[0m\u001b[0;32m     55\u001b[0m \u001b[1;33m\u001b[0m\u001b[0m\n\u001b[0;32m     56\u001b[0m \u001b[1;33m\u001b[0m\u001b[0m\n",
      "\u001b[1;32m<decorator-gen-180>\u001b[0m in \u001b[0;36mwrite_videofile\u001b[1;34m(self, filename, fps, codec, bitrate, audio, audio_fps, preset, audio_nbytes, audio_codec, audio_bitrate, audio_bufsize, temp_audiofile, rewrite_audio, remove_temp, write_logfile, verbose, threads, ffmpeg_params, logger)\u001b[0m\n",
      "\u001b[1;32m~\\.conda\\envs\\mylab\\lib\\site-packages\\moviepy\\decorators.py\u001b[0m in \u001b[0;36muse_clip_fps_by_default\u001b[1;34m(f, clip, *a, **k)\u001b[0m\n\u001b[0;32m    133\u001b[0m              for (k,v) in k.items()}\n\u001b[0;32m    134\u001b[0m \u001b[1;33m\u001b[0m\u001b[0m\n\u001b[1;32m--> 135\u001b[1;33m     \u001b[1;32mreturn\u001b[0m \u001b[0mf\u001b[0m\u001b[1;33m(\u001b[0m\u001b[0mclip\u001b[0m\u001b[1;33m,\u001b[0m \u001b[1;33m*\u001b[0m\u001b[0mnew_a\u001b[0m\u001b[1;33m,\u001b[0m \u001b[1;33m**\u001b[0m\u001b[0mnew_kw\u001b[0m\u001b[1;33m)\u001b[0m\u001b[1;33m\u001b[0m\u001b[1;33m\u001b[0m\u001b[0m\n\u001b[0m",
      "\u001b[1;32m<decorator-gen-179>\u001b[0m in \u001b[0;36mwrite_videofile\u001b[1;34m(self, filename, fps, codec, bitrate, audio, audio_fps, preset, audio_nbytes, audio_codec, audio_bitrate, audio_bufsize, temp_audiofile, rewrite_audio, remove_temp, write_logfile, verbose, threads, ffmpeg_params, logger)\u001b[0m\n",
      "\u001b[1;32m~\\.conda\\envs\\mylab\\lib\\site-packages\\moviepy\\decorators.py\u001b[0m in \u001b[0;36mconvert_masks_to_RGB\u001b[1;34m(f, clip, *a, **k)\u001b[0m\n\u001b[0;32m     20\u001b[0m     \u001b[1;32mif\u001b[0m \u001b[0mclip\u001b[0m\u001b[1;33m.\u001b[0m\u001b[0mismask\u001b[0m\u001b[1;33m:\u001b[0m\u001b[1;33m\u001b[0m\u001b[1;33m\u001b[0m\u001b[0m\n\u001b[0;32m     21\u001b[0m         \u001b[0mclip\u001b[0m \u001b[1;33m=\u001b[0m \u001b[0mclip\u001b[0m\u001b[1;33m.\u001b[0m\u001b[0mto_RGB\u001b[0m\u001b[1;33m(\u001b[0m\u001b[1;33m)\u001b[0m\u001b[1;33m\u001b[0m\u001b[1;33m\u001b[0m\u001b[0m\n\u001b[1;32m---> 22\u001b[1;33m     \u001b[1;32mreturn\u001b[0m \u001b[0mf\u001b[0m\u001b[1;33m(\u001b[0m\u001b[0mclip\u001b[0m\u001b[1;33m,\u001b[0m \u001b[1;33m*\u001b[0m\u001b[0ma\u001b[0m\u001b[1;33m,\u001b[0m \u001b[1;33m**\u001b[0m\u001b[0mk\u001b[0m\u001b[1;33m)\u001b[0m\u001b[1;33m\u001b[0m\u001b[1;33m\u001b[0m\u001b[0m\n\u001b[0m\u001b[0;32m     23\u001b[0m \u001b[1;33m\u001b[0m\u001b[0m\n\u001b[0;32m     24\u001b[0m \u001b[1;33m@\u001b[0m\u001b[0mdecorator\u001b[0m\u001b[1;33m.\u001b[0m\u001b[0mdecorator\u001b[0m\u001b[1;33m\u001b[0m\u001b[1;33m\u001b[0m\u001b[0m\n",
      "\u001b[1;32m~\\.conda\\envs\\mylab\\lib\\site-packages\\moviepy\\video\\VideoClip.py\u001b[0m in \u001b[0;36mwrite_videofile\u001b[1;34m(self, filename, fps, codec, bitrate, audio, audio_fps, preset, audio_nbytes, audio_codec, audio_bitrate, audio_bufsize, temp_audiofile, rewrite_audio, remove_temp, write_logfile, verbose, threads, ffmpeg_params, logger)\u001b[0m\n\u001b[0;32m    298\u001b[0m                                        logger=logger)\n\u001b[0;32m    299\u001b[0m \u001b[1;33m\u001b[0m\u001b[0m\n\u001b[1;32m--> 300\u001b[1;33m         ffmpeg_write_video(self, filename, fps, codec,\n\u001b[0m\u001b[0;32m    301\u001b[0m                            \u001b[0mbitrate\u001b[0m\u001b[1;33m=\u001b[0m\u001b[0mbitrate\u001b[0m\u001b[1;33m,\u001b[0m\u001b[1;33m\u001b[0m\u001b[1;33m\u001b[0m\u001b[0m\n\u001b[0;32m    302\u001b[0m                            \u001b[0mpreset\u001b[0m\u001b[1;33m=\u001b[0m\u001b[0mpreset\u001b[0m\u001b[1;33m,\u001b[0m\u001b[1;33m\u001b[0m\u001b[1;33m\u001b[0m\u001b[0m\n",
      "\u001b[1;32m~\\.conda\\envs\\mylab\\lib\\site-packages\\moviepy\\video\\io\\ffmpeg_writer.py\u001b[0m in \u001b[0;36mffmpeg_write_video\u001b[1;34m(clip, filename, fps, codec, bitrate, preset, withmask, write_logfile, audiofile, verbose, threads, ffmpeg_params, logger)\u001b[0m\n\u001b[0;32m    218\u001b[0m         \u001b[0mnframes\u001b[0m \u001b[1;33m=\u001b[0m \u001b[0mint\u001b[0m\u001b[1;33m(\u001b[0m\u001b[0mclip\u001b[0m\u001b[1;33m.\u001b[0m\u001b[0mduration\u001b[0m\u001b[1;33m*\u001b[0m\u001b[0mfps\u001b[0m\u001b[1;33m)\u001b[0m\u001b[1;33m\u001b[0m\u001b[1;33m\u001b[0m\u001b[0m\n\u001b[0;32m    219\u001b[0m \u001b[1;33m\u001b[0m\u001b[0m\n\u001b[1;32m--> 220\u001b[1;33m         for t,frame in clip.iter_frames(logger=logger, with_times=True,\n\u001b[0m\u001b[0;32m    221\u001b[0m                                         fps=fps, dtype=\"uint8\"):\n\u001b[0;32m    222\u001b[0m             \u001b[1;32mif\u001b[0m \u001b[0mwithmask\u001b[0m\u001b[1;33m:\u001b[0m\u001b[1;33m\u001b[0m\u001b[1;33m\u001b[0m\u001b[0m\n",
      "\u001b[1;32m~\\.conda\\envs\\mylab\\lib\\site-packages\\moviepy\\Clip.py\u001b[0m in \u001b[0;36miter_frames\u001b[1;34m(self, fps, with_times, logger, dtype)\u001b[0m\n\u001b[0;32m    470\u001b[0m         \u001b[0mlogger\u001b[0m \u001b[1;33m=\u001b[0m \u001b[0mproglog\u001b[0m\u001b[1;33m.\u001b[0m\u001b[0mdefault_bar_logger\u001b[0m\u001b[1;33m(\u001b[0m\u001b[0mlogger\u001b[0m\u001b[1;33m)\u001b[0m\u001b[1;33m\u001b[0m\u001b[1;33m\u001b[0m\u001b[0m\n\u001b[0;32m    471\u001b[0m         \u001b[1;32mfor\u001b[0m \u001b[0mt\u001b[0m \u001b[1;32min\u001b[0m \u001b[0mlogger\u001b[0m\u001b[1;33m.\u001b[0m\u001b[0miter_bar\u001b[0m\u001b[1;33m(\u001b[0m\u001b[0mt\u001b[0m\u001b[1;33m=\u001b[0m\u001b[0mnp\u001b[0m\u001b[1;33m.\u001b[0m\u001b[0marange\u001b[0m\u001b[1;33m(\u001b[0m\u001b[1;36m0\u001b[0m\u001b[1;33m,\u001b[0m \u001b[0mself\u001b[0m\u001b[1;33m.\u001b[0m\u001b[0mduration\u001b[0m\u001b[1;33m,\u001b[0m \u001b[1;36m1.0\u001b[0m\u001b[1;33m/\u001b[0m\u001b[0mfps\u001b[0m\u001b[1;33m)\u001b[0m\u001b[1;33m)\u001b[0m\u001b[1;33m:\u001b[0m\u001b[1;33m\u001b[0m\u001b[1;33m\u001b[0m\u001b[0m\n\u001b[1;32m--> 472\u001b[1;33m             \u001b[0mframe\u001b[0m \u001b[1;33m=\u001b[0m \u001b[0mself\u001b[0m\u001b[1;33m.\u001b[0m\u001b[0mget_frame\u001b[0m\u001b[1;33m(\u001b[0m\u001b[0mt\u001b[0m\u001b[1;33m)\u001b[0m\u001b[1;33m\u001b[0m\u001b[1;33m\u001b[0m\u001b[0m\n\u001b[0m\u001b[0;32m    473\u001b[0m             \u001b[1;32mif\u001b[0m \u001b[1;33m(\u001b[0m\u001b[0mdtype\u001b[0m \u001b[1;32mis\u001b[0m \u001b[1;32mnot\u001b[0m \u001b[1;32mNone\u001b[0m\u001b[1;33m)\u001b[0m \u001b[1;32mand\u001b[0m \u001b[1;33m(\u001b[0m\u001b[0mframe\u001b[0m\u001b[1;33m.\u001b[0m\u001b[0mdtype\u001b[0m \u001b[1;33m!=\u001b[0m \u001b[0mdtype\u001b[0m\u001b[1;33m)\u001b[0m\u001b[1;33m:\u001b[0m\u001b[1;33m\u001b[0m\u001b[1;33m\u001b[0m\u001b[0m\n\u001b[0;32m    474\u001b[0m                 \u001b[0mframe\u001b[0m \u001b[1;33m=\u001b[0m \u001b[0mframe\u001b[0m\u001b[1;33m.\u001b[0m\u001b[0mastype\u001b[0m\u001b[1;33m(\u001b[0m\u001b[0mdtype\u001b[0m\u001b[1;33m)\u001b[0m\u001b[1;33m\u001b[0m\u001b[1;33m\u001b[0m\u001b[0m\n",
      "\u001b[1;32m<decorator-gen-137>\u001b[0m in \u001b[0;36mget_frame\u001b[1;34m(self, t)\u001b[0m\n",
      "\u001b[1;32m~\\.conda\\envs\\mylab\\lib\\site-packages\\moviepy\\decorators.py\u001b[0m in \u001b[0;36mwrapper\u001b[1;34m(f, *a, **kw)\u001b[0m\n\u001b[0;32m     87\u001b[0m         new_kw = {k: fun(v) if k in varnames else v\n\u001b[0;32m     88\u001b[0m                  for (k,v) in kw.items()}\n\u001b[1;32m---> 89\u001b[1;33m         \u001b[1;32mreturn\u001b[0m \u001b[0mf\u001b[0m\u001b[1;33m(\u001b[0m\u001b[1;33m*\u001b[0m\u001b[0mnew_a\u001b[0m\u001b[1;33m,\u001b[0m \u001b[1;33m**\u001b[0m\u001b[0mnew_kw\u001b[0m\u001b[1;33m)\u001b[0m\u001b[1;33m\u001b[0m\u001b[1;33m\u001b[0m\u001b[0m\n\u001b[0m\u001b[0;32m     90\u001b[0m     \u001b[1;32mreturn\u001b[0m \u001b[0mdecorator\u001b[0m\u001b[1;33m.\u001b[0m\u001b[0mdecorator\u001b[0m\u001b[1;33m(\u001b[0m\u001b[0mwrapper\u001b[0m\u001b[1;33m)\u001b[0m\u001b[1;33m\u001b[0m\u001b[1;33m\u001b[0m\u001b[0m\n\u001b[0;32m     91\u001b[0m \u001b[1;33m\u001b[0m\u001b[0m\n",
      "\u001b[1;32m~\\.conda\\envs\\mylab\\lib\\site-packages\\moviepy\\Clip.py\u001b[0m in \u001b[0;36mget_frame\u001b[1;34m(self, t)\u001b[0m\n\u001b[0;32m     91\u001b[0m                 \u001b[1;32mreturn\u001b[0m \u001b[0mframe\u001b[0m\u001b[1;33m\u001b[0m\u001b[1;33m\u001b[0m\u001b[0m\n\u001b[0;32m     92\u001b[0m         \u001b[1;32melse\u001b[0m\u001b[1;33m:\u001b[0m\u001b[1;33m\u001b[0m\u001b[1;33m\u001b[0m\u001b[0m\n\u001b[1;32m---> 93\u001b[1;33m             \u001b[1;32mreturn\u001b[0m \u001b[0mself\u001b[0m\u001b[1;33m.\u001b[0m\u001b[0mmake_frame\u001b[0m\u001b[1;33m(\u001b[0m\u001b[0mt\u001b[0m\u001b[1;33m)\u001b[0m\u001b[1;33m\u001b[0m\u001b[1;33m\u001b[0m\u001b[0m\n\u001b[0m\u001b[0;32m     94\u001b[0m \u001b[1;33m\u001b[0m\u001b[0m\n\u001b[0;32m     95\u001b[0m     \u001b[1;32mdef\u001b[0m \u001b[0mfl\u001b[0m\u001b[1;33m(\u001b[0m\u001b[0mself\u001b[0m\u001b[1;33m,\u001b[0m \u001b[0mfun\u001b[0m\u001b[1;33m,\u001b[0m \u001b[0mapply_to\u001b[0m\u001b[1;33m=\u001b[0m\u001b[1;32mNone\u001b[0m\u001b[1;33m,\u001b[0m \u001b[0mkeep_duration\u001b[0m\u001b[1;33m=\u001b[0m\u001b[1;32mTrue\u001b[0m\u001b[1;33m)\u001b[0m\u001b[1;33m:\u001b[0m\u001b[1;33m\u001b[0m\u001b[1;33m\u001b[0m\u001b[0m\n",
      "\u001b[1;32m~\\.conda\\envs\\mylab\\lib\\site-packages\\moviepy\\video\\compositing\\concatenate.py\u001b[0m in \u001b[0;36mmake_frame\u001b[1;34m(t)\u001b[0m\n\u001b[0;32m     81\u001b[0m         \u001b[1;32mdef\u001b[0m \u001b[0mmake_frame\u001b[0m\u001b[1;33m(\u001b[0m\u001b[0mt\u001b[0m\u001b[1;33m)\u001b[0m\u001b[1;33m:\u001b[0m\u001b[1;33m\u001b[0m\u001b[1;33m\u001b[0m\u001b[0m\n\u001b[0;32m     82\u001b[0m             \u001b[0mi\u001b[0m \u001b[1;33m=\u001b[0m \u001b[0mmax\u001b[0m\u001b[1;33m(\u001b[0m\u001b[1;33m[\u001b[0m\u001b[0mi\u001b[0m \u001b[1;32mfor\u001b[0m \u001b[0mi\u001b[0m\u001b[1;33m,\u001b[0m \u001b[0me\u001b[0m \u001b[1;32min\u001b[0m \u001b[0menumerate\u001b[0m\u001b[1;33m(\u001b[0m\u001b[0mtt\u001b[0m\u001b[1;33m)\u001b[0m \u001b[1;32mif\u001b[0m \u001b[0me\u001b[0m \u001b[1;33m<=\u001b[0m \u001b[0mt\u001b[0m\u001b[1;33m]\u001b[0m\u001b[1;33m)\u001b[0m\u001b[1;33m\u001b[0m\u001b[1;33m\u001b[0m\u001b[0m\n\u001b[1;32m---> 83\u001b[1;33m             \u001b[1;32mreturn\u001b[0m \u001b[0mclips\u001b[0m\u001b[1;33m[\u001b[0m\u001b[0mi\u001b[0m\u001b[1;33m]\u001b[0m\u001b[1;33m.\u001b[0m\u001b[0mget_frame\u001b[0m\u001b[1;33m(\u001b[0m\u001b[0mt\u001b[0m \u001b[1;33m-\u001b[0m \u001b[0mtt\u001b[0m\u001b[1;33m[\u001b[0m\u001b[0mi\u001b[0m\u001b[1;33m]\u001b[0m\u001b[1;33m)\u001b[0m\u001b[1;33m\u001b[0m\u001b[1;33m\u001b[0m\u001b[0m\n\u001b[0m\u001b[0;32m     84\u001b[0m \u001b[1;33m\u001b[0m\u001b[0m\n\u001b[0;32m     85\u001b[0m         \u001b[1;32mdef\u001b[0m \u001b[0mget_mask\u001b[0m\u001b[1;33m(\u001b[0m\u001b[0mc\u001b[0m\u001b[1;33m)\u001b[0m\u001b[1;33m:\u001b[0m\u001b[1;33m\u001b[0m\u001b[1;33m\u001b[0m\u001b[0m\n",
      "\u001b[1;32m<decorator-gen-137>\u001b[0m in \u001b[0;36mget_frame\u001b[1;34m(self, t)\u001b[0m\n",
      "\u001b[1;32m~\\.conda\\envs\\mylab\\lib\\site-packages\\moviepy\\decorators.py\u001b[0m in \u001b[0;36mwrapper\u001b[1;34m(f, *a, **kw)\u001b[0m\n\u001b[0;32m     87\u001b[0m         new_kw = {k: fun(v) if k in varnames else v\n\u001b[0;32m     88\u001b[0m                  for (k,v) in kw.items()}\n\u001b[1;32m---> 89\u001b[1;33m         \u001b[1;32mreturn\u001b[0m \u001b[0mf\u001b[0m\u001b[1;33m(\u001b[0m\u001b[1;33m*\u001b[0m\u001b[0mnew_a\u001b[0m\u001b[1;33m,\u001b[0m \u001b[1;33m**\u001b[0m\u001b[0mnew_kw\u001b[0m\u001b[1;33m)\u001b[0m\u001b[1;33m\u001b[0m\u001b[1;33m\u001b[0m\u001b[0m\n\u001b[0m\u001b[0;32m     90\u001b[0m     \u001b[1;32mreturn\u001b[0m \u001b[0mdecorator\u001b[0m\u001b[1;33m.\u001b[0m\u001b[0mdecorator\u001b[0m\u001b[1;33m(\u001b[0m\u001b[0mwrapper\u001b[0m\u001b[1;33m)\u001b[0m\u001b[1;33m\u001b[0m\u001b[1;33m\u001b[0m\u001b[0m\n\u001b[0;32m     91\u001b[0m \u001b[1;33m\u001b[0m\u001b[0m\n",
      "\u001b[1;32m~\\.conda\\envs\\mylab\\lib\\site-packages\\moviepy\\Clip.py\u001b[0m in \u001b[0;36mget_frame\u001b[1;34m(self, t)\u001b[0m\n\u001b[0;32m     91\u001b[0m                 \u001b[1;32mreturn\u001b[0m \u001b[0mframe\u001b[0m\u001b[1;33m\u001b[0m\u001b[1;33m\u001b[0m\u001b[0m\n\u001b[0;32m     92\u001b[0m         \u001b[1;32melse\u001b[0m\u001b[1;33m:\u001b[0m\u001b[1;33m\u001b[0m\u001b[1;33m\u001b[0m\u001b[0m\n\u001b[1;32m---> 93\u001b[1;33m             \u001b[1;32mreturn\u001b[0m \u001b[0mself\u001b[0m\u001b[1;33m.\u001b[0m\u001b[0mmake_frame\u001b[0m\u001b[1;33m(\u001b[0m\u001b[0mt\u001b[0m\u001b[1;33m)\u001b[0m\u001b[1;33m\u001b[0m\u001b[1;33m\u001b[0m\u001b[0m\n\u001b[0m\u001b[0;32m     94\u001b[0m \u001b[1;33m\u001b[0m\u001b[0m\n\u001b[0;32m     95\u001b[0m     \u001b[1;32mdef\u001b[0m \u001b[0mfl\u001b[0m\u001b[1;33m(\u001b[0m\u001b[0mself\u001b[0m\u001b[1;33m,\u001b[0m \u001b[0mfun\u001b[0m\u001b[1;33m,\u001b[0m \u001b[0mapply_to\u001b[0m\u001b[1;33m=\u001b[0m\u001b[1;32mNone\u001b[0m\u001b[1;33m,\u001b[0m \u001b[0mkeep_duration\u001b[0m\u001b[1;33m=\u001b[0m\u001b[1;32mTrue\u001b[0m\u001b[1;33m)\u001b[0m\u001b[1;33m:\u001b[0m\u001b[1;33m\u001b[0m\u001b[1;33m\u001b[0m\u001b[0m\n",
      "\u001b[1;32m~\\.conda\\envs\\mylab\\lib\\site-packages\\moviepy\\Clip.py\u001b[0m in \u001b[0;36m<lambda>\u001b[1;34m(t)\u001b[0m\n\u001b[0;32m    134\u001b[0m \u001b[1;33m\u001b[0m\u001b[0m\n\u001b[0;32m    135\u001b[0m         \u001b[1;31m#mf = copy(self.make_frame)\u001b[0m\u001b[1;33m\u001b[0m\u001b[1;33m\u001b[0m\u001b[1;33m\u001b[0m\u001b[0m\n\u001b[1;32m--> 136\u001b[1;33m         \u001b[0mnewclip\u001b[0m \u001b[1;33m=\u001b[0m \u001b[0mself\u001b[0m\u001b[1;33m.\u001b[0m\u001b[0mset_make_frame\u001b[0m\u001b[1;33m(\u001b[0m\u001b[1;32mlambda\u001b[0m \u001b[0mt\u001b[0m\u001b[1;33m:\u001b[0m \u001b[0mfun\u001b[0m\u001b[1;33m(\u001b[0m\u001b[0mself\u001b[0m\u001b[1;33m.\u001b[0m\u001b[0mget_frame\u001b[0m\u001b[1;33m,\u001b[0m \u001b[0mt\u001b[0m\u001b[1;33m)\u001b[0m\u001b[1;33m)\u001b[0m\u001b[1;33m\u001b[0m\u001b[1;33m\u001b[0m\u001b[0m\n\u001b[0m\u001b[0;32m    137\u001b[0m \u001b[1;33m\u001b[0m\u001b[0m\n\u001b[0;32m    138\u001b[0m         \u001b[1;32mif\u001b[0m \u001b[1;32mnot\u001b[0m \u001b[0mkeep_duration\u001b[0m\u001b[1;33m:\u001b[0m\u001b[1;33m\u001b[0m\u001b[1;33m\u001b[0m\u001b[0m\n",
      "\u001b[1;32m~\\.conda\\envs\\mylab\\lib\\site-packages\\moviepy\\video\\VideoClip.py\u001b[0m in \u001b[0;36m<lambda>\u001b[1;34m(gf, t)\u001b[0m\n\u001b[0;32m    488\u001b[0m         \"\"\"\n\u001b[0;32m    489\u001b[0m         \u001b[0mapply_to\u001b[0m \u001b[1;33m=\u001b[0m \u001b[0mapply_to\u001b[0m \u001b[1;32mor\u001b[0m \u001b[1;33m[\u001b[0m\u001b[1;33m]\u001b[0m\u001b[1;33m\u001b[0m\u001b[1;33m\u001b[0m\u001b[0m\n\u001b[1;32m--> 490\u001b[1;33m         \u001b[1;32mreturn\u001b[0m \u001b[0mself\u001b[0m\u001b[1;33m.\u001b[0m\u001b[0mfl\u001b[0m\u001b[1;33m(\u001b[0m\u001b[1;32mlambda\u001b[0m \u001b[0mgf\u001b[0m\u001b[1;33m,\u001b[0m \u001b[0mt\u001b[0m\u001b[1;33m:\u001b[0m \u001b[0mimage_func\u001b[0m\u001b[1;33m(\u001b[0m\u001b[0mgf\u001b[0m\u001b[1;33m(\u001b[0m\u001b[0mt\u001b[0m\u001b[1;33m)\u001b[0m\u001b[1;33m)\u001b[0m\u001b[1;33m,\u001b[0m \u001b[0mapply_to\u001b[0m\u001b[1;33m)\u001b[0m\u001b[1;33m\u001b[0m\u001b[1;33m\u001b[0m\u001b[0m\n\u001b[0m\u001b[0;32m    491\u001b[0m \u001b[1;33m\u001b[0m\u001b[0m\n\u001b[0;32m    492\u001b[0m     \u001b[1;31m# --------------------------------------------------------------\u001b[0m\u001b[1;33m\u001b[0m\u001b[1;33m\u001b[0m\u001b[1;33m\u001b[0m\u001b[0m\n",
      "\u001b[1;32m<decorator-gen-137>\u001b[0m in \u001b[0;36mget_frame\u001b[1;34m(self, t)\u001b[0m\n",
      "\u001b[1;32m~\\.conda\\envs\\mylab\\lib\\site-packages\\moviepy\\decorators.py\u001b[0m in \u001b[0;36mwrapper\u001b[1;34m(f, *a, **kw)\u001b[0m\n\u001b[0;32m     87\u001b[0m         new_kw = {k: fun(v) if k in varnames else v\n\u001b[0;32m     88\u001b[0m                  for (k,v) in kw.items()}\n\u001b[1;32m---> 89\u001b[1;33m         \u001b[1;32mreturn\u001b[0m \u001b[0mf\u001b[0m\u001b[1;33m(\u001b[0m\u001b[1;33m*\u001b[0m\u001b[0mnew_a\u001b[0m\u001b[1;33m,\u001b[0m \u001b[1;33m**\u001b[0m\u001b[0mnew_kw\u001b[0m\u001b[1;33m)\u001b[0m\u001b[1;33m\u001b[0m\u001b[1;33m\u001b[0m\u001b[0m\n\u001b[0m\u001b[0;32m     90\u001b[0m     \u001b[1;32mreturn\u001b[0m \u001b[0mdecorator\u001b[0m\u001b[1;33m.\u001b[0m\u001b[0mdecorator\u001b[0m\u001b[1;33m(\u001b[0m\u001b[0mwrapper\u001b[0m\u001b[1;33m)\u001b[0m\u001b[1;33m\u001b[0m\u001b[1;33m\u001b[0m\u001b[0m\n\u001b[0;32m     91\u001b[0m \u001b[1;33m\u001b[0m\u001b[0m\n",
      "\u001b[1;32m~\\.conda\\envs\\mylab\\lib\\site-packages\\moviepy\\Clip.py\u001b[0m in \u001b[0;36mget_frame\u001b[1;34m(self, t)\u001b[0m\n\u001b[0;32m     91\u001b[0m                 \u001b[1;32mreturn\u001b[0m \u001b[0mframe\u001b[0m\u001b[1;33m\u001b[0m\u001b[1;33m\u001b[0m\u001b[0m\n\u001b[0;32m     92\u001b[0m         \u001b[1;32melse\u001b[0m\u001b[1;33m:\u001b[0m\u001b[1;33m\u001b[0m\u001b[1;33m\u001b[0m\u001b[0m\n\u001b[1;32m---> 93\u001b[1;33m             \u001b[1;32mreturn\u001b[0m \u001b[0mself\u001b[0m\u001b[1;33m.\u001b[0m\u001b[0mmake_frame\u001b[0m\u001b[1;33m(\u001b[0m\u001b[0mt\u001b[0m\u001b[1;33m)\u001b[0m\u001b[1;33m\u001b[0m\u001b[1;33m\u001b[0m\u001b[0m\n\u001b[0m\u001b[0;32m     94\u001b[0m \u001b[1;33m\u001b[0m\u001b[0m\n\u001b[0;32m     95\u001b[0m     \u001b[1;32mdef\u001b[0m \u001b[0mfl\u001b[0m\u001b[1;33m(\u001b[0m\u001b[0mself\u001b[0m\u001b[1;33m,\u001b[0m \u001b[0mfun\u001b[0m\u001b[1;33m,\u001b[0m \u001b[0mapply_to\u001b[0m\u001b[1;33m=\u001b[0m\u001b[1;32mNone\u001b[0m\u001b[1;33m,\u001b[0m \u001b[0mkeep_duration\u001b[0m\u001b[1;33m=\u001b[0m\u001b[1;32mTrue\u001b[0m\u001b[1;33m)\u001b[0m\u001b[1;33m:\u001b[0m\u001b[1;33m\u001b[0m\u001b[1;33m\u001b[0m\u001b[0m\n",
      "\u001b[1;32m~\\.conda\\envs\\mylab\\lib\\site-packages\\moviepy\\Clip.py\u001b[0m in \u001b[0;36m<lambda>\u001b[1;34m(t)\u001b[0m\n\u001b[0;32m    134\u001b[0m \u001b[1;33m\u001b[0m\u001b[0m\n\u001b[0;32m    135\u001b[0m         \u001b[1;31m#mf = copy(self.make_frame)\u001b[0m\u001b[1;33m\u001b[0m\u001b[1;33m\u001b[0m\u001b[1;33m\u001b[0m\u001b[0m\n\u001b[1;32m--> 136\u001b[1;33m         \u001b[0mnewclip\u001b[0m \u001b[1;33m=\u001b[0m \u001b[0mself\u001b[0m\u001b[1;33m.\u001b[0m\u001b[0mset_make_frame\u001b[0m\u001b[1;33m(\u001b[0m\u001b[1;32mlambda\u001b[0m \u001b[0mt\u001b[0m\u001b[1;33m:\u001b[0m \u001b[0mfun\u001b[0m\u001b[1;33m(\u001b[0m\u001b[0mself\u001b[0m\u001b[1;33m.\u001b[0m\u001b[0mget_frame\u001b[0m\u001b[1;33m,\u001b[0m \u001b[0mt\u001b[0m\u001b[1;33m)\u001b[0m\u001b[1;33m)\u001b[0m\u001b[1;33m\u001b[0m\u001b[1;33m\u001b[0m\u001b[0m\n\u001b[0m\u001b[0;32m    137\u001b[0m \u001b[1;33m\u001b[0m\u001b[0m\n\u001b[0;32m    138\u001b[0m         \u001b[1;32mif\u001b[0m \u001b[1;32mnot\u001b[0m \u001b[0mkeep_duration\u001b[0m\u001b[1;33m:\u001b[0m\u001b[1;33m\u001b[0m\u001b[1;33m\u001b[0m\u001b[0m\n",
      "\u001b[1;32m~\\.conda\\envs\\mylab\\lib\\site-packages\\moviepy\\video\\VideoClip.py\u001b[0m in \u001b[0;36m<lambda>\u001b[1;34m(gf, t)\u001b[0m\n\u001b[0;32m    488\u001b[0m         \"\"\"\n\u001b[0;32m    489\u001b[0m         \u001b[0mapply_to\u001b[0m \u001b[1;33m=\u001b[0m \u001b[0mapply_to\u001b[0m \u001b[1;32mor\u001b[0m \u001b[1;33m[\u001b[0m\u001b[1;33m]\u001b[0m\u001b[1;33m\u001b[0m\u001b[1;33m\u001b[0m\u001b[0m\n\u001b[1;32m--> 490\u001b[1;33m         \u001b[1;32mreturn\u001b[0m \u001b[0mself\u001b[0m\u001b[1;33m.\u001b[0m\u001b[0mfl\u001b[0m\u001b[1;33m(\u001b[0m\u001b[1;32mlambda\u001b[0m \u001b[0mgf\u001b[0m\u001b[1;33m,\u001b[0m \u001b[0mt\u001b[0m\u001b[1;33m:\u001b[0m \u001b[0mimage_func\u001b[0m\u001b[1;33m(\u001b[0m\u001b[0mgf\u001b[0m\u001b[1;33m(\u001b[0m\u001b[0mt\u001b[0m\u001b[1;33m)\u001b[0m\u001b[1;33m)\u001b[0m\u001b[1;33m,\u001b[0m \u001b[0mapply_to\u001b[0m\u001b[1;33m)\u001b[0m\u001b[1;33m\u001b[0m\u001b[1;33m\u001b[0m\u001b[0m\n\u001b[0m\u001b[0;32m    491\u001b[0m \u001b[1;33m\u001b[0m\u001b[0m\n\u001b[0;32m    492\u001b[0m     \u001b[1;31m# --------------------------------------------------------------\u001b[0m\u001b[1;33m\u001b[0m\u001b[1;33m\u001b[0m\u001b[1;33m\u001b[0m\u001b[0m\n",
      "\u001b[1;32m<decorator-gen-137>\u001b[0m in \u001b[0;36mget_frame\u001b[1;34m(self, t)\u001b[0m\n",
      "\u001b[1;32m~\\.conda\\envs\\mylab\\lib\\site-packages\\moviepy\\decorators.py\u001b[0m in \u001b[0;36mwrapper\u001b[1;34m(f, *a, **kw)\u001b[0m\n\u001b[0;32m     87\u001b[0m         new_kw = {k: fun(v) if k in varnames else v\n\u001b[0;32m     88\u001b[0m                  for (k,v) in kw.items()}\n\u001b[1;32m---> 89\u001b[1;33m         \u001b[1;32mreturn\u001b[0m \u001b[0mf\u001b[0m\u001b[1;33m(\u001b[0m\u001b[1;33m*\u001b[0m\u001b[0mnew_a\u001b[0m\u001b[1;33m,\u001b[0m \u001b[1;33m**\u001b[0m\u001b[0mnew_kw\u001b[0m\u001b[1;33m)\u001b[0m\u001b[1;33m\u001b[0m\u001b[1;33m\u001b[0m\u001b[0m\n\u001b[0m\u001b[0;32m     90\u001b[0m     \u001b[1;32mreturn\u001b[0m \u001b[0mdecorator\u001b[0m\u001b[1;33m.\u001b[0m\u001b[0mdecorator\u001b[0m\u001b[1;33m(\u001b[0m\u001b[0mwrapper\u001b[0m\u001b[1;33m)\u001b[0m\u001b[1;33m\u001b[0m\u001b[1;33m\u001b[0m\u001b[0m\n\u001b[0;32m     91\u001b[0m \u001b[1;33m\u001b[0m\u001b[0m\n",
      "\u001b[1;32m~\\.conda\\envs\\mylab\\lib\\site-packages\\moviepy\\Clip.py\u001b[0m in \u001b[0;36mget_frame\u001b[1;34m(self, t)\u001b[0m\n\u001b[0;32m     91\u001b[0m                 \u001b[1;32mreturn\u001b[0m \u001b[0mframe\u001b[0m\u001b[1;33m\u001b[0m\u001b[1;33m\u001b[0m\u001b[0m\n\u001b[0;32m     92\u001b[0m         \u001b[1;32melse\u001b[0m\u001b[1;33m:\u001b[0m\u001b[1;33m\u001b[0m\u001b[1;33m\u001b[0m\u001b[0m\n\u001b[1;32m---> 93\u001b[1;33m             \u001b[1;32mreturn\u001b[0m \u001b[0mself\u001b[0m\u001b[1;33m.\u001b[0m\u001b[0mmake_frame\u001b[0m\u001b[1;33m(\u001b[0m\u001b[0mt\u001b[0m\u001b[1;33m)\u001b[0m\u001b[1;33m\u001b[0m\u001b[1;33m\u001b[0m\u001b[0m\n\u001b[0m\u001b[0;32m     94\u001b[0m \u001b[1;33m\u001b[0m\u001b[0m\n\u001b[0;32m     95\u001b[0m     \u001b[1;32mdef\u001b[0m \u001b[0mfl\u001b[0m\u001b[1;33m(\u001b[0m\u001b[0mself\u001b[0m\u001b[1;33m,\u001b[0m \u001b[0mfun\u001b[0m\u001b[1;33m,\u001b[0m \u001b[0mapply_to\u001b[0m\u001b[1;33m=\u001b[0m\u001b[1;32mNone\u001b[0m\u001b[1;33m,\u001b[0m \u001b[0mkeep_duration\u001b[0m\u001b[1;33m=\u001b[0m\u001b[1;32mTrue\u001b[0m\u001b[1;33m)\u001b[0m\u001b[1;33m:\u001b[0m\u001b[1;33m\u001b[0m\u001b[1;33m\u001b[0m\u001b[0m\n",
      "\u001b[1;32m~\\.conda\\envs\\mylab\\lib\\site-packages\\moviepy\\video\\io\\VideoFileClip.py\u001b[0m in \u001b[0;36m<lambda>\u001b[1;34m(t)\u001b[0m\n\u001b[0;32m    111\u001b[0m         \u001b[1;32melse\u001b[0m\u001b[1;33m:\u001b[0m\u001b[1;33m\u001b[0m\u001b[1;33m\u001b[0m\u001b[0m\n\u001b[0;32m    112\u001b[0m \u001b[1;33m\u001b[0m\u001b[0m\n\u001b[1;32m--> 113\u001b[1;33m             \u001b[0mself\u001b[0m\u001b[1;33m.\u001b[0m\u001b[0mmake_frame\u001b[0m \u001b[1;33m=\u001b[0m \u001b[1;32mlambda\u001b[0m \u001b[0mt\u001b[0m\u001b[1;33m:\u001b[0m \u001b[0mself\u001b[0m\u001b[1;33m.\u001b[0m\u001b[0mreader\u001b[0m\u001b[1;33m.\u001b[0m\u001b[0mget_frame\u001b[0m\u001b[1;33m(\u001b[0m\u001b[0mt\u001b[0m\u001b[1;33m)\u001b[0m\u001b[1;33m\u001b[0m\u001b[1;33m\u001b[0m\u001b[0m\n\u001b[0m\u001b[0;32m    114\u001b[0m \u001b[1;33m\u001b[0m\u001b[0m\n\u001b[0;32m    115\u001b[0m         \u001b[1;31m# Make a reader for the audio, if any.\u001b[0m\u001b[1;33m\u001b[0m\u001b[1;33m\u001b[0m\u001b[1;33m\u001b[0m\u001b[0m\n",
      "\u001b[1;32m~\\.conda\\envs\\mylab\\lib\\site-packages\\moviepy\\video\\io\\ffmpeg_reader.py\u001b[0m in \u001b[0;36mget_frame\u001b[1;34m(self, t)\u001b[0m\n\u001b[0;32m    182\u001b[0m         \u001b[1;32melse\u001b[0m\u001b[1;33m:\u001b[0m\u001b[1;33m\u001b[0m\u001b[1;33m\u001b[0m\u001b[0m\n\u001b[0;32m    183\u001b[0m             \u001b[0mself\u001b[0m\u001b[1;33m.\u001b[0m\u001b[0mskip_frames\u001b[0m\u001b[1;33m(\u001b[0m\u001b[0mpos\u001b[0m\u001b[1;33m-\u001b[0m\u001b[0mself\u001b[0m\u001b[1;33m.\u001b[0m\u001b[0mpos\u001b[0m\u001b[1;33m-\u001b[0m\u001b[1;36m1\u001b[0m\u001b[1;33m)\u001b[0m\u001b[1;33m\u001b[0m\u001b[1;33m\u001b[0m\u001b[0m\n\u001b[1;32m--> 184\u001b[1;33m         \u001b[0mresult\u001b[0m \u001b[1;33m=\u001b[0m \u001b[0mself\u001b[0m\u001b[1;33m.\u001b[0m\u001b[0mread_frame\u001b[0m\u001b[1;33m(\u001b[0m\u001b[1;33m)\u001b[0m\u001b[1;33m\u001b[0m\u001b[1;33m\u001b[0m\u001b[0m\n\u001b[0m\u001b[0;32m    185\u001b[0m         \u001b[0mself\u001b[0m\u001b[1;33m.\u001b[0m\u001b[0mpos\u001b[0m \u001b[1;33m=\u001b[0m \u001b[0mpos\u001b[0m\u001b[1;33m\u001b[0m\u001b[1;33m\u001b[0m\u001b[0m\n\u001b[0;32m    186\u001b[0m         \u001b[1;32mreturn\u001b[0m \u001b[0mresult\u001b[0m\u001b[1;33m\u001b[0m\u001b[1;33m\u001b[0m\u001b[0m\n",
      "\u001b[1;32m~\\.conda\\envs\\mylab\\lib\\site-packages\\moviepy\\video\\io\\ffmpeg_reader.py\u001b[0m in \u001b[0;36mread_frame\u001b[1;34m(self)\u001b[0m\n\u001b[0;32m    118\u001b[0m         \u001b[0mnbytes\u001b[0m\u001b[1;33m=\u001b[0m \u001b[0mself\u001b[0m\u001b[1;33m.\u001b[0m\u001b[0mdepth\u001b[0m\u001b[1;33m*\u001b[0m\u001b[0mw\u001b[0m\u001b[1;33m*\u001b[0m\u001b[0mh\u001b[0m\u001b[1;33m\u001b[0m\u001b[1;33m\u001b[0m\u001b[0m\n\u001b[0;32m    119\u001b[0m \u001b[1;33m\u001b[0m\u001b[0m\n\u001b[1;32m--> 120\u001b[1;33m         \u001b[0ms\u001b[0m \u001b[1;33m=\u001b[0m \u001b[0mself\u001b[0m\u001b[1;33m.\u001b[0m\u001b[0mproc\u001b[0m\u001b[1;33m.\u001b[0m\u001b[0mstdout\u001b[0m\u001b[1;33m.\u001b[0m\u001b[0mread\u001b[0m\u001b[1;33m(\u001b[0m\u001b[0mnbytes\u001b[0m\u001b[1;33m)\u001b[0m\u001b[1;33m\u001b[0m\u001b[1;33m\u001b[0m\u001b[0m\n\u001b[0m\u001b[0;32m    121\u001b[0m         \u001b[1;32mif\u001b[0m \u001b[0mlen\u001b[0m\u001b[1;33m(\u001b[0m\u001b[0ms\u001b[0m\u001b[1;33m)\u001b[0m \u001b[1;33m!=\u001b[0m \u001b[0mnbytes\u001b[0m\u001b[1;33m:\u001b[0m\u001b[1;33m\u001b[0m\u001b[1;33m\u001b[0m\u001b[0m\n\u001b[0;32m    122\u001b[0m \u001b[1;33m\u001b[0m\u001b[0m\n",
      "\u001b[1;31mKeyboardInterrupt\u001b[0m: "
     ]
    }
   ],
   "source": [
    "bug_msFileList = batch_concatenate(concatenate_files=concatenate_files\n",
    "                  ,rawdataDir=r\"\\\\10.10.46.135\\data_archive\\wujinni\\3_MINIscope\\RAW_DATA\\5_sequence\\WJN_SCOPE_B2\"\n",
    "                  ,resultDir=r\"\\\\10.10.47.163\\Disk2\\wujinni\\miniscope_results\"\n",
    "                  ,spatial_downsampling=2\n",
    "                  ,temporal_downsampling=1\n",
    "                  ,video_process=True)"
   ]
  },
  {
   "cell_type": "code",
   "execution_count": 6,
   "metadata": {},
   "outputs": [
    {
     "data": {
      "text/plain": [
       "[]"
      ]
     },
     "execution_count": 6,
     "metadata": {},
     "output_type": "execute_result"
    }
   ],
   "source": [
    "bug_msFileList"
   ]
  },
  {
   "cell_type": "code",
   "execution_count": 9,
   "metadata": {
    "code_folding": []
   },
   "outputs": [],
   "source": [
    "def batch_concatenate(concatenate_files\n",
    "                      ,rawdataDir\n",
    "                      ,resultDir\n",
    "                      ,spatial_downsampling=2\n",
    "                      ,temporal_downsampling=3\n",
    "                     ,video_process=True):\n",
    "    bug_msFileList=[]\n",
    "    for file in concatenate_files:\n",
    "        date = re.findall('\\d{8}',file)[0]\n",
    "        mouse_id = re.findall('(\\d+)\\\\\\\\\\d{8}',file)[0]\n",
    "#         mouse_id = re.findall('\\d{8}\\\\\\\\(\\d+)',file)[0]\n",
    "        print(date,mouse_id)\n",
    "        msFileList,tsFileList = index_videos_wjn(animal_id=mouse_id\n",
    "                                             ,date=date\n",
    "                                             ,recorded_method=\"miniscope\"\n",
    "                                             ,rawdataDir=rawdataDir)\n",
    "#         print(tsFileList)\n",
    "        try:\n",
    "            crop_downsample_concatenate(animal_id=mouse_id\n",
    "                                        ,msFileList=msFileList\n",
    "                                        ,tsFileList=tsFileList\n",
    "                                        ,note=\"_30fps_\"+date+\"raw\"\n",
    "                                        ,spatial_downsampling=spatial_downsampling\n",
    "                                        ,temporal_downsampling=temporal_downsampling\n",
    "                                        ,resultDir=resultDir\n",
    "                                        ,video_process=video_process)\n",
    "            print(\"done\")\n",
    "        except Exception as e:\n",
    "            print(e)\n",
    "            bug_msFileList.append((mouse_id,date))\n",
    "            continue\n",
    "    return bug_msFileList"
   ]
  },
  {
   "cell_type": "code",
   "execution_count": null,
   "metadata": {},
   "outputs": [],
   "source": [
    "def pkl2mat2(ms_mat_path):\n",
    "    \"\"\"\n",
    "    将多个ms_ts.pkl写入到一个ms.mat中\n",
    "    考虑多天合并跑的情况\n",
    "    \"\"\"\n",
    "\n",
    "    result = load_mat(ms_mat_path)\n",
    "\n",
    "    pkl_pathes = glob.glob(os.path.join(os.path.dirname(ms_mat_path),\"*\\ms_ts.pkl\"))\n",
    "\n",
    "    mat_path = os.path.join(os.path.dirname(ms_mat_path),\"ms2.mat\")\n",
    "    ms_ts_all=[]\n",
    "    for pkl_path in pkl_pathes:\n",
    "        with open(pkl_path,\"rb\") as f:\n",
    "            ms_ts = pickle.load(f)\n",
    "        for temp in ms_ts:\n",
    "            ms_ts_all.append(np.array(temp))\n",
    "    result[\"ms\"][\"ms_ts\"]=np.array(ms_ts_all)\n",
    "    savemat(mat_path,result)\n",
    "    print(\"save mat %s\"%mat_path)"
   ]
  }
 ],
 "metadata": {
  "kernelspec": {
   "display_name": "Python 3",
   "language": "python",
   "name": "python3"
  },
  "language_info": {
   "codemirror_mode": {
    "name": "ipython",
    "version": 3
   },
   "file_extension": ".py",
   "mimetype": "text/x-python",
   "name": "python",
   "nbconvert_exporter": "python",
   "pygments_lexer": "ipython3",
   "version": "3.8.3"
  },
  "toc": {
   "base_numbering": 1,
   "nav_menu": {},
   "number_sections": true,
   "sideBar": true,
   "skip_h1_title": false,
   "title_cell": "Table of Contents",
   "title_sidebar": "Contents",
   "toc_cell": false,
   "toc_position": {},
   "toc_section_display": true,
   "toc_window_display": false
  }
 },
 "nbformat": 4,
 "nbformat_minor": 4
}
