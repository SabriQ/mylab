{
 "cells": [
  {
   "cell_type": "code",
   "execution_count": 3,
   "metadata": {},
   "outputs": [],
   "source": [
    "from caiman.source_extraction.cnmf.cnmf import load_CNMF"
   ]
  },
  {
   "cell_type": "code",
   "execution_count": 4,
   "metadata": {},
   "outputs": [],
   "source": [
    "cnm = load_CNMF(r\"Z:\\result.hdf5\")"
   ]
  },
  {
   "cell_type": "code",
   "execution_count": 16,
   "metadata": {
    "collapsed": true
   },
   "outputs": [
    {
     "data": {
      "text/plain": [
       "['A',\n",
       " 'A_thr',\n",
       " 'Ab',\n",
       " 'Ab_dense',\n",
       " 'AtA',\n",
       " 'AtY_buf',\n",
       " 'C',\n",
       " 'CC',\n",
       " 'CY',\n",
       " 'C_on',\n",
       " 'Cf',\n",
       " 'F_dff',\n",
       " 'F_dff_dec',\n",
       " 'OASISinstances',\n",
       " 'R',\n",
       " 'S',\n",
       " 'SNR_comp',\n",
       " 'S_dff',\n",
       " 'W',\n",
       " 'YrA',\n",
       " 'Yr_buf',\n",
       " '__class__',\n",
       " '__delattr__',\n",
       " '__dict__',\n",
       " '__dir__',\n",
       " '__doc__',\n",
       " '__eq__',\n",
       " '__format__',\n",
       " '__ge__',\n",
       " '__getattribute__',\n",
       " '__gt__',\n",
       " '__hash__',\n",
       " '__init__',\n",
       " '__init_subclass__',\n",
       " '__le__',\n",
       " '__lt__',\n",
       " '__module__',\n",
       " '__ne__',\n",
       " '__new__',\n",
       " '__reduce__',\n",
       " '__reduce_ex__',\n",
       " '__repr__',\n",
       " '__setattr__',\n",
       " '__sizeof__',\n",
       " '__str__',\n",
       " '__subclasshook__',\n",
       " '__weakref__',\n",
       " 'b',\n",
       " 'b0',\n",
       " 'bl',\n",
       " 'c1',\n",
       " 'center',\n",
       " 'cnn_preds',\n",
       " 'compute_residuals',\n",
       " 'coordinates',\n",
       " 'deconvolve',\n",
       " 'detrend_df_f',\n",
       " 'dims',\n",
       " 'discarded_components',\n",
       " 'ecc',\n",
       " 'evaluate_components',\n",
       " 'evaluate_components_CNN',\n",
       " 'f',\n",
       " 'filter_components',\n",
       " 'g',\n",
       " 'groups',\n",
       " 'hv_view_components',\n",
       " 'idx_components',\n",
       " 'idx_components_bad',\n",
       " 'ind_new',\n",
       " 'lam',\n",
       " 'make_color_movie',\n",
       " 'manual_merge',\n",
       " 'masks_2_neurofinder',\n",
       " 'merge_components',\n",
       " 'merged_ROIs',\n",
       " 'mn',\n",
       " 'nb_view_components',\n",
       " 'nb_view_components_3d',\n",
       " 'neurons_sn',\n",
       " 'noisyC',\n",
       " 'normalize_components',\n",
       " 'nr',\n",
       " 'play_movie',\n",
       " 'plot_contours',\n",
       " 'plot_contours_nb',\n",
       " 'r_values',\n",
       " 'remove_duplicates',\n",
       " 'remove_small_large_neurons',\n",
       " 'restore_discarded_components',\n",
       " 'rho_buf',\n",
       " 'save_NWB',\n",
       " 'select_components',\n",
       " 'shifts',\n",
       " 'sn',\n",
       " 'sv',\n",
       " 'threshold_spatial_components',\n",
       " 'view_components',\n",
       " 'vr']"
      ]
     },
     "execution_count": 16,
     "metadata": {},
     "output_type": "execute_result"
    }
   ],
   "source": [
    "dir(cnm.estimates)"
   ]
  },
  {
   "cell_type": "code",
   "execution_count": null,
   "metadata": {},
   "outputs": [],
   "source": [
    "\n",
    "results_dict={\n",
    "    'height':dims[0],\n",
    "    'width':dims[1],\n",
    "#     'CorrProj':cn_filter,\n",
    "#     'PNR':pnr,\n",
    "    #'old_sigraw':old_RawTraces.conj().transpose(),\n",
    "    #'old_sigdeconvolved':old_DeconvTraces.conj().transpose(),\n",
    "    'sigraw':RawTraces.conj().transpose(),\n",
    "#     'sigdeconvolved':DeconvTraces.conj().transpose(),\n",
    "    'SFP':SFP,\n",
    "#     'numNeurons':SFP_dims[2],\n",
    "    #'ms_ts':ms_ts,  # minisope timestamps, here no,\n",
    "#     'dff':dff,\n",
    "#     'S_dff':S_dff,\n",
    "    'idx_accepted':idx_accepted,\n",
    "    'idx_deleted':idx_deleted\n",
    "}"
   ]
  }
 ],
 "metadata": {
  "kernelspec": {
   "display_name": "Python 3",
   "language": "python",
   "name": "python3"
  },
  "language_info": {
   "codemirror_mode": {
    "name": "ipython",
    "version": 3
   },
   "file_extension": ".py",
   "mimetype": "text/x-python",
   "name": "python",
   "nbconvert_exporter": "python",
   "pygments_lexer": "ipython3",
   "version": "3.8.3"
  },
  "toc": {
   "base_numbering": 1,
   "nav_menu": {},
   "number_sections": true,
   "sideBar": true,
   "skip_h1_title": false,
   "title_cell": "Table of Contents",
   "title_sidebar": "Contents",
   "toc_cell": false,
   "toc_position": {},
   "toc_section_display": true,
   "toc_window_display": false
  }
 },
 "nbformat": 4,
 "nbformat_minor": 4
}
