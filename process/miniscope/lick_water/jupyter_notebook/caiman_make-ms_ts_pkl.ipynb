{
 "cells": [
  {
   "cell_type": "code",
   "execution_count": null,
   "metadata": {},
   "outputs": [],
   "source": [
    "try:                 \n",
    "    get_ipython().magic(u'load_ext autoreload')    \n",
    "    get_ipython().magic(u'autoreload 2')           \n",
    "    get_ipython().magic(u'matplotlib qt')          \n",
    "except:              \n",
    "    pass             \n",
    "import logging       \n",
    "import matplotlib.pyplot as plt                    \n",
    "import numpy as np   \n",
    "                     \n",
    "logging.basicConfig(format= \n",
    "                          \"%(relativeCreated)12d [%(filename)s:%(funcName)20s():%(lineno)s] [%(process)d] %(message)s\",\n",
    "                    # filename=\"/tmp/caiman.log\",  \n",
    "                    level=logging.DEBUG)           \n",
    "                     \n",
    "import caiman as cm  \n",
    "from caiman.source_extraction import cnmf                 \n",
    "from caiman.utils.visualization import inspect_correlation_pnr, nb_inspect_correlation_pnr\n",
    "from caiman.motion_correction import MotionCorrect        \n",
    "from caiman.source_extraction.cnmf import params as params\n",
    "from caiman.utils.visualization import plot_contours, nb_view_patches, nb_plot_contour\n",
    "import cv2           \n",
    "                     \n",
    "try:                 \n",
    "    cv2.setNumThreads(0)\n",
    "except:              \n",
    "    pass             \n",
    "import bokeh.plotting as bpl\n",
    "import holoviews as hv\n",
    "bpl.output_notebook()                                                                                                            \n",
    "      "
   ]
  },
  {
   "cell_type": "code",
   "execution_count": 1,
   "metadata": {},
   "outputs": [],
   "source": [
    "    import glob          \n",
    "    import re            \n",
    "    import os"
   ]
  },
  {
   "cell_type": "code",
   "execution_count": 3,
   "metadata": {},
   "outputs": [],
   "source": [
    "animal_id = '191172' \n",
    "resultDir = 'G:\\data\\miniscope'\n",
    "tsFileList = glob.glob(os.path.join(r'W:\\qiushou\\miniscope\\2019*'\n",
    "                                    ,animal_id     \n",
    "                                    ,\"H*/timestamp.dat\"))\n",
    "def sort_key(s):     \n",
    "    if s:            \n",
    "        try:         \n",
    "            date = re.findall('\\d{8}', s)[0]\n",
    "        except:      \n",
    "            date = -1            \n",
    "        try:         \n",
    "            H = re.findall('H(\\d+)',s)[0]\n",
    "        except:      \n",
    "            H = -1            \n",
    "        try:         \n",
    "            M = re.findall('M(\\d+)',s)[0]\n",
    "        except:      \n",
    "            M = -1            \n",
    "        try:         \n",
    "            S = re.findall('S(\\d+)',s)[0]\n",
    "        except:      \n",
    "            S = -1            \n",
    "        try:         \n",
    "            ms = re.findall('msCam(\\d+)',s)[0]\n",
    "        except:      \n",
    "            ms = -1  \n",
    "        return [int(date),int(H),int(M),int(S),int(ms)]\n",
    "tsFileList.sort(key=sort_key)\n",
    "tsFileList = [i for i in tsFileList if '111' not in i]"
   ]
  },
  {
   "cell_type": "code",
   "execution_count": 4,
   "metadata": {},
   "outputs": [
    {
     "name": "stdout",
     "output_type": "stream",
     "text": [
      "W:\\qiushou\\miniscope\\20191028\\191172\\H20_M24_S3\\timestamp.dat\n",
      "W:\\qiushou\\miniscope\\20191029\\191172\\H10_M54_S47\\timestamp.dat\n",
      "W:\\qiushou\\miniscope\\20191029\\191172\\H14_M55_S14\\timestamp.dat\n",
      "W:\\qiushou\\miniscope\\20191029\\191172\\H15_M9_S26\\timestamp.dat\n",
      "W:\\qiushou\\miniscope\\20191030\\191172\\H13_M19_S12\\timestamp.dat\n",
      "W:\\qiushou\\miniscope\\20191030\\191172\\H13_M30_S52\\timestamp.dat\n",
      "W:\\qiushou\\miniscope\\20191031\\191172\\H12_M33_S26\\timestamp.dat\n",
      "W:\\qiushou\\miniscope\\20191031\\191172\\H12_M44_S59\\timestamp.dat\n",
      "W:\\qiushou\\miniscope\\20191101\\191172\\H19_M30_S33\\timestamp.dat\n",
      "W:\\qiushou\\miniscope\\20191101\\191172\\H19_M40_S22\\timestamp.dat\n",
      "W:\\qiushou\\miniscope\\20191102\\191172\\H14_M53_S38\\timestamp.dat\n",
      "W:\\qiushou\\miniscope\\20191102\\191172\\H15_M2_S8\\timestamp.dat\n",
      "12\n"
     ]
    }
   ],
   "source": [
    "[print(i) for i in tsFileList]\n",
    "print(len(tsFileList))\n",
    "import numpy as np"
   ]
  },
  {
   "cell_type": "code",
   "execution_count": 5,
   "metadata": {},
   "outputs": [
    {
     "name": "stdout",
     "output_type": "stream",
     "text": [
      "G:\\data\\miniscope\\Results_191172\\20191218_111624_20191028-1102all_30fps\\ms_ts.pkl\n"
     ]
    }
   ],
   "source": [
    "import cv2          \n",
    "import pickle       \n",
    "resultDir = 'G:\\data\\miniscope'\n",
    "newpath_parent=os.path.join(resultDir,'Results'+'_'+animal_id)\n",
    "newpath = os.path.join(newpath_parent,\"20191218_111624_20191028-1102all_30fps\")\n",
    "\n",
    "#%% concatenate timestamps of tsFileList\n",
    "ms_ts_name = os.path.join(newpath,'ms_ts.pkl')\n",
    "print(ms_ts_name)  \n",
    "temporal_downsampling=1                  \n",
    "import pandas as pd\n",
    "import pickle   "
   ]
  },
  {
   "cell_type": "code",
   "execution_count": 7,
   "metadata": {},
   "outputs": [
    {
     "ename": "IndexError",
     "evalue": "list index out of range",
     "output_type": "error",
     "traceback": [
      "\u001b[1;31m---------------------------------------------------------------------------\u001b[0m",
      "\u001b[1;31mIndexError\u001b[0m                                Traceback (most recent call last)",
      "\u001b[1;32m<ipython-input-7-f1abf040887b>\u001b[0m in \u001b[0;36m<module>\u001b[1;34m\u001b[0m\n\u001b[0;32m     17\u001b[0m \u001b[1;31m#         print(i)\u001b[0m\u001b[1;33m\u001b[0m\u001b[1;33m\u001b[0m\u001b[1;33m\u001b[0m\u001b[0m\n\u001b[0;32m     18\u001b[0m         \u001b[0msession_indstart\u001b[0m\u001b[1;33m.\u001b[0m\u001b[0mappend\u001b[0m\u001b[1;33m(\u001b[0m\u001b[0mi0\u001b[0m\u001b[1;33m)\u001b[0m\u001b[1;33m\u001b[0m\u001b[1;33m\u001b[0m\u001b[0m\n\u001b[1;32m---> 19\u001b[1;33m         \u001b[0mts_session_ds\u001b[0m\u001b[1;33m.\u001b[0m\u001b[0mappend\u001b[0m\u001b[1;33m(\u001b[0m\u001b[0mttemp\u001b[0m\u001b[1;33m[\u001b[0m\u001b[0mi0\u001b[0m\u001b[1;33m:\u001b[0m\u001b[0msession_indend\u001b[0m\u001b[1;33m[\u001b[0m\u001b[0mi\u001b[0m\u001b[1;33m]\u001b[0m\u001b[1;33m]\u001b[0m\u001b[1;33m)\u001b[0m\u001b[1;33m\u001b[0m\u001b[1;33m\u001b[0m\u001b[0m\n\u001b[0m\u001b[0;32m     20\u001b[0m         \u001b[0mi0\u001b[0m\u001b[1;33m=\u001b[0m\u001b[0msession_indend\u001b[0m\u001b[1;33m[\u001b[0m\u001b[0mi\u001b[0m\u001b[1;33m]\u001b[0m\u001b[1;33m+\u001b[0m\u001b[1;36m1\u001b[0m\u001b[1;33m\u001b[0m\u001b[1;33m\u001b[0m\u001b[0m\n\u001b[0;32m     21\u001b[0m     \u001b[0mms_ts\u001b[0m\u001b[1;33m=\u001b[0m\u001b[0mnp\u001b[0m\u001b[1;33m.\u001b[0m\u001b[0marray\u001b[0m\u001b[1;33m(\u001b[0m\u001b[0mts_session_ds\u001b[0m\u001b[1;33m)\u001b[0m\u001b[1;33m\u001b[0m\u001b[1;33m\u001b[0m\u001b[0m\n",
      "\u001b[1;31mIndexError\u001b[0m: list index out of range"
     ]
    }
   ],
   "source": [
    "# 这一段是原先杨其鑫的代码，每一block会少一帧\n",
    "if not os.path.exists(ms_ts_name):\n",
    "    ts_session=[]  \n",
    "    for tsFile in tsFileList:\n",
    "        datatemp=pd.read_csv(tsFile,sep = \"\\t\", header = 0)\n",
    "        ts_session.append(datatemp['sysClock'].values) \n",
    "#         print(len((datatemp['sysClock'].values)))\n",
    "    ttemp=np.hstack(ts_session)[::temporal_downsampling]\n",
    "    # remporally downsample for each video\n",
    "    # [i[::3] for i in ts_session][0]\n",
    "    session_indend=(np.where(np.diff(ttemp)<0)[0]).tolist()    \n",
    "    session_indend.append(-1)\n",
    "    ts_session_ds=[]\n",
    "    i0=0            \n",
    "    session_indstart=[]\n",
    "    for i in range(len(ts_session)):\n",
    "#         print(i)\n",
    "        session_indstart.append(i0)\n",
    "        ts_session_ds.append(ttemp[i0:session_indend[i]])\n",
    "        i0=session_indend[i]+1\n",
    "    ms_ts=np.array(ts_session_ds)    \n",
    "    with open(ms_ts_name,'wb') as output:\n",
    "        pickle.dump(ms_ts,output,pickle.HIGHEST_PROTOCOL)\n",
    "else:               \n",
    "    with open(ms_ts_name, \"rb\") as f:\n",
    "        ms_ts= pickle.load(f)\n",
    "print(f'concatenated timestamp of miniscope_video is located at {ms_ts_name}')\n",
    "\n",
    "l_ms_ts=[]\n",
    "for i in ms_ts:\n",
    "    l_ms_ts.append(len(i))\n",
    "print(sum(l_ms_ts))"
   ]
  },
  {
   "cell_type": "code",
   "execution_count": 6,
   "metadata": {},
   "outputs": [
    {
     "name": "stdout",
     "output_type": "stream",
     "text": [
      "concatenated timestamp of miniscope_video is located at G:\\data\\miniscope\\Results_191172\\20191218_111624_20191028-1102all_30fps\\ms_ts.pkl\n"
     ]
    }
   ],
   "source": [
    "#这一段是更正后的代码，帧数相等\n",
    "if not os.path.exists(ms_ts_name):\n",
    "    ts_session=[]\n",
    "    for tsFile in tsFileList:\n",
    "        datatemp=pd.read_csv(tsFile,sep = \"\\t\", header = 0)\n",
    "        ts_session.append(datatemp['sysClock'].values)    \n",
    "    ttemp=np.hstack(ts_session)[::temporal_downsampling]\n",
    "    # remporally downsample for each video\n",
    "    # [i[::3] for i in ts_session][0]\n",
    "    session_indend=(np.where(np.diff(ttemp)<0)[0]).tolist()\n",
    "#    session_indend.append(-1)\n",
    "    ts_session_ds=[]\n",
    "    i0=0\n",
    "    session_indstart=[]\n",
    "    if len(session_indend)>0:\n",
    "        for i in range(len(session_indend)):\n",
    "            session_indstart.append(i0)\n",
    "            ts_session_ds.append(ttemp[i0:(session_indend[i]+1)])\n",
    "            i0=session_indend[i]+1\n",
    "        ts_session_ds.append(ttemp[(session_indend[-1]+1):])\n",
    "    else:\n",
    "        ts_session_ds.append(ttemp[i0:])\n",
    "    \n",
    "    \n",
    "    ms_ts=np.array(ts_session_ds)    \n",
    "    with open(ms_ts_name,'wb') as output:\n",
    "        pickle.dump(ms_ts,output,pickle.HIGHEST_PROTOCOL)\n",
    "else:\n",
    "    with open(ms_ts_name, \"rb\") as f:\n",
    "        ms_ts= pickle.load(f)\n",
    "print(f'concatenated timestamp of miniscope_video is located at {ms_ts_name}')"
   ]
  },
  {
   "cell_type": "code",
   "execution_count": 7,
   "metadata": {},
   "outputs": [
    {
     "data": {
      "text/plain": [
       "237091"
      ]
     },
     "execution_count": 7,
     "metadata": {},
     "output_type": "execute_result"
    }
   ],
   "source": [
    "sum([len(i) for i in ms_ts]) "
   ]
  },
  {
   "cell_type": "code",
   "execution_count": 12,
   "metadata": {},
   "outputs": [
    {
     "name": "stdout",
     "output_type": "stream",
     "text": [
      "W:\\qiushou\\miniscope\\20191028\\191172\\H20_M24_S3\\timestamp.dat\n",
      "><<<<<<<<<<<<<<<<<<<<<<<<<<<<<<<<[31223, 31223]\n",
      "W:\\qiushou\\miniscope\\20191029\\191172\\H10_M54_S47\\timestamp.dat\n",
      "><<<<<<<<<<<<<<<<<<<<<<[21982, 21982]\n",
      "W:\\qiushou\\miniscope\\20191029\\191172\\H14_M55_S14\\timestamp.dat\n",
      "><<<<<<<<<<<<<<<<<<<<<<<<<[24325, 24325]\n",
      "W:\\qiushou\\miniscope\\20191029\\191172\\H15_M9_S26\\timestamp.dat\n",
      "><<<<<<<<<<<<<<<<<<<<<<<<<<<[26627, 26627]\n",
      "W:\\qiushou\\miniscope\\20191030\\191172\\H13_M19_S12\\timestamp.dat\n",
      "><<<<<<<<<<<<<<<<<<<<[19699, 19699]\n",
      "W:\\qiushou\\miniscope\\20191030\\191172\\H13_M30_S52\\timestamp.dat\n",
      "><<<<<<<<<<<<<<<[14114, 14114]\n",
      "W:\\qiushou\\miniscope\\20191031\\191172\\H12_M33_S26\\timestamp.dat\n",
      "><<<<<<<<<<<<<<<<<<<<[19469, 19469]\n",
      "W:\\qiushou\\miniscope\\20191031\\191172\\H12_M44_S59\\timestamp.dat\n",
      "><<<<<<<<<<<<<<<<[15500, 15500]\n",
      "W:\\qiushou\\miniscope\\20191101\\191172\\H19_M30_S33\\timestamp.dat\n",
      "><<<<<<<<<<<<<<<<<[16342, 16342]\n",
      "W:\\qiushou\\miniscope\\20191101\\191172\\H19_M40_S22\\timestamp.dat\n",
      "><<<<<<<<<<<<<<<<<<<[18484, 18484]\n",
      "W:\\qiushou\\miniscope\\20191102\\191172\\H14_M53_S38\\timestamp.dat\n",
      "><<<<<<<<<<<<<<<[14131, 14131]\n",
      "W:\\qiushou\\miniscope\\20191102\\191172\\H15_M2_S8\\timestamp.dat\n",
      "><<<<<<<<<<<<<<<<[15195, 15195]\n",
      "W:\\qiushou\\miniscope\\20191110\\191172\\H15_M27_S28\\timestamp.dat\n",
      "><<<<<<<<<<<<<<<<<<<<<<<<<[24298, 24298]\n",
      "W:\\qiushou\\miniscope\\20191110\\191172\\H15_M41_S35\\timestamp.dat\n",
      "><<<<<<<<<<<<<<<<<<<<<<<<<<<[26824, 26824]\n",
      "W:\\qiushou\\miniscope\\20191111\\191172\\H13_M24_S5\\timestamp.dat\n",
      "><<<<<<<<<<<<<<<<<<<<<<<<<<<[26262, 26262]\n",
      "W:\\qiushou\\miniscope\\20191111\\191172\\H13_M39_S18\\timestamp.dat\n",
      "><<<<<<<<<<<<<<<<<<<<<<<<<<[25567, 25567]\n",
      "W:\\qiushou\\miniscope\\20191112\\191172\\H21_M8_S15\\timestamp.dat\n",
      "><<<<<<<<<<<<<[12287, 12287]\n",
      "W:\\qiushou\\miniscope\\20191112\\191172\\H21_M15_S36\\timestamp.dat\n",
      "><<<<<<<<<<<<<<<<<<<<<<<<<[24593, 24593]\n"
     ]
    }
   ],
   "source": [
    "import cv2\n",
    "for tsFile in tsFileList:\n",
    "    print(tsFile)\n",
    "    print(\">\",end=\"\")\n",
    "    ts = pd.read_csv(tsFile,sep = \"\\t\", header = 0)\n",
    "    ts_len=ts.shape[0]        \n",
    "    videoFileList=glob.glob(os.path.dirname(tsFile)+'\\*.avi')   \n",
    "    framenum=[]\n",
    "    for video in videoFileList:\n",
    "#         print(video)\n",
    "        print(\"<\",end=\"\")\n",
    "        cap = cv2.VideoCapture(video)\n",
    "        framenum.append(int(cap.get(7)))\n",
    "        cap.release()\n",
    "    print([ts_len,sum(framenum)])"
   ]
  },
  {
   "cell_type": "code",
   "execution_count": 29,
   "metadata": {},
   "outputs": [
    {
     "ename": "SyntaxError",
     "evalue": "EOL while scanning string literal (<ipython-input-29-2ddba5169899>, line 1)",
     "output_type": "error",
     "traceback": [
      "\u001b[1;36m  File \u001b[1;32m\"<ipython-input-29-2ddba5169899>\"\u001b[1;36m, line \u001b[1;32m1\u001b[0m\n\u001b[1;33m    video.split(\"\\\")\u001b[0m\n\u001b[1;37m                    ^\u001b[0m\n\u001b[1;31mSyntaxError\u001b[0m\u001b[1;31m:\u001b[0m EOL while scanning string literal\n"
     ]
    }
   ],
   "source": []
  }
 ],
 "metadata": {
  "kernelspec": {
   "display_name": "Python 3",
   "language": "python",
   "name": "python3"
  },
  "language_info": {
   "codemirror_mode": {
    "name": "ipython",
    "version": 3
   },
   "file_extension": ".py",
   "mimetype": "text/x-python",
   "name": "python",
   "nbconvert_exporter": "python",
   "pygments_lexer": "ipython3",
   "version": "3.7.4"
  }
 },
 "nbformat": 4,
 "nbformat_minor": 2
}
