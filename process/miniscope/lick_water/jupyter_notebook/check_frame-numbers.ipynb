{
 "cells": [
  {
   "cell_type": "code",
   "execution_count": 6,
   "metadata": {},
   "outputs": [],
   "source": [
    "import glob          \n",
    "import re            \n",
    "import os\n",
    "import cv2"
   ]
  },
  {
   "cell_type": "code",
   "execution_count": null,
   "metadata": {},
   "outputs": [],
   "source": [
    "videopath = r\"Y:\\ZhuXinyue\\003_VR\\003_2_Miniscope\\Behavior\\Z1_3_6\\H14*\\*.avi\"\n",
    "videoList = glob.glob(videopath)\n",
    "def framecount(videopath):\n",
    "    video_cap = cv2.VideoCapture(videopath) \n",
    "    frame_count = 0\n",
    "    while(True):\n",
    "        ret,frame = video_cap.read()\n",
    "        if ret:\n",
    "            frame_count = frame_count + 1 \n",
    "        else:\n",
    "            print(\">\", end=\" \")\n",
    "            break            \n",
    "    print(frame_count)\n",
    "for video in videoList:\n",
    "    print(video)\n",
    "    framecount(video)\n",
    "#     cap = cv2.VideoCapture(video)\n",
    "#     print(os.path.basename(video),end=' ')\n",
    "#     print(int(cap.get(7)))"
   ]
  },
  {
   "cell_type": "code",
   "execution_count": 14,
   "metadata": {},
   "outputs": [],
   "source": [
    "video_cap = cv2.VideoCapture(video)"
   ]
  },
  {
   "cell_type": "code",
   "execution_count": 16,
   "metadata": {},
   "outputs": [],
   "source": [
    "ret,frame = video_cap.read()"
   ]
  },
  {
   "cell_type": "code",
   "execution_count": 17,
   "metadata": {},
   "outputs": [
    {
     "name": "stdout",
     "output_type": "stream",
     "text": [
      "True\n"
     ]
    }
   ],
   "source": [
    "print(ret)"
   ]
  }
 ],
 "metadata": {
  "kernelspec": {
   "display_name": "Python 3",
   "language": "python",
   "name": "python3"
  },
  "language_info": {
   "codemirror_mode": {
    "name": "ipython",
    "version": 3
   },
   "file_extension": ".py",
   "mimetype": "text/x-python",
   "name": "python",
   "nbconvert_exporter": "python",
   "pygments_lexer": "ipython3",
   "version": "3.7.4"
  }
 },
 "nbformat": 4,
 "nbformat_minor": 2
}
