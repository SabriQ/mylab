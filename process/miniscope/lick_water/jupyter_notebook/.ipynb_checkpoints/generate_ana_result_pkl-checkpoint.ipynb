{
 "cells": [
  {
   "cell_type": "code",
   "execution_count": 3,
   "metadata": {},
   "outputs": [],
   "source": [
    "from mylab.process.miniscope.CminiLWresult import MiniLWResult as LWR\n",
    "import os,sys,glob"
   ]
  },
  {
   "cell_type": "code",
   "execution_count": 5,
   "metadata": {},
   "outputs": [
    {
     "data": {
      "text/plain": [
       "['Z:\\\\QiuShou\\\\mouse_info\\\\191172_info.txt',\n",
       " 'Z:\\\\QiuShou\\\\mouse_info\\\\191173_info.txt']"
      ]
     },
     "execution_count": 5,
     "metadata": {},
     "output_type": "execute_result"
    }
   ],
   "source": [
    "mouse_info_pathes = glob.glob(\"Z:\\QiuShou\\mouse_info\\*.txt\")\n",
    "mouse_info_pathes"
   ]
  },
  {
   "cell_type": "code",
   "execution_count": 6,
   "metadata": {},
   "outputs": [
    {
     "data": {
      "text/plain": [
       "['Z:\\\\XuChun\\\\Lab Projects\\\\01_Intra Hippocampus\\\\Miniscope_Linear_Track\\\\Results_191172\\\\20191110_160835_20191028-1102all',\n",
       " 'Z:\\\\XuChun\\\\Lab Projects\\\\01_Intra Hippocampus\\\\Miniscope_Linear_Track\\\\Results_191173\\\\20191110_160946_20191028-1102all',\n",
       " 'Z:\\\\XuChun\\\\Lab Projects\\\\01_Intra Hippocampus\\\\Miniscope_Linear_Track\\\\Results_191174\\\\20191110_161017_all']"
      ]
     },
     "execution_count": 6,
     "metadata": {},
     "output_type": "execute_result"
    }
   ],
   "source": [
    "cnmf_result_dirs = glob.glob(r\"Z:\\XuChun\\Lab Projects\\01_Intra Hippocampus\\Miniscope_Linear_Track\\Results_19117*\\*all\")\n",
    "cnmf_result_dirs"
   ]
  },
  {
   "cell_type": "code",
   "execution_count": null,
   "metadata": {},
   "outputs": [],
   "source": [
    "lw_result = MiniLWResult(mouse_info_path=r\"Z:\\QiuShou\\mouse_info\\191173_info.txt\"\n",
    "    ,cnmf_result_dir = r\"Z:\\XuChun\\Lab Projects\\01_Intra Hippocampus\\Miniscope_Linear_Track\\Results_191173\\20191110_160946_20191028-1102all\"\n",
    "    ,behave_dir= r\"X:\\miniscope\\2019*\\191173\")\n",
    "lw_result.run()"
   ]
  }
 ],
 "metadata": {
  "kernelspec": {
   "display_name": "Python 3",
   "language": "python",
   "name": "python3"
  },
  "language_info": {
   "codemirror_mode": {
    "name": "ipython",
    "version": 3
   },
   "file_extension": ".py",
   "mimetype": "text/x-python",
   "name": "python",
   "nbconvert_exporter": "python",
   "pygments_lexer": "ipython3",
   "version": "3.7.5"
  }
 },
 "nbformat": 4,
 "nbformat_minor": 4
}
