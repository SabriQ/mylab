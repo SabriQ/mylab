{
 "cells": [
  {
   "cell_type": "code",
   "execution_count": 4,
   "metadata": {},
   "outputs": [],
   "source": [
    "import glob          \n",
    "import re            \n",
    "import os\n",
    "import numpy as np\n",
    "import pandas as pd\n",
    "import cv2"
   ]
  },
  {
   "cell_type": "code",
   "execution_count": 2,
   "metadata": {},
   "outputs": [
    {
     "name": "stdout",
     "output_type": "stream",
     "text": [
      "['W:\\\\qiushou\\\\miniscope\\\\20191028\\\\191174\\\\H22_M12_S7\\\\timestamp.dat', 'W:\\\\qiushou\\\\miniscope\\\\20191028\\\\191174\\\\H22_M22_S45\\\\timestamp.dat', 'W:\\\\qiushou\\\\miniscope\\\\20191029\\\\191174\\\\H11_M42_S9\\\\timestamp.dat', 'W:\\\\qiushou\\\\miniscope\\\\20191029\\\\191174\\\\H11_M53_S8\\\\timestamp.dat', 'W:\\\\qiushou\\\\miniscope\\\\20191030\\\\191174\\\\H14_M7_S19\\\\timestamp.dat', 'W:\\\\qiushou\\\\miniscope\\\\20191030\\\\191174\\\\H14_M16_S8\\\\timestamp.dat', 'W:\\\\qiushou\\\\miniscope\\\\20191031\\\\191174\\\\H13_M16_S10\\\\timestamp.dat', 'W:\\\\qiushou\\\\miniscope\\\\20191031\\\\191174\\\\H13_M28_S36\\\\timestamp.dat', 'W:\\\\qiushou\\\\miniscope\\\\20191101\\\\191174\\\\H21_M3_S32\\\\timestamp.dat', 'W:\\\\qiushou\\\\miniscope\\\\20191101\\\\191174\\\\H21_M11_S24\\\\timestamp.dat', 'W:\\\\qiushou\\\\miniscope\\\\20191102\\\\191174\\\\H15_M33_S36\\\\timestamp.dat', 'W:\\\\qiushou\\\\miniscope\\\\20191102\\\\191174\\\\H15_M41_S30\\\\timestamp.dat']\n"
     ]
    }
   ],
   "source": [
    "animal_id = '191174' \n",
    "resultDir = 'G:\\data\\miniscope'\n",
    "tsFileList = glob.glob(os.path.join(r'W:\\qiushou\\miniscope\\2019*'\n",
    "                                    ,animal_id     \n",
    "                                    ,\"H*/timestamp.dat\"))\n",
    "def sort_key(s):     \n",
    "    if s:            \n",
    "        try:         \n",
    "            date = re.findall('\\d{8}', s)[0]\n",
    "        except:      \n",
    "            date = -1            \n",
    "        try:         \n",
    "            H = re.findall('H(\\d+)',s)[0]\n",
    "        except:      \n",
    "            H = -1            \n",
    "        try:         \n",
    "            M = re.findall('M(\\d+)',s)[0]\n",
    "        except:      \n",
    "            M = -1            \n",
    "        try:         \n",
    "            S = re.findall('S(\\d+)',s)[0]\n",
    "        except:      \n",
    "            S = -1            \n",
    "        try:         \n",
    "            ms = re.findall('msCam(\\d+)',s)[0]\n",
    "        except:      \n",
    "            ms = -1  \n",
    "        return [int(date),int(H),int(M),int(S),int(ms)]\n",
    "tsFileList.sort(key=sort_key)\n",
    "tsFileList = [i for i in tsFileList if '2019111' not in i]\n",
    "print(tsFileList)"
   ]
  },
  {
   "cell_type": "code",
   "execution_count": 52,
   "metadata": {},
   "outputs": [
    {
     "name": "stdout",
     "output_type": "stream",
     "text": [
      "['W:\\\\qiushou\\\\miniscope\\\\20191101\\\\191174\\\\H21_M11_S24\\\\reject-msCam11.avi']\n"
     ]
    }
   ],
   "source": [
    "reject_video = glob.glob(r'W:\\qiushou\\miniscope\\*\\*\\*\\*r*.avi')\n",
    "\n",
    "print(reject_video)"
   ]
  },
  {
   "cell_type": "code",
   "execution_count": 48,
   "metadata": {},
   "outputs": [
    {
     "name": "stdout",
     "output_type": "stream",
     "text": [
      ">>>>>>>>>>W:\\qiushou\\miniscope\\20191101\\191174\\H21_M11_S24\\reject-msCam11.avi\n",
      ">>"
     ]
    }
   ],
   "source": [
    "for tsFile in tsFileList:\n",
    "    print(\">\",end=\"\")\n",
    "    ts = pd.read_csv(tsFile,sep = \"\\t\", header = 0)\n",
    "    ts_len=ts.shape[0]    \n",
    "    \n",
    "    videoFileList=glob.glob(os.path.dirname(tsFile)+'\\*.avi')   \n",
    "    framenum=[]\n",
    "    for video in videoFileList:\n",
    "        if \"reject\" in video:\n",
    "            print(video)\n",
    "#             print(\"<\",end=\"\")\n",
    "#             cap = cv2.VideoCapture(video)\n",
    "#             framenum.append(int(cap.get(7)))\n",
    "#             cap.release()\n",
    "#     print([ts_len,sum(framenum)])"
   ]
  },
  {
   "cell_type": "code",
   "execution_count": 35,
   "metadata": {},
   "outputs": [
    {
     "name": "stdout",
     "output_type": "stream",
     "text": [
      ">>>\n",
      "W:\\qiushou\\miniscope\\20191028\\191174\\H22_M12_S7\\timestamp.dat\n",
      ">>>\n",
      "W:\\qiushou\\miniscope\\20191028\\191174\\H22_M22_S45\\timestamp.dat\n",
      ">>>\n",
      "W:\\qiushou\\miniscope\\20191029\\191174\\H11_M42_S9\\timestamp.dat\n",
      ">>>\n",
      "W:\\qiushou\\miniscope\\20191029\\191174\\H11_M53_S8\\timestamp.dat\n",
      ">>>\n",
      "W:\\qiushou\\miniscope\\20191030\\191174\\H14_M7_S19\\timestamp.dat\n",
      ">>>\n",
      "W:\\qiushou\\miniscope\\20191030\\191174\\H14_M16_S8\\timestamp.dat\n",
      ">>>\n",
      "W:\\qiushou\\miniscope\\20191031\\191174\\H13_M16_S10\\timestamp.dat\n",
      ">>>\n",
      "W:\\qiushou\\miniscope\\20191031\\191174\\H13_M28_S36\\timestamp.dat\n",
      ">>>\n",
      "W:\\qiushou\\miniscope\\20191101\\191174\\H21_M3_S32\\timestamp.dat\n",
      ">>>\n",
      "W:\\qiushou\\miniscope\\20191101\\191174\\H21_M11_S24\\timestamp.dat\n",
      ">>>\n",
      "W:\\qiushou\\miniscope\\20191102\\191174\\H15_M33_S36\\timestamp.dat\n",
      ">>>\n",
      "W:\\qiushou\\miniscope\\20191102\\191174\\H15_M41_S30\\timestamp.dat\n",
      "188285\n"
     ]
    }
   ],
   "source": [
    "ts_lens=[]\n",
    "for tsFile in tsFileList:\n",
    "    print(\">>>\")\n",
    "    print(tsFile)\n",
    "    ts = pd.read_csv(tsFile,sep = \"\\t\", header = 0)\n",
    "    ts_lens.append(ts.shape[0])\n",
    "print(sum(ts_lens))"
   ]
  },
  {
   "cell_type": "code",
   "execution_count": 38,
   "metadata": {},
   "outputs": [
    {
     "data": {
      "text/plain": [
       "62761.0"
      ]
     },
     "execution_count": 38,
     "metadata": {},
     "output_type": "execute_result"
    }
   ],
   "source": [
    "(188285-2)/3"
   ]
  }
 ],
 "metadata": {
  "kernelspec": {
   "display_name": "Python 3",
   "language": "python",
   "name": "python3"
  },
  "language_info": {
   "codemirror_mode": {
    "name": "ipython",
    "version": 3
   },
   "file_extension": ".py",
   "mimetype": "text/x-python",
   "name": "python",
   "nbconvert_exporter": "python",
   "pygments_lexer": "ipython3",
   "version": "3.7.4"
  }
 },
 "nbformat": 4,
 "nbformat_minor": 2
}
